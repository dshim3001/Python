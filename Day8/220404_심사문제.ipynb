{
 "cells": [
  {
   "cell_type": "markdown",
   "metadata": {},
   "source": [
    "### 38.7 심사문제: 회문이 아니면 예외 발생시키기 "
   ]
  },
  {
   "cell_type": "code",
   "execution_count": 3,
   "metadata": {},
   "outputs": [],
   "source": [
    "# 표준 입력으로 문자열이 입력됩니다. \n",
    "# 다음 소스 코드를 완성하여 입력된 문자열이 회문이면 문자열을 그대로 출력하고, \n",
    "# 회문이 아니면 '회문이 아닙니다.'를 출력하도록 만드세요. \n",
    "# palindrome 함수와 NotPalindromeError 예외를 작성해야 합니다.\n",
    "\n",
    "class NotPalindromeError(Exception):\n",
    "    def __init__(self):\n",
    "        super().__init__('회문이 아닙니다.')\n",
    "\n",
    "def palindrome(s):\n",
    "    if s != s[::-1]:\n",
    "        raise(NotPalindromeError)\n",
    "    print(s)\n",
    "\n"
   ]
  },
  {
   "cell_type": "code",
   "execution_count": 5,
   "metadata": {},
   "outputs": [
    {
     "name": "stdout",
     "output_type": "stream",
     "text": [
      "회문이 아닙니다.\n"
     ]
    }
   ],
   "source": [
    "try:\n",
    "    word = input()\n",
    "    palindrome(word)\n",
    "except NotPalindromeError as e:\n",
    "    print(e)"
   ]
  },
  {
   "cell_type": "markdown",
   "metadata": {},
   "source": [
    "### 43.6 심사문제: URL 검사하기\n",
    "<pre>\n",
    "표준 입력으로 URL 문자열이 입력 입력됩니다. 입력된 URL이 올바르면 True, 잘못되었으면 False를 출력하는 프로그램을 만드세요. 이 심사문제에서 판단해야 할 URL의 규칙은 다음과 같습니다.\n",
    "    - http:// 또는 https://로 시작\n",
    "    - 도메인은 도메인.최상위도메인 형식이며 영문 대소문자, 숫자, -로 되어 있어야 함\n",
    "    - 도메인 이하 경로는 /로 구분하고, 영문 대소문자, 숫자, -, _, ., ?, =을 사용함\n",
    "</pre>"
   ]
  },
  {
   "cell_type": "code",
   "execution_count": 7,
   "metadata": {},
   "outputs": [
    {
     "name": "stdout",
     "output_type": "stream",
     "text": [
      "False "
     ]
    }
   ],
   "source": [
    "import re\n",
    "\n",
    "url = input()\n",
    "p = re.compile('^[https?://]+[a-zA-Z0-9-]+\\.[a-zA-Z0-9-.]+/[a-zA-Z0-9-_/.?=]*')\n",
    "print(p.match(url) != None, end=' ')"
   ]
  },
  {
   "cell_type": "markdown",
   "metadata": {},
   "source": [
    "### 44.6 심사문제: 원의 넓이 구하기"
   ]
  },
  {
   "cell_type": "code",
   "execution_count": 11,
   "metadata": {},
   "outputs": [
    {
     "name": "stdout",
     "output_type": "stream",
     "text": [
      "19.634954084936208\n"
     ]
    }
   ],
   "source": [
    "# 표준 입력으로 원의 반지름(실수)이 입력됩니다. \n",
    "# 입력된 반지름을 이용하여 원의 넓이를 출력하는 프로그램을 만드세요\n",
    "# (input에서 안내 문자열은 출력하지 않아야 합니다). \n",
    "# 원의 넓이는 반지름 * 반지름 * 원주율로 구합니다.\n",
    "\n",
    "import math as m \n",
    "\n",
    "r = float(input())\n",
    "circle_area = m.pi * (r ** 2)\n",
    "print(circle_area)\n"
   ]
  },
  {
   "cell_type": "markdown",
   "metadata": {},
   "source": [
    "### 45.7 심사문제: 패키지 사용하기"
   ]
  },
  {
   "cell_type": "code",
   "execution_count": 13,
   "metadata": {},
   "outputs": [
    {
     "name": "stdout",
     "output_type": "stream",
     "text": [
      "1.4142135623730951\n",
      "12.566370614359172\n"
     ]
    }
   ],
   "source": [
    "# 표준 입력으로 정수가 입력됩니다. \n",
    "# 주어진 calcpkg 패키지를 활용하여 입력된 정수의 제곱근과 \n",
    "# 입력된 정수를 반지름으로 하는 원의 넓이가 출력되게 만드세요. \n",
    "# 제곱근은 calcpkg 패키지에서 operation 모듈의 squareroot 함수를 사용하고, \n",
    "# 원의 넓이는 calcpkg 패키지에서 geometry 모듈의 circle_area 함수를 사용하세요\n",
    "# (calcpkg 패키지를 사용하지 않고 계산하면 결과가 맞더라도 틀린 것으로 처리됩니다. \n",
    "# 반드시 calcpkg 패키지를 사용하세요).\n",
    "\n",
    "from calcpkg.operation import squareroot as sq\n",
    "from calcpkg.geometry import circle_area as ca\n",
    "\n",
    "r = int(input())\n",
    "\n",
    "print(sq(r))\n",
    "print(ca(r))"
   ]
  },
  {
   "cell_type": "code",
   "execution_count": null,
   "metadata": {},
   "outputs": [],
   "source": []
  }
 ],
 "metadata": {
  "interpreter": {
   "hash": "0e57b3e1c71b752f2155407481283ac520614bed1fdf3f32bca2723a92a6c7b4"
  },
  "kernelspec": {
   "display_name": "Python 3.9.7 ('base')",
   "language": "python",
   "name": "python3"
  },
  "language_info": {
   "codemirror_mode": {
    "name": "ipython",
    "version": 3
   },
   "file_extension": ".py",
   "mimetype": "text/x-python",
   "name": "python",
   "nbconvert_exporter": "python",
   "pygments_lexer": "ipython3",
   "version": "3.9.7"
  },
  "orig_nbformat": 4
 },
 "nbformat": 4,
 "nbformat_minor": 2
}
