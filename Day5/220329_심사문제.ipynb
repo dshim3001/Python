{
 "cells": [
  {
   "cell_type": "markdown",
   "metadata": {},
   "source": [
    "### 24.5 심사문제: 특정 단어 개수 세기"
   ]
  },
  {
   "cell_type": "code",
   "execution_count": 15,
   "metadata": {},
   "outputs": [
    {
     "name": "stdout",
     "output_type": "stream",
     "text": [
      "6\n"
     ]
    }
   ],
   "source": [
    "# 표준 입력으로 문자열이 입력됩니다. \n",
    "# 입력된 문자열에서 'the'의 개수를 출력하는 프로그램을 만드세요\n",
    "# (input에서 안내 문자열은 출력하지 않아야 합니다). \n",
    "# 단, 모든 문자가 소문자인 'the'만 찾으면 되며 \n",
    "# 'them', 'there', 'their' 등은 포함하지 않아야 합니다.\n",
    "\n",
    "import re\n",
    "s = input()\n",
    "s = re.sub('[^A-Za-z ]', ' ', s)  \n",
    "d = s.split()\n",
    "count = 0\n",
    "\n",
    "for i in range(len(d)):\n",
    "    if d[i] == 'the':\n",
    "        count += 1\n",
    "print(count)"
   ]
  },
  {
   "cell_type": "markdown",
   "metadata": {},
   "source": [
    "### 24.6 심사문제: 높은 가격 순으로 출력하기"
   ]
  },
  {
   "cell_type": "code",
   "execution_count": 21,
   "metadata": {},
   "outputs": [
    {
     "name": "stdout",
     "output_type": "stream",
     "text": [
      "1,304,000\n",
      "  367,500\n",
      "  250,000\n",
      "  158,000\n",
      "  128,500\n",
      "   83,000\n",
      "   59,200\n",
      "   51,900\n"
     ]
    }
   ],
   "source": [
    "# 표준 입력으로 물품 가격 여러 개가 문자열 한 줄로 입력되고, \n",
    "# 각 가격은 ;(세미콜론)으로 구분되어 있습니다. \n",
    "# 입력된 가격을 높은 가격순으로 출력하는 프로그램을 만드세요\n",
    "# (input에서 안내 문자열은 출력하지 않아야 합니다). \n",
    "# 이때 가격은 길이를 9로 만든 뒤 \n",
    "# 오른쪽으로 정렬하고 천단위로 ,(콤마)를 넣으세요.\n",
    "\n",
    "s = input()\n",
    "d = s.split(';')\n",
    "price = []\n",
    "for i in range(len(d)):\n",
    "    price.append(int(d[i]))\n",
    "\n",
    "price.sort(reverse=True)\n",
    "for k in range(len(price)):\n",
    "    print(f'{price[k]:9,d}')\n"
   ]
  },
  {
   "cell_type": "markdown",
   "metadata": {},
   "source": [
    "### 25.8 심사문제: 딕셔너리에서 특정 값 삭제하기"
   ]
  },
  {
   "cell_type": "code",
   "execution_count": 48,
   "metadata": {},
   "outputs": [
    {
     "name": "stdout",
     "output_type": "stream",
     "text": [
      "{'bravo': 40, 'charlie': 50, 'echo': 70, 'foxtrot': 80, 'golf': 90}\n"
     ]
    }
   ],
   "source": [
    "# 표준 입력으로 문자열 여러 개와 숫자 여러 개가 두 줄로 입력되고, \n",
    "# 첫 번째 줄은 키, 두 번째 줄은 값으로 하여 딕셔너리를 생성합니다. \n",
    "# 다음 코드를 완성하여 딕셔너리에서 \n",
    "# 키가 'delta'인 키-값 쌍과 값이 30인 키-값 쌍을 삭제하도록 만드세요.\n",
    "\n",
    "keys = input().split()\n",
    "values = map(int, input().split())\n",
    "x = dict(zip(keys, values))\n",
    "\n",
    "for key in list(x.keys()):          # 왜 x.keys()에 list를 씌워야 하나요???\n",
    "    if key == 'delta':              # x.keys()만 사용할 경우 Key Error가 발생합니다\n",
    "        del x[key]\n",
    "    elif x[key] == 30:\n",
    "        del x[key]\n",
    "\n",
    "print(x)"
   ]
  },
  {
   "cell_type": "markdown",
   "metadata": {},
   "source": [
    "### 26.9 심사문제: 공약수 구하기"
   ]
  },
  {
   "cell_type": "code",
   "execution_count": 54,
   "metadata": {},
   "outputs": [
    {
     "name": "stdout",
     "output_type": "stream",
     "text": [
      "18\n"
     ]
    }
   ],
   "source": [
    "# 표준 입력으로 양의 정수 두 개가 입력됩니다. \n",
    "# 다음 소스 코드를 완성하여 두 숫자의 공약수를 세트 형태로 구하도록 만드세요. \n",
    "# 단, 최종 결과는 공약수의 합으로 판단합니다.\n",
    "\n",
    "num1, num2 = map(int, input().split())\n",
    "a = []\n",
    "b = []\n",
    "\n",
    "{a.append(i) for i in range(1,num1+1) if num1 % i== 0}\n",
    "{b.append(i) for i in range(1,num2+1) if num2 % i == 0}\n",
    "\n",
    "a = set(a)\n",
    "b = set(b)\n",
    "\n",
    "divisor = a & by\n",
    " \n",
    "result = 0\n",
    "if type(divisor) == set:\n",
    "    result = sum(divisor)\n",
    " \n",
    "print(result)\n"
   ]
  },
  {
   "cell_type": "code",
   "execution_count": null,
   "metadata": {},
   "outputs": [],
   "source": []
  }
 ],
 "metadata": {
  "interpreter": {
   "hash": "0e57b3e1c71b752f2155407481283ac520614bed1fdf3f32bca2723a92a6c7b4"
  },
  "kernelspec": {
   "display_name": "Python 3.9.7 ('base')",
   "language": "python",
   "name": "python3"
  },
  "language_info": {
   "name": "python",
   "version": "3.9.7"
  },
  "orig_nbformat": 4
 },
 "nbformat": 4,
 "nbformat_minor": 2
}
