{
  "nbformat": 4,
  "nbformat_minor": 0,
  "metadata": {
    "colab": {
      "name": "u15_조건문_elif.ipynb",
      "provenance": []
    },
    "kernelspec": {
      "name": "python3",
      "display_name": "Python 3"
    },
    "language_info": {
      "name": "python"
    }
  },
  "cells": [
    {
      "cell_type": "markdown",
      "source": [
        "# Unit 15. 조건문 elif"
      ],
      "metadata": {
        "id": "9jAbT-0P8JKQ"
      }
    },
    {
      "cell_type": "code",
      "execution_count": 1,
      "metadata": {
        "id": "IJln_zrO7AvR"
      },
      "outputs": [],
      "source": [
        "import random"
      ]
    },
    {
      "cell_type": "code",
      "source": [
        "# 90점 이상 A, 80 B, 70 C, 60 D, 나머지 F\n",
        "score = random.randint(40,100)\n",
        "if score >= 90:\n",
        "    grade = 'A'\n",
        "elif score >= 80:\n",
        "    grade = 'B'\n",
        "elif score >= 70:\n",
        "    grade = 'C'\n",
        "elif score >= 60:\n",
        "    grade = 'D'\n",
        "else:\n",
        "    grade = 'F'\n",
        "print(score, grade)"
      ],
      "metadata": {
        "colab": {
          "base_uri": "https://localhost:8080/"
        },
        "id": "RNTR5QWA8r7U",
        "outputId": "31ef81fa-0034-4046-f25a-7bada1f9820a"
      },
      "execution_count": 9,
      "outputs": [
        {
          "output_type": "stream",
          "name": "stdout",
          "text": [
            "91 A\n"
          ]
        }
      ]
    },
    {
      "cell_type": "code",
      "source": [
        "score = random.randint(40,100)\n",
        "grade = 'A' if score >= 90 else \\\n",
        "            'B' if score >= 80 else \\\n",
        "                'C' if score >= 70 else \\\n",
        "                    'D' if score >= 60 else 'F'\n",
        "print(score, grade)"
      ],
      "metadata": {
        "colab": {
          "base_uri": "https://localhost:8080/"
        },
        "id": "Ai-5GJDs9IXG",
        "outputId": "c34fed2b-c919-482b-f782-5aea7f259af7"
      },
      "execution_count": 13,
      "outputs": [
        {
          "output_type": "stream",
          "name": "stdout",
          "text": [
            "92 A\n"
          ]
        }
      ]
    },
    {
      "cell_type": "markdown",
      "source": [
        "### 연습문제\n",
        "<pre>\n",
        "생일을 입력으로 받아 오늘 현재의 만 나이를 계산하세요\n",
        "</pre>"
      ],
      "metadata": {
        "id": "wuHFfEpp-fHq"
      }
    },
    {
      "cell_type": "code",
      "source": [
        "import datetime as dt\n",
        "today = dt.date.today()\n",
        "today.year, today.month, today.day"
      ],
      "metadata": {
        "colab": {
          "base_uri": "https://localhost:8080/"
        },
        "id": "G9I6lehv-LJe",
        "outputId": "1e6ad985-9d73-442f-c6e7-fd914dfb6002"
      },
      "execution_count": 15,
      "outputs": [
        {
          "output_type": "execute_result",
          "data": {
            "text/plain": [
              "(2022, 3, 25)"
            ]
          },
          "metadata": {},
          "execution_count": 15
        }
      ]
    },
    {
      "cell_type": "code",
      "source": [
        "birth_year, birth_month, birth_day = map(int, input('생년월일').split())\n",
        "# age = today.year - birth_year - 1"
      ],
      "metadata": {
        "colab": {
          "base_uri": "https://localhost:8080/"
        },
        "id": "GoSCKiZq-5xm",
        "outputId": "adf320cf-7e8c-4e4a-9111-94325c709f9a"
      },
      "execution_count": 16,
      "outputs": [
        {
          "name": "stdout",
          "output_type": "stream",
          "text": [
            "생년월일1991 10 14\n"
          ]
        }
      ]
    },
    {
      "cell_type": "code",
      "source": [
        "if today.month < birth_month:           # 생월이 아직 안 왔으면\n",
        "    age = today.year - birth_year - 1        \n",
        "elif today.month > birth_month:         # 생월이 지났으면\n",
        "    age = today.year - birth_year\n",
        "else:                                   # 생월이 같으면\n",
        "    if today.day < birth_day:              # 생일이 아직 안 왔으면\n",
        "        age = today.year - birth_year -1\n",
        "    else:                                   # 생일이 같거나 지났으면\n",
        "        age = today.year - birth_year\n",
        "print(birth_year, birth_month, birth_day, age)"
      ],
      "metadata": {
        "colab": {
          "base_uri": "https://localhost:8080/"
        },
        "id": "kjCrzJmwAkwd",
        "outputId": "a8e8f5ac-76cb-4b95-d170-88065cb6cf90"
      },
      "execution_count": 19,
      "outputs": [
        {
          "output_type": "stream",
          "name": "stdout",
          "text": [
            "1991 10 14 30\n"
          ]
        }
      ]
    },
    {
      "cell_type": "code",
      "source": [
        ""
      ],
      "metadata": {
        "id": "j4Iqj4VYCvSw"
      },
      "execution_count": null,
      "outputs": []
    }
  ]
}