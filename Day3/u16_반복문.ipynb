{
  "nbformat": 4,
  "nbformat_minor": 0,
  "metadata": {
    "colab": {
      "name": "u16_반복문.ipynb",
      "provenance": []
    },
    "kernelspec": {
      "name": "python3",
      "display_name": "Python 3"
    },
    "language_info": {
      "name": "python"
    }
  },
  "cells": [
    {
      "cell_type": "markdown",
      "source": [
        "# Unit 16. 반복문"
      ],
      "metadata": {
        "id": "XW1i8GfeHhvk"
      }
    },
    {
      "cell_type": "markdown",
      "source": [
        "### 16.1 for, range"
      ],
      "metadata": {
        "id": "CvZ4fq3dHlcc"
      }
    },
    {
      "cell_type": "code",
      "execution_count": 1,
      "metadata": {
        "colab": {
          "base_uri": "https://localhost:8080/"
        },
        "id": "dsgf1uK_G6ih",
        "outputId": "b93c5d6a-1002-4d67-c36f-4643a0fb8f12"
      },
      "outputs": [
        {
          "output_type": "stream",
          "name": "stdout",
          "text": [
            "Hello World!\n",
            "Hello World!\n",
            "Hello World!\n"
          ]
        }
      ],
      "source": [
        "for i in range(3):\n",
        "    print('Hello World!')"
      ]
    },
    {
      "cell_type": "code",
      "source": [
        "for i in range(3):\n",
        "    print('Hello', i)"
      ],
      "metadata": {
        "colab": {
          "base_uri": "https://localhost:8080/"
        },
        "id": "apxK2zlsIBkK",
        "outputId": "190719c1-5a36-49ca-91a3-bfb8047c6142"
      },
      "execution_count": 2,
      "outputs": [
        {
          "output_type": "stream",
          "name": "stdout",
          "text": [
            "Hello 0\n",
            "Hello 1\n",
            "Hello 2\n"
          ]
        }
      ]
    },
    {
      "cell_type": "markdown",
      "source": [
        "### 16.2 for, range 응용"
      ],
      "metadata": {
        "id": "-MCGLmPOLwQ8"
      }
    },
    {
      "cell_type": "code",
      "source": [
        "for i in range(5, 12):\n",
        "    print(i, end=' ')"
      ],
      "metadata": {
        "colab": {
          "base_uri": "https://localhost:8080/"
        },
        "id": "MOkNXITGINLB",
        "outputId": "ee645630-1844-4741-a872-15a399fecaf5"
      },
      "execution_count": 5,
      "outputs": [
        {
          "output_type": "stream",
          "name": "stdout",
          "text": [
            "5 6 7 8 9 10 11 "
          ]
        }
      ]
    },
    {
      "cell_type": "code",
      "source": [
        "for i in range(10, 0, -1):\n",
        "    print(i, end=' ')"
      ],
      "metadata": {
        "colab": {
          "base_uri": "https://localhost:8080/"
        },
        "id": "cRZjAPzvKj-K",
        "outputId": "f38fdd34-f6df-4abf-9641-71518273343e"
      },
      "execution_count": 6,
      "outputs": [
        {
          "output_type": "stream",
          "name": "stdout",
          "text": [
            "10 9 8 7 6 5 4 3 2 1 "
          ]
        }
      ]
    },
    {
      "cell_type": "code",
      "source": [
        "# Loop 안에서 index 값이 필요하지 않으면 i 대신 _를 쓸 수 있다\n",
        "for _ in range(3):\n",
        "    print('Hello')"
      ],
      "metadata": {
        "colab": {
          "base_uri": "https://localhost:8080/"
        },
        "id": "o-MWbZefKqkb",
        "outputId": "bb21f2f4-eba8-4f51-c87a-8e29b12eda9c"
      },
      "execution_count": 7,
      "outputs": [
        {
          "output_type": "stream",
          "name": "stdout",
          "text": [
            "Hello\n",
            "Hello\n",
            "Hello\n"
          ]
        }
      ]
    },
    {
      "cell_type": "code",
      "source": [
        "# X_train, X_test, y_train, _ = train_test_split()\n",
        "# For-loop에서는 loop 안에서 index 값을 변경시키지 말 것\n"
      ],
      "metadata": {
        "id": "JaLikU_uLfEK"
      },
      "execution_count": null,
      "outputs": []
    },
    {
      "cell_type": "code",
      "source": [
        "count = int(input())\n",
        "for i in range(count):          #count가 0이면 반복하지 않는다\n",
        "    print(i, end=' ')"
      ],
      "metadata": {
        "colab": {
          "base_uri": "https://localhost:8080/"
        },
        "id": "dkC3w__rNaky",
        "outputId": "5cb0e0e4-5b78-4927-c036-ba6688a05ed9"
      },
      "execution_count": 8,
      "outputs": [
        {
          "name": "stdout",
          "output_type": "stream",
          "text": [
            "0\n"
          ]
        }
      ]
    },
    {
      "cell_type": "markdown",
      "source": [
        "### 16.3 시퀀스 객체로 반복"
      ],
      "metadata": {
        "id": "K2zLNhwYNqQ1"
      }
    },
    {
      "cell_type": "code",
      "source": [
        "a = [10, 20, 30, 40, 50]\n",
        "for i in a:\n",
        "    print(i, end=' ')"
      ],
      "metadata": {
        "colab": {
          "base_uri": "https://localhost:8080/"
        },
        "id": "ShlTUjdmNn8U",
        "outputId": "952a935a-0daf-47c2-9b07-1239f1eac57b"
      },
      "execution_count": 9,
      "outputs": [
        {
          "output_type": "stream",
          "name": "stdout",
          "text": [
            "10 20 30 40 50 "
          ]
        }
      ]
    },
    {
      "cell_type": "code",
      "source": [
        "fruits = ('apple', 'pear', 'persimmon', 'orange')\n",
        "for fruit in fruits:\n",
        "    print(fruit)"
      ],
      "metadata": {
        "colab": {
          "base_uri": "https://localhost:8080/"
        },
        "id": "bIjdBQjdNz88",
        "outputId": "4bb77793-2a65-44ea-af33-371d7b477e9b"
      },
      "execution_count": 10,
      "outputs": [
        {
          "output_type": "stream",
          "name": "stdout",
          "text": [
            "apple\n",
            "pear\n",
            "persimmon\n",
            "orange\n"
          ]
        }
      ]
    },
    {
      "cell_type": "code",
      "source": [
        "for letter in 'python':\n",
        "    print(letter, end=' ')"
      ],
      "metadata": {
        "colab": {
          "base_uri": "https://localhost:8080/"
        },
        "id": "vB914x8LN94b",
        "outputId": "2a5622c6-5936-4243-8100-d2e17f706377"
      },
      "execution_count": 11,
      "outputs": [
        {
          "output_type": "stream",
          "name": "stdout",
          "text": [
            "p y t h o n "
          ]
        }
      ]
    },
    {
      "cell_type": "code",
      "source": [
        "for letter in reversed('python'):\n",
        "    print(letter, end=' ')"
      ],
      "metadata": {
        "colab": {
          "base_uri": "https://localhost:8080/"
        },
        "id": "EQI3aAHZOcPM",
        "outputId": "583bb63b-3ea3-4079-eba3-33c4f948b44c"
      },
      "execution_count": 12,
      "outputs": [
        {
          "output_type": "stream",
          "name": "stdout",
          "text": [
            "n o h t y p "
          ]
        }
      ]
    },
    {
      "cell_type": "code",
      "source": [
        "# 1~100 sum\n",
        "sum100 = 0\n",
        "for i in range(1,101):\n",
        "    sum100 +=i\n",
        "print(sum100)"
      ],
      "metadata": {
        "colab": {
          "base_uri": "https://localhost:8080/"
        },
        "id": "jdBSjC0GOga1",
        "outputId": "19cc1b8c-254b-432f-bf1f-119716d4b031"
      },
      "execution_count": 13,
      "outputs": [
        {
          "output_type": "stream",
          "name": "stdout",
          "text": [
            "5050\n"
          ]
        }
      ]
    },
    {
      "cell_type": "code",
      "source": [
        "# 1에서 10까지 sqrt 값을 갖는 리스트를 만드세요\n",
        "import math\n",
        "sqrt = []\n",
        "for i in range(1,11):\n",
        "    sqrt.append(round(math.sqrt(i),4))\n",
        "print(sqrt)"
      ],
      "metadata": {
        "colab": {
          "base_uri": "https://localhost:8080/"
        },
        "id": "Ju9w3zx3PBTk",
        "outputId": "b17f5e0a-6358-43a5-f2b5-aea0ef315e82"
      },
      "execution_count": 14,
      "outputs": [
        {
          "output_type": "stream",
          "name": "stdout",
          "text": [
            "[1.0, 1.4142, 1.7321, 2.0, 2.2361, 2.4495, 2.6458, 2.8284, 3.0, 3.1623]\n"
          ]
        }
      ]
    },
    {
      "cell_type": "code",
      "source": [
        ""
      ],
      "metadata": {
        "id": "Eadu5dcbP6C2"
      },
      "execution_count": null,
      "outputs": []
    }
  ]
}