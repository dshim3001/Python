{
  "nbformat": 4,
  "nbformat_minor": 0,
  "metadata": {
    "colab": {
      "name": "u17_while.ipynb",
      "provenance": []
    },
    "kernelspec": {
      "name": "python3",
      "display_name": "Python 3"
    },
    "language_info": {
      "name": "python"
    }
  },
  "cells": [
    {
      "cell_type": "markdown",
      "source": [
        "# Unit 17. while 반복문"
      ],
      "metadata": {
        "id": "40GdnfP7dmff"
      }
    },
    {
      "cell_type": "markdown",
      "source": [
        "### 17.2 while 반복문"
      ],
      "metadata": {
        "id": "HLq9X5-jfliK"
      }
    },
    {
      "cell_type": "code",
      "execution_count": 1,
      "metadata": {
        "colab": {
          "base_uri": "https://localhost:8080/"
        },
        "id": "ZIILLJfsdWSh",
        "outputId": "9c7209e1-71cb-4224-cbf4-8193793bc1d6"
      },
      "outputs": [
        {
          "output_type": "stream",
          "name": "stdout",
          "text": [
            "Hello World 0\n",
            "Hello World 1\n",
            "Hello World 2\n",
            "Hello World 3\n",
            "Hello World 4\n"
          ]
        }
      ],
      "source": [
        "i = 0           # while은 반복횟수 정해지지 않았을 때 씀\n",
        "while i < 5:\n",
        "    print('Hello World', i)\n",
        "    i += 1"
      ]
    },
    {
      "cell_type": "markdown",
      "source": [
        "### 17.2 반복횟수가 정해져 있지 않은 경우"
      ],
      "metadata": {
        "id": "qQxoLhGefh4v"
      }
    },
    {
      "cell_type": "code",
      "source": [
        "import random"
      ],
      "metadata": {
        "id": "ffnDdlNnfg6-"
      },
      "execution_count": 2,
      "outputs": []
    },
    {
      "cell_type": "code",
      "source": [
        "dice = 0\n",
        "while dice != 3:\n",
        "    dice = random.randint(1,6)\n",
        "    print(dice, end=' ')"
      ],
      "metadata": {
        "colab": {
          "base_uri": "https://localhost:8080/"
        },
        "id": "QYMJcn-8f0rc",
        "outputId": "ca84eea9-8f16-4aca-8b72-2bb79c5b1ffe"
      },
      "execution_count": 4,
      "outputs": [
        {
          "output_type": "stream",
          "name": "stdout",
          "text": [
            "4 6 4 6 1 1 4 1 3 "
          ]
        }
      ]
    },
    {
      "cell_type": "code",
      "source": [
        "while True:         # 무한루프\n",
        "    dice = random.randint(1,6)\n",
        "    print(dice, end=' ')\n",
        "    if dice == 3:\n",
        "        break"
      ],
      "metadata": {
        "colab": {
          "base_uri": "https://localhost:8080/"
        },
        "id": "SqcFlkxhgAQ0",
        "outputId": "7c81adbc-2343-47e2-efb5-a52b5af313f8"
      },
      "execution_count": 5,
      "outputs": [
        {
          "output_type": "stream",
          "name": "stdout",
          "text": [
            "4 6 1 5 5 3 "
          ]
        }
      ]
    },
    {
      "cell_type": "code",
      "source": [
        ""
      ],
      "metadata": {
        "id": "sQkH3pBugl1d"
      },
      "execution_count": null,
      "outputs": []
    }
  ]
}