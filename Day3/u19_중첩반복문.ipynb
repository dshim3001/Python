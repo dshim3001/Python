{
  "nbformat": 4,
  "nbformat_minor": 0,
  "metadata": {
    "colab": {
      "name": "u19_중첩반복문.ipynb",
      "provenance": []
    },
    "kernelspec": {
      "name": "python3",
      "display_name": "Python 3"
    },
    "language_info": {
      "name": "python"
    }
  },
  "cells": [
    {
      "cell_type": "markdown",
      "source": [
        "# Unit 19. 중첩(Nested) 반복문"
      ],
      "metadata": {
        "id": "X2e6AEailNug"
      }
    },
    {
      "cell_type": "markdown",
      "source": [
        "### 19.1 중첩 Loop"
      ],
      "metadata": {
        "id": "2zD_7XJ9lSx3"
      }
    },
    {
      "cell_type": "code",
      "execution_count": 3,
      "metadata": {
        "colab": {
          "base_uri": "https://localhost:8080/"
        },
        "id": "LF0gWxz1lIjk",
        "outputId": "ca4a6af6-3bfd-413b-c57b-61984d9530b4"
      },
      "outputs": [
        {
          "output_type": "stream",
          "name": "stdout",
          "text": [
            "*\n",
            "**\n",
            "***\n",
            "****\n",
            "*****\n"
          ]
        }
      ],
      "source": [
        "for i in range(1,6):\n",
        "    for k in range(i):\n",
        "        print('*', end='')\n",
        "    print()"
      ]
    },
    {
      "cell_type": "code",
      "source": [
        "for i in range(1,6):\n",
        "    print('*' * i)"
      ],
      "metadata": {
        "colab": {
          "base_uri": "https://localhost:8080/"
        },
        "id": "rTJlB4q_lY4P",
        "outputId": "2be0ab17-6e5d-45a9-edae-6799803f0544"
      },
      "execution_count": 4,
      "outputs": [
        {
          "output_type": "stream",
          "name": "stdout",
          "text": [
            "*\n",
            "**\n",
            "***\n",
            "****\n",
            "*****\n"
          ]
        }
      ]
    },
    {
      "cell_type": "markdown",
      "source": [
        "### 19.2 사각형으로 별 출력"
      ],
      "metadata": {
        "id": "KXZbeBNjnxne"
      }
    },
    {
      "cell_type": "code",
      "source": [
        "width, height = 5, 3\n",
        "for i in range(height):\n",
        "    for k in range(width):\n",
        "        print('*', end='')\n",
        "    print()"
      ],
      "metadata": {
        "colab": {
          "base_uri": "https://localhost:8080/"
        },
        "id": "hcIGdF8TmeP1",
        "outputId": "e8239be7-7be3-4180-df7f-34c7a947e98f"
      },
      "execution_count": 5,
      "outputs": [
        {
          "output_type": "stream",
          "name": "stdout",
          "text": [
            "*****\n",
            "*****\n",
            "*****\n"
          ]
        }
      ]
    },
    {
      "cell_type": "markdown",
      "source": [
        "### 19.3 계단식 별모양"
      ],
      "metadata": {
        "id": "GpUgOqB4rGko"
      }
    },
    {
      "cell_type": "code",
      "source": [
        "for i in range(5):\n",
        "    for k in range(4-i):\n",
        "        print(' ', end='')\n",
        "    for k in range(i+1):\n",
        "        print('*', end='')\n",
        "    print()"
      ],
      "metadata": {
        "colab": {
          "base_uri": "https://localhost:8080/"
        },
        "id": "Ld6Jxs-Uq7Ri",
        "outputId": "1453016c-a6ff-4b82-cbd7-2993d8baf289"
      },
      "execution_count": 10,
      "outputs": [
        {
          "output_type": "stream",
          "name": "stdout",
          "text": [
            "    *\n",
            "   **\n",
            "  ***\n",
            " ****\n",
            "*****\n"
          ]
        }
      ]
    },
    {
      "cell_type": "code",
      "source": [
        "# N = 7인 경우\n",
        "# Diamond 그리기\n",
        "# 가운데 행의 별의 갯수\n",
        "n = 7 // 2 + 1\n",
        "for i in range(n):\n",
        "    for k in range(n-1-i):\n",
        "        print(' ', end='')\n",
        "    for k in range(2*i+1):\n",
        "        print('*', end='')\n",
        "    print()\n",
        "for i in range(n-2, -1, -1):\n",
        "    for k in range(n-1-i):\n",
        "        print(' ', end='')\n",
        "    for k in range(2*i+1):\n",
        "        print('*', end='')\n",
        "    print() "
      ],
      "metadata": {
        "colab": {
          "base_uri": "https://localhost:8080/"
        },
        "id": "b0Fbyi-Brg37",
        "outputId": "647b2cf2-0461-4f41-c7b0-1c78b9bb854a"
      },
      "execution_count": 12,
      "outputs": [
        {
          "output_type": "stream",
          "name": "stdout",
          "text": [
            "   *\n",
            "  ***\n",
            " *****\n",
            "*******\n",
            " *****\n",
            "  ***\n",
            "   *\n"
          ]
        }
      ]
    },
    {
      "cell_type": "code",
      "source": [
        "# 가운데 행의 별의 갯수를 입력으로 받아서 그림\n",
        "N = int(input())\n",
        "n = N // 2 + 1\n",
        "for i in range(n):\n",
        "    for k in range(n-1-i):\n",
        "        print(' ', end='')\n",
        "    for k in range(2*i+1):\n",
        "        print('*', end='')\n",
        "    print()\n",
        "for i in range(n-2, -1, -1):\n",
        "    for k in range(n-1-i):\n",
        "        print(' ', end='')\n",
        "    for k in range(2*i+1):\n",
        "        print('*', end='')\n",
        "    print() "
      ],
      "metadata": {
        "colab": {
          "base_uri": "https://localhost:8080/"
        },
        "id": "AO5W3jNGvOfM",
        "outputId": "f9368ac9-0d7e-4abc-b8e9-e727eb7a7136"
      },
      "execution_count": 13,
      "outputs": [
        {
          "output_type": "stream",
          "name": "stdout",
          "text": [
            "7\n",
            "   *\n",
            "  ***\n",
            " *****\n",
            "*******\n",
            " *****\n",
            "  ***\n",
            "   *\n"
          ]
        }
      ]
    },
    {
      "cell_type": "code",
      "source": [
        ""
      ],
      "metadata": {
        "id": "hOVIOgCEvdAz"
      },
      "execution_count": null,
      "outputs": []
    }
  ]
}