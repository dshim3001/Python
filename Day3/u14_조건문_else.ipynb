{
  "nbformat": 4,
  "nbformat_minor": 0,
  "metadata": {
    "colab": {
      "name": "u14_조건문_else.ipynb",
      "provenance": [],
      "collapsed_sections": []
    },
    "kernelspec": {
      "name": "python3",
      "display_name": "Python 3"
    },
    "language_info": {
      "name": "python"
    }
  },
  "cells": [
    {
      "cell_type": "markdown",
      "source": [
        "# Unit 14. 조건문 if - else"
      ],
      "metadata": {
        "id": "8Ur66XcvkzEN"
      }
    },
    {
      "cell_type": "code",
      "execution_count": 1,
      "metadata": {
        "id": "KAxC5-zQkr9u"
      },
      "outputs": [],
      "source": [
        "import random"
      ]
    },
    {
      "cell_type": "code",
      "source": [
        "x = random.randint(1,6)\n",
        "if x >= 4:\n",
        "    print('big')\n",
        "else:\n",
        "    print('small')\n",
        "print(x)"
      ],
      "metadata": {
        "colab": {
          "base_uri": "https://localhost:8080/"
        },
        "id": "M4puOBIUl9qb",
        "outputId": "c3be536b-f1ad-4b03-b900-944cd47e9ee0"
      },
      "execution_count": 2,
      "outputs": [
        {
          "output_type": "stream",
          "name": "stdout",
          "text": [
            "small\n",
            "2\n"
          ]
        }
      ]
    },
    {
      "cell_type": "code",
      "source": [
        "x = random.randint(1,6)\n",
        "if x % 2 == 0:\n",
        "    print('even')\n",
        "else:\n",
        "    print('odd')\n",
        "print(x)"
      ],
      "metadata": {
        "colab": {
          "base_uri": "https://localhost:8080/"
        },
        "id": "FeQBAuEAmLHS",
        "outputId": "7cb1af5a-61eb-458f-beb1-e5036fe4ba5e"
      },
      "execution_count": 3,
      "outputs": [
        {
          "output_type": "stream",
          "name": "stdout",
          "text": [
            "even\n",
            "2\n"
          ]
        }
      ]
    },
    {
      "cell_type": "code",
      "source": [
        "x = random.randint(1,6)\n",
        "if x % 2 == 0:\n",
        "    result = 'even number'\n",
        "else:\n",
        "    result = 'odd number'\n",
        "print(x, result)"
      ],
      "metadata": {
        "colab": {
          "base_uri": "https://localhost:8080/"
        },
        "id": "rDd8EKy_mRHK",
        "outputId": "28b73d03-ea59-4607-956e-0e66d90cd1b0"
      },
      "execution_count": 4,
      "outputs": [
        {
          "output_type": "stream",
          "name": "stdout",
          "text": [
            "6 even number\n"
          ]
        }
      ]
    },
    {
      "cell_type": "markdown",
      "source": [
        "- 조건부 표현식 (3항 연산자)"
      ],
      "metadata": {
        "id": "NVMjPai0mf7o"
      }
    },
    {
      "cell_type": "code",
      "source": [
        "# Java, JS에서는 result = x % 2 == 0 ? \"even\" : \"odd\" ;\n",
        "result = 'even' if x % 2 == 0 else 'odd'\n",
        "print(x, result)"
      ],
      "metadata": {
        "colab": {
          "base_uri": "https://localhost:8080/"
        },
        "id": "Pg7YxReQmbE7",
        "outputId": "604b06a0-322a-4e43-98c4-31d56337f3e7"
      },
      "execution_count": 5,
      "outputs": [
        {
          "output_type": "stream",
          "name": "stdout",
          "text": [
            "6 even\n"
          ]
        }
      ]
    },
    {
      "cell_type": "markdown",
      "source": [
        "### 14.2 else와 들여쓰기"
      ],
      "metadata": {
        "id": "AP82vzR4uQch"
      }
    },
    {
      "cell_type": "code",
      "source": [
        "x = 10\n",
        "if x == 10:\n",
        "    print('x is 10')\n",
        "else:\n",
        "    print('x is')\n",
        "print('not 10')"
      ],
      "metadata": {
        "colab": {
          "base_uri": "https://localhost:8080/"
        },
        "id": "GI_7JD5_nf_O",
        "outputId": "7ab6fb93-8311-4867-ddfa-a2bd42cef262"
      },
      "execution_count": 6,
      "outputs": [
        {
          "output_type": "stream",
          "name": "stdout",
          "text": [
            "x is 10\n",
            "not 10\n"
          ]
        }
      ]
    },
    {
      "cell_type": "code",
      "source": [
        "if x == 10:\n",
        "    print('x is 10')\n",
        "else:\n",
        "    print('x is')\n",
        "    print('not 10')"
      ],
      "metadata": {
        "colab": {
          "base_uri": "https://localhost:8080/"
        },
        "id": "wCS5_g7GulFR",
        "outputId": "2edb0f8b-edc7-4b10-eba8-6f7e1bf6f266"
      },
      "execution_count": 7,
      "outputs": [
        {
          "output_type": "stream",
          "name": "stdout",
          "text": [
            "x is 10\n"
          ]
        }
      ]
    },
    {
      "cell_type": "code",
      "source": [
        "if x == 10:\n",
        "    pass\n",
        "else:\n",
        "    pass"
      ],
      "metadata": {
        "id": "jKRXt3Jvum6e"
      },
      "execution_count": 8,
      "outputs": []
    },
    {
      "cell_type": "markdown",
      "source": [
        "### 14.3 동작 방식"
      ],
      "metadata": {
        "id": "_OoPAZUZvOSA"
      }
    },
    {
      "cell_type": "code",
      "source": [
        "x = 0.0\n",
        "if x:\n",
        "    print(x)\n",
        "else:\n",
        "    print('0, 0.0, \"\", False, None')"
      ],
      "metadata": {
        "colab": {
          "base_uri": "https://localhost:8080/"
        },
        "id": "Ohno1Tdbu7dW",
        "outputId": "56c47622-caef-4e76-93e8-d4c035ea7c6d"
      },
      "execution_count": 11,
      "outputs": [
        {
          "output_type": "stream",
          "name": "stdout",
          "text": [
            "0, 0.0, \"\", False, None\n"
          ]
        }
      ]
    },
    {
      "cell_type": "markdown",
      "source": [
        "### 14.4 여러개의 조건식"
      ],
      "metadata": {
        "id": "m9GvxtstwMR1"
      }
    },
    {
      "cell_type": "code",
      "source": [
        "# 3과 5의 공배수면 FizzBuzz 출력\n",
        "# 위의 경우가 아니면 숫자값을 출력\n",
        "\n",
        "# x = random.randint(1,100)\n",
        "x = 30\n",
        "if x % 3 == 0 and x % 5 == 0:\n",
        "    print('FizzBuzz')\n",
        "else:\n",
        "    print(x)"
      ],
      "metadata": {
        "colab": {
          "base_uri": "https://localhost:8080/"
        },
        "id": "20qHpjlWvmi2",
        "outputId": "b4f28eed-faca-456d-fb30-4faecbda5fa3"
      },
      "execution_count": 13,
      "outputs": [
        {
          "output_type": "stream",
          "name": "stdout",
          "text": [
            "FizzBuzz\n"
          ]
        }
      ]
    },
    {
      "cell_type": "code",
      "source": [
        "x = 14\n",
        "if x >= 10 and x <= 20:\n",
        "    print('between 10 and 20')\n",
        "else:\n",
        "    print(x)"
      ],
      "metadata": {
        "colab": {
          "base_uri": "https://localhost:8080/"
        },
        "id": "5miscuX2xc_q",
        "outputId": "c39319cc-de53-4cd9-95cb-5823a8f510e2"
      },
      "execution_count": 16,
      "outputs": [
        {
          "output_type": "stream",
          "name": "stdout",
          "text": [
            "between 10 and 20\n"
          ]
        }
      ]
    },
    {
      "cell_type": "markdown",
      "source": [
        "### Practice Q\n",
        "<pre>\n",
        "4로 나누어지면 윤년\n",
        "100으로 나누어지면 평년\n",
        "400으로 나누어지면 윤년\n",
        "그외 평년"
      ],
      "metadata": {
        "id": "TJsY12peyMcg"
      }
    },
    {
      "cell_type": "code",
      "source": [
        "# test case: 1900, 1901, 2000, 2004\n",
        "x = random.randint(1,2022)\n",
        "if x % 4 == 0:\n",
        "    if x % 100 == 0:\n",
        "        if x % 400 == 0:\n",
        "            print(x, '윤년')\n",
        "        else:\n",
        "            print(x, '평년')\n",
        "    else:\n",
        "        print(x, '윤년')\n",
        "else:\n",
        "    print(x, '평년')"
      ],
      "metadata": {
        "colab": {
          "base_uri": "https://localhost:8080/"
        },
        "id": "FU-BXshNxq_X",
        "outputId": "f847b435-0c90-4681-a23e-ba67fdc34b78"
      },
      "execution_count": 27,
      "outputs": [
        {
          "output_type": "stream",
          "name": "stdout",
          "text": [
            "1507 평년\n"
          ]
        }
      ]
    },
    {
      "cell_type": "code",
      "source": [
        "# Code Refactoring\n",
        "x = 2004\n",
        "if x % 4 == 0:\n",
        "    if x % 100 == 0 and x % 400 != 0:\n",
        "        print(x, '윤년')\n",
        "    else:\n",
        "        print(x,'윤년')\n",
        "else:\n",
        "    print(x, '평년')"
      ],
      "metadata": {
        "colab": {
          "base_uri": "https://localhost:8080/"
        },
        "id": "4yOLYxqf578U",
        "outputId": "f7bf4533-b3bb-4994-c326-2f4f26085795"
      },
      "execution_count": 30,
      "outputs": [
        {
          "output_type": "stream",
          "name": "stdout",
          "text": [
            "2004 윤년\n"
          ]
        }
      ]
    },
    {
      "cell_type": "code",
      "source": [
        "x = 2004\n",
        "if x % 4 == 0 and not (x % 100 ==0 and x % 400 != 0):\n",
        "    print (x, '윤년')\n",
        "else:\n",
        "    print(x, '평년')"
      ],
      "metadata": {
        "colab": {
          "base_uri": "https://localhost:8080/"
        },
        "id": "oioKDLJBzl3y",
        "outputId": "f2f7c9ee-0a0c-430b-eed3-5d3ed5717c2c"
      },
      "execution_count": 28,
      "outputs": [
        {
          "output_type": "stream",
          "name": "stdout",
          "text": [
            "2004 윤년\n"
          ]
        }
      ]
    },
    {
      "cell_type": "code",
      "source": [
        "# not (A and B) ==> not A or not B\n",
        "x = 1901\n",
        "if x % 4 == 0 and (x % 100 !=0 or x % 400 == 0):\n",
        "    print(x, '윤년')\n",
        "else:\n",
        "    print(x,'평년')"
      ],
      "metadata": {
        "colab": {
          "base_uri": "https://localhost:8080/"
        },
        "id": "aiJU8l5o6IRt",
        "outputId": "35e43a4c-51e5-47f4-f1b9-b378d07625e5"
      },
      "execution_count": 29,
      "outputs": [
        {
          "output_type": "stream",
          "name": "stdout",
          "text": [
            "1901 평년\n"
          ]
        }
      ]
    },
    {
      "cell_type": "code",
      "source": [
        ""
      ],
      "metadata": {
        "id": "nLErJm9l6eiy"
      },
      "execution_count": null,
      "outputs": []
    }
  ]
}