{
  "nbformat": 4,
  "nbformat_minor": 0,
  "metadata": {
    "colab": {
      "name": "u18_반복문제어.ipynb",
      "provenance": []
    },
    "kernelspec": {
      "name": "python3",
      "display_name": "Python 3"
    },
    "language_info": {
      "name": "python"
    }
  },
  "cells": [
    {
      "cell_type": "markdown",
      "source": [
        "# Unit 18. 반복문 제어"
      ],
      "metadata": {
        "id": "MEFa4c06hNLA"
      }
    },
    {
      "cell_type": "markdown",
      "source": [
        "### 18.1 break"
      ],
      "metadata": {
        "id": "xq6GgLWJhSYh"
      }
    },
    {
      "cell_type": "code",
      "execution_count": 4,
      "metadata": {
        "colab": {
          "base_uri": "https://localhost:8080/"
        },
        "id": "TBa7Cfx5hJ9V",
        "outputId": "4bb9f004-5a8a-45c5-f021-751663ed334a"
      },
      "outputs": [
        {
          "output_type": "stream",
          "name": "stdout",
          "text": [
            "(5,4) "
          ]
        }
      ],
      "source": [
        "# 주사위를 두번 굴려서 눈의 합이 8 이상이면 탈출\n",
        "import random\n",
        "\n",
        "while True:\n",
        "    dice1 = random.randint(1,6)\n",
        "    dice2 = random.randint(1,6)\n",
        "    print(f'({dice1},{dice2})', end=' ')\n",
        "    if dice1 + dice2 >= 8:\n",
        "        break"
      ]
    },
    {
      "cell_type": "code",
      "source": [
        "# for - break\n",
        "# 1에서 몇까지 더하면 누적합이 300을 초과하는가?\n",
        "cum_sum=0\n",
        "for i in range(100):\n",
        "    cum_sum += i\n",
        "    if cum_sum > 300:\n",
        "        print(i, cum_sum)\n",
        "        break"
      ],
      "metadata": {
        "colab": {
          "base_uri": "https://localhost:8080/"
        },
        "id": "Y1N7CppkiEjG",
        "outputId": "4dcdce7c-91e6-479f-de70-cb7650e018d5"
      },
      "execution_count": 6,
      "outputs": [
        {
          "output_type": "stream",
          "name": "stdout",
          "text": [
            "25 325\n"
          ]
        }
      ]
    },
    {
      "cell_type": "code",
      "source": [
        "# 중첩 반복문에서는 루프 1개만 탈출\n",
        "for i in range(100):\n",
        "    for k in range(i+1):\n",
        "        break           # break는 loop 하나씩만 빠져나감"
      ],
      "metadata": {
        "id": "BZshr8Kvi4kH"
      },
      "execution_count": 7,
      "outputs": []
    },
    {
      "cell_type": "markdown",
      "source": [
        "### 18.2 continue"
      ],
      "metadata": {
        "id": "ihYn3zL_jyXJ"
      }
    },
    {
      "cell_type": "code",
      "source": [
        "# 홀수만 출력\n",
        "for i in range(10):\n",
        "    if i % 2 == 0:\n",
        "        continue\n",
        "    print(i, end=' ')"
      ],
      "metadata": {
        "colab": {
          "base_uri": "https://localhost:8080/"
        },
        "id": "bWwDP7HrjxY_",
        "outputId": "1c529539-3837-4ef4-f3bc-b9a6bbe4d503"
      },
      "execution_count": 9,
      "outputs": [
        {
          "output_type": "stream",
          "name": "stdout",
          "text": [
            "1 3 5 7 9 "
          ]
        }
      ]
    },
    {
      "cell_type": "code",
      "source": [
        "# 예시일 뿐 while은 주로 이렇게 안 씀 (좋은 코드 아님)\n",
        "i = 0\n",
        "while i < 10:\n",
        "    i += 1\n",
        "    if i % 2 == 0:\n",
        "        continue\n",
        "    print(i, end=' ')"
      ],
      "metadata": {
        "colab": {
          "base_uri": "https://localhost:8080/"
        },
        "id": "QvPeF_Bkj1nX",
        "outputId": "941c9fd9-6ea6-4338-ec2c-f6813fa5ef06"
      },
      "execution_count": 11,
      "outputs": [
        {
          "output_type": "stream",
          "name": "stdout",
          "text": [
            "1 3 5 7 9 "
          ]
        }
      ]
    },
    {
      "cell_type": "code",
      "source": [
        ""
      ],
      "metadata": {
        "id": "-ZdY0hYVkeBe"
      },
      "execution_count": null,
      "outputs": []
    }
  ]
}