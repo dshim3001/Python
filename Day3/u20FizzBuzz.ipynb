{
  "cells": [
    {
      "cell_type": "markdown",
      "metadata": {
        "id": "ZuKULq8Mx8YV"
      },
      "source": [
        "# Unit20. FizzBuzz"
      ]
    },
    {
      "cell_type": "code",
      "execution_count": 1,
      "metadata": {
        "colab": {
          "base_uri": "https://localhost:8080/"
        },
        "id": "pG8rhV3lx2KM",
        "outputId": "89df6b0e-4e72-4bef-cfb3-102cdf7d70c2"
      },
      "outputs": [
        {
          "name": "stdout",
          "output_type": "stream",
          "text": [
            "1 2 Fizz 4 Buzz Fizz 7 8 Fizz Buzz 11 Fizz 13 14 FizzBuzz 16 17 Fizz 19 Buzz Fizz 22 23 Fizz Buzz 26 Fizz 28 29 FizzBuzz 31 32 Fizz 34 Buzz Fizz 37 38 Fizz Buzz 41 Fizz 43 44 FizzBuzz 46 47 Fizz 49 Buzz Fizz 52 53 Fizz Buzz 56 Fizz 58 59 FizzBuzz 61 62 Fizz 64 Buzz Fizz 67 68 Fizz Buzz 71 Fizz 73 74 FizzBuzz 76 77 Fizz 79 Buzz Fizz 82 83 Fizz Buzz 86 Fizz 88 89 FizzBuzz 91 92 Fizz 94 Buzz Fizz 97 98 Fizz Buzz "
          ]
        }
      ],
      "source": [
        "for i in range(1, 101):\n",
        "    if i % 15 == 0:\n",
        "        print('FizzBuzz', end=' ')\n",
        "    elif i % 3 == 0:\n",
        "        print('Fizz', end=' ')\n",
        "    elif i % 5 == 0:\n",
        "        print('Buzz', end=' ')\n",
        "    else:\n",
        "        print(i, end=' ')"
      ]
    },
    {
      "cell_type": "code",
      "execution_count": 3,
      "metadata": {
        "colab": {
          "base_uri": "https://localhost:8080/"
        },
        "id": "vhwfFolvzEu1",
        "outputId": "9c1e0c4f-4ea3-4baf-b9df-0c194129d454"
      },
      "outputs": [
        {
          "name": "stdout",
          "output_type": "stream",
          "text": [
            "1 2 Fizz 4 Buzz Fizz 7 8 Fizz Buzz 11 Fizz 13 14 FizzBuzz 16 17 Fizz 19 Buzz Fizz 22 23 Fizz Buzz 26 Fizz 28 29 FizzBuzz 31 32 Fizz 34 Buzz Fizz 37 38 Fizz Buzz 41 Fizz 43 44 FizzBuzz 46 47 Fizz 49 Buzz Fizz 52 53 Fizz Buzz 56 Fizz 58 59 FizzBuzz 61 62 Fizz 64 Buzz Fizz 67 68 Fizz Buzz 71 Fizz 73 74 FizzBuzz 76 77 Fizz 79 Buzz Fizz 82 83 Fizz Buzz 86 Fizz 88 89 FizzBuzz 91 92 Fizz 94 Buzz Fizz 97 98 Fizz Buzz "
          ]
        }
      ],
      "source": [
        "for i in range(1, 101):\n",
        "    print('Fizz'*(i%3==0) + 'Buzz'*(i%5==0) or i, end = ' ')"
      ]
    },
    {
      "cell_type": "markdown",
      "metadata": {
        "id": "LyqaBQHn09cD"
      },
      "source": [
        "### 연습문제\n",
        "<pre>\n",
        "세자리수 두개를 곱해서 만든 수가 대칭수(palindrome)일 때 \n",
        "가장 큰 대칭수와 그 경우 두 수를 구하시오\n",
        "</pre>"
      ]
    },
    {
      "cell_type": "code",
      "execution_count": 5,
      "metadata": {
        "id": "G2K79qltz8Gn"
      },
      "outputs": [],
      "source": [
        "for i in range(100,1000):\n",
        "    for k in range(i,1000):\n",
        "        mul = i * k"
      ]
    },
    {
      "cell_type": "code",
      "execution_count": 6,
      "metadata": {
        "id": "gTSi2M-g08IA"
      },
      "outputs": [],
      "source": [
        "# 대칭수인지를 판단해주는 함수\n",
        "def is_palindrome(n):\n",
        "    s = str(n)\n",
        "    return s == s[::-1]"
      ]
    },
    {
      "cell_type": "code",
      "execution_count": 8,
      "metadata": {
        "colab": {
          "base_uri": "https://localhost:8080/"
        },
        "id": "pIcIhIDQ1eO4",
        "outputId": "0c64ed25-611e-46cc-d547-61ce07330084"
      },
      "outputs": [
        {
          "data": {
            "text/plain": [
              "True"
            ]
          },
          "execution_count": 8,
          "metadata": {},
          "output_type": "execute_result"
        }
      ],
      "source": [
        "is_palindrome(12321)"
      ]
    },
    {
      "cell_type": "code",
      "execution_count": 9,
      "metadata": {
        "colab": {
          "base_uri": "https://localhost:8080/"
        },
        "id": "NvyjVCc91h3N",
        "outputId": "3d767549-884c-43c6-982c-3a61c188f4a3"
      },
      "outputs": [
        {
          "name": "stdout",
          "output_type": "stream",
          "text": [
            "83\n"
          ]
        }
      ],
      "source": [
        "# num_list 중 최대값은?\n",
        "num_list = [34, 25, 4, 9, 19, 83, 62]\n",
        "max_num = 0\n",
        "for num in num_list:\n",
        "    if num > max_num:\n",
        "        max_num = num\n",
        "print(max_num)"
      ]
    },
    {
      "cell_type": "code",
      "execution_count": 10,
      "metadata": {
        "colab": {
          "base_uri": "https://localhost:8080/"
        },
        "id": "FVVrbsGJ7VkB",
        "outputId": "114520b7-2a42-4ca3-8e63-f223a4dc16d4"
      },
      "outputs": [
        {
          "name": "stdout",
          "output_type": "stream",
          "text": [
            "4\n"
          ]
        }
      ],
      "source": [
        "# num_list min num\n",
        "min_num = 100\n",
        "for num in num_list:\n",
        "    if num < min_num:\n",
        "        min_num = num\n",
        "print(min_num)"
      ]
    },
    {
      "cell_type": "code",
      "execution_count": 11,
      "metadata": {
        "id": "I0P3YHug7i8J"
      },
      "outputs": [],
      "source": [
        "max_num = 0\n",
        "for i in range(100, 1000):\n",
        "    for k in range(i, 1000):\n",
        "        mul = i * k\n",
        "        if is_palindrome(mul):\n",
        "            if mul > max_num:\n",
        "                max_num = mul\n",
        "                num1, num2 = i, k"
      ]
    },
    {
      "cell_type": "code",
      "execution_count": 12,
      "metadata": {
        "colab": {
          "base_uri": "https://localhost:8080/"
        },
        "id": "kiiF0qDr8lWh",
        "outputId": "fb5a0076-eac7-421b-b1d2-6ceddb5e79e8"
      },
      "outputs": [
        {
          "name": "stdout",
          "output_type": "stream",
          "text": [
            "913 993 906609\n"
          ]
        }
      ],
      "source": [
        "print(num1, num2, max_num)"
      ]
    }
  ],
  "metadata": {
    "colab": {
      "name": "u20FizzBuzz.ipynb",
      "provenance": []
    },
    "kernelspec": {
      "display_name": "Python 3",
      "name": "python3"
    },
    "language_info": {
      "name": "python"
    }
  },
  "nbformat": 4,
  "nbformat_minor": 0
}
