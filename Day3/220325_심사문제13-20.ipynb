{
 "cells": [
  {
   "cell_type": "markdown",
   "metadata": {},
   "source": [
    "### 13.7 심사문제: 온라인 할인 쿠폰 시스템 만들기"
   ]
  },
  {
   "cell_type": "code",
   "execution_count": 6,
   "metadata": {},
   "outputs": [
    {
     "name": "stdout",
     "output_type": "stream",
     "text": [
      "3000 Coupon Applied, Final Price:  24000\n"
     ]
    }
   ],
   "source": [
    "# 표준 입력으로 가격(정수)과 쿠폰 이름이 각 줄에 입력됩니다. \n",
    "# Cash3000 쿠폰은 3,000원, Cash5000 쿠폰은 5,000원을 할인합니다. \n",
    "# 쿠폰에 따라 할인된 가격을 출력하는 프로그램을 만드세요\n",
    "# (input에서 안내 문자열은 출력하지 않아야 합니다).\n",
    "\n",
    "price = int(input())\n",
    "discount = input()\n",
    "\n",
    "if discount == 'Cash3000':\n",
    "    print(price - 3000)\n",
    "elif discount == 'Cash5000':\n",
    "    print(price - 5000)\n",
    "else:\n",
    "    print(price)"
   ]
  },
  {
   "cell_type": "markdown",
   "metadata": {},
   "source": [
    "### 14.7 심사문제: 합격 여부 판단하기"
   ]
  },
  {
   "cell_type": "code",
   "execution_count": 18,
   "metadata": {},
   "outputs": [
    {
     "name": "stdout",
     "output_type": "stream",
     "text": [
      "79.5 fail\n"
     ]
    }
   ],
   "source": [
    "# 표준 입력으로 국어, 영어, 수학, 과학 점수가 입력됩니다. \n",
    "# 여기서 네 과목의 평균 점수가 80점 이상일 때 합격이라고 정했습니다. \n",
    "# 평균 점수에 따라 '합격', '불합격'을 출력하는 프로그램을 만드세요\n",
    "# (input에서 안내 문자열은 출력하지 않아야 합니다). \n",
    "# 단, 점수는 0점부터 100점까지만 입력받을 수 있으며 범위를 벗어났다면 \n",
    "# '잘못된 점수'를 출력하고 합격, 불합격 여부는 출력하지 않아야 합니다\n",
    "\n",
    "kor, eng, math, sci = map(int, input().split())\n",
    "scores = (kor, eng, math, sci)\n",
    "check_threshold = 0\n",
    "avg = (kor+eng+math+sci) / 4\n",
    "\n",
    "for i in range(3):\n",
    "    if scores[i] >= 0 and scores[i] <= 100:\n",
    "        check_threshold += 0\n",
    "    else:\n",
    "        check_threshold += 1\n",
    "\n",
    "if check_threshold == 0:\n",
    "    if avg >= 80:\n",
    "        print(avg, 'pass')\n",
    "    else:\n",
    "        print(avg, 'fail')\n",
    "else:\n",
    "    print('invalid score input')"
   ]
  },
  {
   "cell_type": "markdown",
   "metadata": {},
   "source": [
    "### 15.4 심사문제: 교통카드 시스템 만들기"
   ]
  },
  {
   "cell_type": "code",
   "execution_count": 22,
   "metadata": {},
   "outputs": [
    {
     "name": "stdout",
     "output_type": "stream",
     "text": [
      "7950\n"
     ]
    }
   ],
   "source": [
    "# 표준 입력으로 나이(만 나이)가 입력됩니다(입력 값은 7 이상 입력됨). \n",
    "# 교통카드 시스템에서 시내버스 요금은 다음과 같으며 각 나이에 맞게 \n",
    "# 요금을 차감한 뒤 잔액이 출력되게 만드세요(if, elif 사용). \n",
    "# 현재 교통카드에는 9,000원이 들어있습니다.\n",
    "#\n",
    "# 어린이(초등학생, 만 7세 이상 12세 이하): 650원\n",
    "# 청소년(중∙고등학생, 만 13세 이상 18세 이하): 1,050원\n",
    "# 어른(일반, 만 19세 이상): 1,250원\n",
    "\n",
    "age = int(input())\n",
    "balance = 9000    # 교통카드 잔액\n",
    "if age >= 7 and age <= 12:\n",
    "    balance = balance - 650\n",
    "elif age >= 13 and age <= 18:\n",
    "    balance = balance - 1050\n",
    "else:\n",
    "    balance = balance - 1250\n",
    "print(balance)"
   ]
  },
  {
   "cell_type": "markdown",
   "metadata": {},
   "source": [
    "### 16.6 심사문제: 구구단 출력하기"
   ]
  },
  {
   "cell_type": "code",
   "execution_count": 28,
   "metadata": {},
   "outputs": [
    {
     "name": "stdout",
     "output_type": "stream",
     "text": [
      "7 * 1 = 7\n",
      "7 * 2 = 14\n",
      "7 * 3 = 21\n",
      "7 * 4 = 28\n",
      "7 * 5 = 35\n",
      "7 * 6 = 42\n",
      "7 * 7 = 49\n",
      "7 * 8 = 56\n",
      "7 * 9 = 63\n"
     ]
    }
   ],
   "source": [
    "# 표준 입력으로 정수가 입력됩니다. \n",
    "# 입력된 정수의 구구단을 출력하는 프로그램을 만드세요\n",
    "# (input에서 안내 문자열은 출력하지 않아야 합니다). \n",
    "# 출력 형식은 숫자 * 숫자 = 숫자처럼 만들고 \n",
    "# 숫자와 *, = 사이는 공백을 한 칸 띄웁니다.\n",
    "\n",
    "num = int(input())\n",
    "for i in range(9):\n",
    "    print(str(num) + ' * ' + str(i+1) + ' = ' + str(num*(i+1)))"
   ]
  },
  {
   "cell_type": "markdown",
   "metadata": {},
   "source": [
    "### 17.6 심사문제: 교통카드 잔액 출력하기"
   ]
  },
  {
   "cell_type": "code",
   "execution_count": 32,
   "metadata": {},
   "outputs": [
    {
     "name": "stdout",
     "output_type": "stream",
     "text": [
      "12150\n",
      "10800\n",
      "9450\n",
      "8100\n",
      "6750\n",
      "5400\n",
      "4050\n",
      "2700\n",
      "1350\n",
      "0\n"
     ]
    }
   ],
   "source": [
    "# 표준 입력으로 금액(정수)이 입력됩니다. \n",
    "# 1회당 요금은 1,350원이고, 교통카드를 사용했을 때마다의 \n",
    "# 잔액을 각 줄에 출력하는 프로그램을 만드세요\n",
    "# (input에서 안내 문자열은 출력하지 않아야 합니다). \n",
    "# 단, 최초 금액은 출력하지 않아야 합니다. \n",
    "# 그리고 잔액은 음수가 될 수 없으며 잔액이 부족하면 출력을 끝냅니다\n",
    "\n",
    "balance = int(input())\n",
    "while balance >= 1350:\n",
    "    balance = balance - 1350\n",
    "    print(balance)"
   ]
  },
  {
   "cell_type": "markdown",
   "metadata": {},
   "source": [
    "### 18.6 심사문제: 두 수 사이의 숫자 중 3으로 끝나지 않는 숫자 출력하기"
   ]
  },
  {
   "cell_type": "code",
   "execution_count": 34,
   "metadata": {},
   "outputs": [
    {
     "name": "stdout",
     "output_type": "stream",
     "text": [
      "21 22 24 25 26 27 28 29 30 31 32 "
     ]
    }
   ],
   "source": [
    "# 표준 입력으로 정수 두 개가 입력됩니다\n",
    "# (첫 번째 입력 값의 범위는 1~200, 두 번째 입력 값의 범위는 10~200이며\n",
    "#  첫 번째 입력 값은 두 번째 입력 값보다 항상 작습니다). \n",
    "# 다음 소스 코드를 완성하여 첫 번째 정수와 두 번째 정수 사이의 \n",
    "# 숫자 중 3으로 끝나지 않는 숫자가 출력되게 만드세요. \n",
    "# 정답에 코드를 작성할 때는 while True:에 맞춰서 들여쓰기를 해주세요.\n",
    "\n",
    "start, stop = map(int, input().split())\n",
    "i = start\n",
    "while True:\n",
    "    if i > stop:\n",
    "        break\n",
    "    if i % 10 == 3:\n",
    "        i += 1\n",
    "        continue\n",
    "    print(i, end=' ')\n",
    "    i += 1"
   ]
  },
  {
   "cell_type": "markdown",
   "metadata": {},
   "source": [
    "### 19.6 심사문제: 산 모양으로 별 출력하기"
   ]
  },
  {
   "cell_type": "code",
   "execution_count": 36,
   "metadata": {},
   "outputs": [
    {
     "name": "stdout",
     "output_type": "stream",
     "text": [
      "    *\n",
      "   ***\n",
      "  *****\n",
      " *******\n",
      "*********\n"
     ]
    }
   ],
   "source": [
    "#표준 입력으로 삼각형의 높이가 입력됩니다. \n",
    "# 입력된 높이만큼 산 모양으로 별을 출력하는 프로그램을 만드세요\n",
    "# (input에서 안내 문자열은 출력하지 않아야 합니다). \n",
    "# 이때 출력 결과는 예제와 정확히 일치해야 합니다. \n",
    "# 모양이 같더라도 공백이나 빈 줄이 더 들어가면 틀린 것으로 처리됩니다.\n",
    "\n",
    "n = int(input())\n",
    "for i in range(n):\n",
    "    for k in range(n-1-i):\n",
    "        print(' ', end='')\n",
    "    for k in range(2*i+1):\n",
    "        print('*', end='')\n",
    "    print()"
   ]
  },
  {
   "cell_type": "markdown",
   "metadata": {},
   "source": [
    "### 20.8 심사문제: 5와 7의 배수, 공배수 처리하기"
   ]
  },
  {
   "cell_type": "code",
   "execution_count": 52,
   "metadata": {},
   "outputs": [
    {
     "name": "stdout",
     "output_type": "stream",
     "text": [
      "FizzBuzz\n",
      "36\n",
      "37\n",
      "38\n",
      "39\n",
      "Fizz\n"
     ]
    }
   ],
   "source": [
    "# 표준 입력으로 정수 두 개가 입력됩니다\n",
    "# (첫 번째 입력 값의 범위는 1~1000, 두 번째 입력 값의 범위는 10~1000이며 \n",
    "# 첫 번째 입력 값은 두 번째 입력 값보다 항상 작습니다). \n",
    "# 첫 번째 정수부터 두 번째 정수까지 숫자를 출력하면서 5의 배수일 때는 \n",
    "# 'Fizz', 7의 배수일 때는 'Buzz', 5와 7의 공배수일 때는 \n",
    "# 'FizzBuzz'를 출력하는 프로그램을 만드세요\n",
    "# (input에서 안내 문자열은 출력하지 않아야 합니다).\n",
    "\n",
    "start, stop = map(int, input().split())\n",
    "i = start\n",
    "for i in range(start, stop+1):\n",
    "    if i % 35 == 0:\n",
    "        print('FizzBuzz', end='\\n')\n",
    "    elif i % 5 == 0:\n",
    "        print('Fizz', end='\\n')\n",
    "    elif i % 7 == 0:\n",
    "        print('Buzz', end='\\n')\n",
    "    else:\n",
    "        print(i, end='\\n')\n"
   ]
  },
  {
   "cell_type": "code",
   "execution_count": 55,
   "metadata": {},
   "outputs": [
    {
     "name": "stdout",
     "output_type": "stream",
     "text": [
      "Buzz\n",
      "29\n",
      "Fizz\n",
      "31\n",
      "32\n",
      "33\n",
      "34\n",
      "FizzBuzz\n"
     ]
    }
   ],
   "source": [
    "start, stop = map(int, input().split())\n",
    "i = start\n",
    "while True:\n",
    "    if i > stop:\n",
    "        break\n",
    "    if i % 35 == 0:\n",
    "        print('FizzBuzz')\n",
    "    elif i % 5 == 0:\n",
    "        print('Fizz')\n",
    "    elif i % 7 == 0:\n",
    "        print('Buzz')\n",
    "    else:\n",
    "        print(i, end='\\n')\n",
    "    i += 1"
   ]
  },
  {
   "cell_type": "markdown",
   "metadata": {},
   "source": [
    "### 연습문제\n",
    "<pre>\n",
    "- 자기 자신을 제외한 약수의 합이 자신이 되는수를 완전수(perfect number)라 한다.\n",
    "예를 들어, 6의 자신을 제외한 약수의 합 1 + 2 + 3 = 6 이므로 완전수이다.\n",
    "1에서 10000까지는 4개의 완전수가 있다. 이를 찾아보세요.\n",
    "</pre>"
   ]
  },
  {
   "cell_type": "code",
   "execution_count": 1,
   "metadata": {},
   "outputs": [
    {
     "name": "stdout",
     "output_type": "stream",
     "text": [
      "1 2 3 4 5 6 10 12 15 20 30 60 "
     ]
    }
   ],
   "source": [
    "# 약수를 구하는 방법\n",
    "n = int(input())\n",
    "for i in range(1,n+1):\n",
    "    if n % i == 0:\n",
    "        print(i, end=' ')"
   ]
  },
  {
   "cell_type": "code",
   "execution_count": 4,
   "metadata": {},
   "outputs": [
    {
     "name": "stdout",
     "output_type": "stream",
     "text": [
      "[6, 28, 496, 8128]\n"
     ]
    }
   ],
   "source": [
    "perfnum = []\n",
    "numsum = 0\n",
    "for i in range(1, 10001):\n",
    "    for k in range(1, i):\n",
    "        if i % k == 0:\n",
    "            numsum += k\n",
    "    if numsum == i:\n",
    "        perfnum.append(i)\n",
    "    numsum = 0\n",
    "print(perfnum)\n"
   ]
  },
  {
   "cell_type": "code",
   "execution_count": null,
   "metadata": {},
   "outputs": [],
   "source": []
  }
 ],
 "metadata": {
  "interpreter": {
   "hash": "0e57b3e1c71b752f2155407481283ac520614bed1fdf3f32bca2723a92a6c7b4"
  },
  "kernelspec": {
   "display_name": "Python 3.9.7 ('base')",
   "language": "python",
   "name": "python3"
  },
  "language_info": {
   "codemirror_mode": {
    "name": "ipython",
    "version": 3
   },
   "file_extension": ".py",
   "mimetype": "text/x-python",
   "name": "python",
   "nbconvert_exporter": "python",
   "pygments_lexer": "ipython3",
   "version": "3.9.7"
  },
  "orig_nbformat": 4
 },
 "nbformat": 4,
 "nbformat_minor": 2
}
