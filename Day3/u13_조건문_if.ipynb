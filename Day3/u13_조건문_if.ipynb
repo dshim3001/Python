{
  "nbformat": 4,
  "nbformat_minor": 0,
  "metadata": {
    "colab": {
      "name": "u13_조건문_if.ipynb",
      "provenance": []
    },
    "kernelspec": {
      "name": "python3",
      "display_name": "Python 3"
    },
    "language_info": {
      "name": "python"
    }
  },
  "cells": [
    {
      "cell_type": "code",
      "execution_count": 1,
      "metadata": {
        "id": "jieKgmOAeI_J"
      },
      "outputs": [],
      "source": [
        "import random"
      ]
    },
    {
      "cell_type": "code",
      "source": [
        "x = random.randint(9,11)\n",
        "if x == 10:\n",
        "    print('10입니다.')"
      ],
      "metadata": {
        "colab": {
          "base_uri": "https://localhost:8080/"
        },
        "id": "y3YZpuJdgO9a",
        "outputId": "3933748b-394f-42a2-fe12-c251aba68b07"
      },
      "execution_count": 3,
      "outputs": [
        {
          "output_type": "stream",
          "name": "stdout",
          "text": [
            "10입니다\n"
          ]
        }
      ]
    },
    {
      "cell_type": "code",
      "source": [
        "if x == 10:\n",
        "    pass\n",
        "    print('10입니다.')"
      ],
      "metadata": {
        "colab": {
          "base_uri": "https://localhost:8080/"
        },
        "id": "DhLexZYUgURf",
        "outputId": "74154e91-40b3-41ed-dcef-5107c016b2cc"
      },
      "execution_count": 6,
      "outputs": [
        {
          "output_type": "stream",
          "name": "stdout",
          "text": [
            "10입니다.\n"
          ]
        }
      ]
    },
    {
      "cell_type": "code",
      "source": [
        "if x == 10:\n",
        "    print(x)"
      ],
      "metadata": {
        "colab": {
          "base_uri": "https://localhost:8080/"
        },
        "id": "bKcmgpXvgmtG",
        "outputId": "fd557f5a-60d9-456d-c310-3d053bf360e3"
      },
      "execution_count": 7,
      "outputs": [
        {
          "output_type": "stream",
          "name": "stdout",
          "text": [
            "10\n"
          ]
        }
      ]
    },
    {
      "cell_type": "code",
      "source": [
        "if x == 10:\n",
        "    print('10입니다.')\n",
        "    print('들여쓰기한 이 부분은 조건이 참일 경우에 실행됩니다.')\n",
        "print('들여쓰기가 끝나면 조건에 관계없이 실행됩니다.')"
      ],
      "metadata": {
        "colab": {
          "base_uri": "https://localhost:8080/"
        },
        "id": "t6G8_RXrh9UC",
        "outputId": "3764aef4-0ba3-4fdd-8628-4c8bfc491f16"
      },
      "execution_count": 8,
      "outputs": [
        {
          "output_type": "stream",
          "name": "stdout",
          "text": [
            "10입니다.\n",
            "들여쓰기한 이 부분은 조건이 참일 경우에 실행됩니다.\n",
            "들여쓰기가 끝나면 조건에 관계없이 실행됩니다.\n"
          ]
        }
      ]
    },
    {
      "cell_type": "markdown",
      "source": [
        "### 13.3 중첩(Nested) 조건문"
      ],
      "metadata": {
        "id": "ECVCfd8XhV08"
      }
    },
    {
      "cell_type": "code",
      "source": [
        "x = random.randint(1,20)\n",
        "if x>= 10:\n",
        "    print('10이상입니다.')\n",
        "    if x>= 15:\n",
        "        print('15이상입니다.')\n",
        "print(x)"
      ],
      "metadata": {
        "colab": {
          "base_uri": "https://localhost:8080/"
        },
        "id": "1jwJIDPvhQZH",
        "outputId": "7c749d7f-fdcc-4881-9e25-036e80150be8"
      },
      "execution_count": 14,
      "outputs": [
        {
          "output_type": "stream",
          "name": "stdout",
          "text": [
            "10이상입니다.\n",
            "15이상입니다.\n",
            "19\n"
          ]
        }
      ]
    },
    {
      "cell_type": "code",
      "source": [
        "# 10 이상의 정수, 3의 배수를 찾기\n",
        "x = random.randint(1,20)\n",
        "if x>= 10:\n",
        "    print('10이상입니다.')\n",
        "    if x % 3 == 0:\n",
        "        print('3의 배수입니다.')\n",
        "print(x)"
      ],
      "metadata": {
        "colab": {
          "base_uri": "https://localhost:8080/"
        },
        "id": "m15-ZLL3jODa",
        "outputId": "c198bb9d-d3df-40dc-a09f-4e7fd844279f"
      },
      "execution_count": 18,
      "outputs": [
        {
          "output_type": "stream",
          "name": "stdout",
          "text": [
            "10이상입니다.\n",
            "3의 배수입니다.\n",
            "18\n"
          ]
        }
      ]
    },
    {
      "cell_type": "code",
      "source": [
        ""
      ],
      "metadata": {
        "id": "uTetiwmPkHSS"
      },
      "execution_count": null,
      "outputs": []
    }
  ]
}