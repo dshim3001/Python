{
 "cells": [
  {
   "cell_type": "markdown",
   "metadata": {},
   "source": [
    "# Unit 30. 위치 인수, 키워드 인수"
   ]
  },
  {
   "cell_type": "code",
   "execution_count": 2,
   "metadata": {},
   "outputs": [
    {
     "data": {
      "text/plain": [
       "'1.1.0'"
      ]
     },
     "execution_count": 2,
     "metadata": {},
     "output_type": "execute_result"
    }
   ],
   "source": [
    "import joblib\n",
    "joblib.__version__"
   ]
  },
  {
   "cell_type": "code",
   "execution_count": 3,
   "metadata": {},
   "outputs": [
    {
     "name": "stdout",
     "output_type": "stream",
     "text": [
      "10,20\n",
      "\n"
     ]
    }
   ],
   "source": [
    "# 위치 인수 (positional argument): 10, 20\n",
    "# 키워드 인수(keyword argument): sep',',end='\\n\\n'\n",
    "print(10, 20, sep=',', end='\\n\\n')"
   ]
  },
  {
   "cell_type": "markdown",
   "metadata": {},
   "source": [
    "### 30.1 위치 인수"
   ]
  },
  {
   "cell_type": "code",
   "execution_count": 6,
   "metadata": {},
   "outputs": [
    {
     "name": "stdout",
     "output_type": "stream",
     "text": [
      "10 20 30 40 50\n"
     ]
    }
   ],
   "source": [
    "print(10, 20, 30, 40, 50)"
   ]
  },
  {
   "cell_type": "code",
   "execution_count": 7,
   "metadata": {},
   "outputs": [],
   "source": [
    "def print_numbers(a,b,c):\n",
    "    print(a)\n",
    "    print(b)\n",
    "    print(c)"
   ]
  },
  {
   "cell_type": "code",
   "execution_count": 8,
   "metadata": {},
   "outputs": [
    {
     "name": "stdout",
     "output_type": "stream",
     "text": [
      "10\n",
      "20\n",
      "30\n"
     ]
    }
   ],
   "source": [
    "print_numbers(10,20,30)"
   ]
  },
  {
   "cell_type": "code",
   "execution_count": 9,
   "metadata": {},
   "outputs": [
    {
     "name": "stdout",
     "output_type": "stream",
     "text": [
      "10\n",
      "20\n",
      "30\n"
     ]
    }
   ],
   "source": [
    "x = [10,20,30]\n",
    "print_numbers(*x)       # 리스트 언패킹 (x는 주소를 가르킴 -> *로 불러오는 것(pointer))"
   ]
  },
  {
   "cell_type": "markdown",
   "metadata": {},
   "source": [
    "- 가변 인수"
   ]
  },
  {
   "cell_type": "code",
   "execution_count": 16,
   "metadata": {},
   "outputs": [],
   "source": [
    "def print_numbers(*args):\n",
    "    for arg in args:\n",
    "        print(arg)\n"
   ]
  },
  {
   "cell_type": "code",
   "execution_count": 17,
   "metadata": {},
   "outputs": [
    {
     "name": "stdout",
     "output_type": "stream",
     "text": [
      "10\n",
      "20\n"
     ]
    }
   ],
   "source": [
    "print_numbers(10,20)"
   ]
  },
  {
   "cell_type": "code",
   "execution_count": 12,
   "metadata": {},
   "outputs": [
    {
     "name": "stdout",
     "output_type": "stream",
     "text": [
      "10\n",
      "20\n",
      "30\n",
      "40\n"
     ]
    }
   ],
   "source": [
    "print_numbers(10,20,30,40)"
   ]
  },
  {
   "cell_type": "markdown",
   "metadata": {},
   "source": [
    "### 30.2 키워드 인수"
   ]
  },
  {
   "cell_type": "code",
   "execution_count": 13,
   "metadata": {},
   "outputs": [],
   "source": [
    "def personal_info(name, age, address):\n",
    "    print('Name:', name)\n",
    "    print('Age:', age)\n",
    "    print('Address:', address)"
   ]
  },
  {
   "cell_type": "code",
   "execution_count": 18,
   "metadata": {},
   "outputs": [
    {
     "name": "stdout",
     "output_type": "stream",
     "text": [
      "Name: James\n",
      "Age: 25\n",
      "Address: Seoul\n"
     ]
    }
   ],
   "source": [
    "# 위치 인수로 호출\n",
    "personal_info('James', 25, 'Seoul')"
   ]
  },
  {
   "cell_type": "code",
   "execution_count": 19,
   "metadata": {},
   "outputs": [
    {
     "name": "stdout",
     "output_type": "stream",
     "text": [
      "Name: 25\n",
      "Age: James\n",
      "Address: Seoul\n"
     ]
    }
   ],
   "source": [
    "# 위치 인수로 호출할 경우에는 정확히 위치를 지정해야 함\n",
    "personal_info(25, 'James', 'Seoul')"
   ]
  },
  {
   "cell_type": "code",
   "execution_count": 20,
   "metadata": {},
   "outputs": [
    {
     "name": "stdout",
     "output_type": "stream",
     "text": [
      "Name: James\n",
      "Age: 25\n",
      "Address: Seoul\n"
     ]
    }
   ],
   "source": [
    "# 키워드로 호출\n",
    "personal_info(age=25, name='James', address='Seoul')"
   ]
  },
  {
   "cell_type": "markdown",
   "metadata": {},
   "source": [
    "### 30.3 딕셔너리 언패킹"
   ]
  },
  {
   "cell_type": "code",
   "execution_count": 21,
   "metadata": {},
   "outputs": [
    {
     "name": "stdout",
     "output_type": "stream",
     "text": [
      "Name: James\n",
      "Age: 30\n",
      "Address: Seoul\n"
     ]
    }
   ],
   "source": [
    "x = {'name': 'James', 'age':30, 'address':'Seoul'}\n",
    "personal_info(**x)          ## 딕셔너리 페어로 함수에 값 넣어줄 때 **(별 두개)"
   ]
  },
  {
   "cell_type": "markdown",
   "metadata": {},
   "source": [
    "- 가변 키워드 인수"
   ]
  },
  {
   "cell_type": "code",
   "execution_count": 24,
   "metadata": {},
   "outputs": [],
   "source": [
    "def personal_info2(**kwargs):\n",
    "    for key, value in kwargs.items():\n",
    "        print(f'{key}: {value}')"
   ]
  },
  {
   "cell_type": "code",
   "execution_count": 25,
   "metadata": {},
   "outputs": [
    {
     "name": "stdout",
     "output_type": "stream",
     "text": [
      "name: James\n",
      "age: 30\n",
      "address: Seoul\n"
     ]
    }
   ],
   "source": [
    "personal_info2(**x)"
   ]
  },
  {
   "cell_type": "code",
   "execution_count": 26,
   "metadata": {},
   "outputs": [
    {
     "data": {
      "text/plain": [
       "{'name': 'James',\n",
       " 'age': 30,\n",
       " 'address': 'Seoul',\n",
       " 'gender': 'male',\n",
       " 'country': 'South Korea'}"
      ]
     },
     "execution_count": 26,
     "metadata": {},
     "output_type": "execute_result"
    }
   ],
   "source": [
    "x['gender'] = 'male'\n",
    "x['country'] = 'South Korea'\n",
    "x"
   ]
  },
  {
   "cell_type": "code",
   "execution_count": 27,
   "metadata": {},
   "outputs": [
    {
     "name": "stdout",
     "output_type": "stream",
     "text": [
      "name: James\n",
      "age: 30\n",
      "address: Seoul\n",
      "gender: male\n",
      "country: South Korea\n"
     ]
    }
   ],
   "source": [
    "personal_info2(**x)"
   ]
  },
  {
   "cell_type": "markdown",
   "metadata": {},
   "source": [
    "- 호출하는 순서: 위치 인수가 키워드 인수보다 먼저 나와야 함"
   ]
  },
  {
   "cell_type": "code",
   "execution_count": 28,
   "metadata": {},
   "outputs": [
    {
     "name": "stdout",
     "output_type": "stream",
     "text": [
      "Name: John\n",
      "Age: 28\n",
      "Address: Gyeonggi\n"
     ]
    }
   ],
   "source": [
    "personal_info('John', address='Gyeonggi', age=28) ## x = val 등 값 지정해준 것이 키워드 인수임"
   ]
  },
  {
   "cell_type": "markdown",
   "metadata": {},
   "source": [
    "- 가변 위치 인수, 가변 키워드 인수"
   ]
  },
  {
   "cell_type": "code",
   "execution_count": 29,
   "metadata": {},
   "outputs": [],
   "source": [
    "def custom_print(*args, **kwargs):\n",
    "    print(*args, **kwargs)"
   ]
  },
  {
   "cell_type": "code",
   "execution_count": 31,
   "metadata": {},
   "outputs": [
    {
     "name": "stdout",
     "output_type": "stream",
     "text": [
      "10, 20, 30"
     ]
    }
   ],
   "source": [
    "custom_print(10,20,30, sep=', ', end='')"
   ]
  },
  {
   "cell_type": "markdown",
   "metadata": {},
   "source": [
    "### 30.4 매개변수에 초기값을 지정하는 경우"
   ]
  },
  {
   "cell_type": "code",
   "execution_count": 32,
   "metadata": {},
   "outputs": [],
   "source": [
    "def personal_info(name, age, address='비공개'):\n",
    "    print('Name:', name)\n",
    "    print('Age:', age)\n",
    "    print('Address:', address)"
   ]
  },
  {
   "cell_type": "code",
   "execution_count": 33,
   "metadata": {},
   "outputs": [
    {
     "name": "stdout",
     "output_type": "stream",
     "text": [
      "Name: James\n",
      "Age: 25\n",
      "Address: Seoul\n"
     ]
    }
   ],
   "source": [
    "personal_info('James', 25, 'Seoul')"
   ]
  },
  {
   "cell_type": "code",
   "execution_count": 34,
   "metadata": {},
   "outputs": [
    {
     "name": "stdout",
     "output_type": "stream",
     "text": [
      "Name: James\n",
      "Age: 25\n",
      "Address: 비공개\n"
     ]
    }
   ],
   "source": [
    "personal_info('James', 25)"
   ]
  },
  {
   "cell_type": "code",
   "execution_count": null,
   "metadata": {},
   "outputs": [],
   "source": []
  }
 ],
 "metadata": {
  "interpreter": {
   "hash": "0e57b3e1c71b752f2155407481283ac520614bed1fdf3f32bca2723a92a6c7b4"
  },
  "kernelspec": {
   "display_name": "Python 3.9.7 ('base')",
   "language": "python",
   "name": "python3"
  },
  "language_info": {
   "codemirror_mode": {
    "name": "ipython",
    "version": 3
   },
   "file_extension": ".py",
   "mimetype": "text/x-python",
   "name": "python",
   "nbconvert_exporter": "python",
   "pygments_lexer": "ipython3",
   "version": "3.9.7"
  },
  "orig_nbformat": 4
 },
 "nbformat": 4,
 "nbformat_minor": 2
}
