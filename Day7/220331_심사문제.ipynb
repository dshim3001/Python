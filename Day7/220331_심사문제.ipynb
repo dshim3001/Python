{
 "cells": [
  {
   "cell_type": "markdown",
   "metadata": {},
   "source": [
    "### 심사문제 34.6: 게임 캐릭터 클래스 만들기"
   ]
  },
  {
   "cell_type": "code",
   "execution_count": 20,
   "metadata": {},
   "outputs": [
    {
     "name": "stdout",
     "output_type": "stream",
     "text": [
      "티버: 피해량 593.7\n"
     ]
    }
   ],
   "source": [
    "# 표준 입력으로 게임 캐릭터 능력치(체력, 마나, AP)가 입력됩니다. \n",
    "# 다음 소스 코드에서 애니(Annie) 클래스를 작성하여 \n",
    "# 티버(tibbers) 스킬의 피해량이 출력되게 만드세요. \n",
    "# 티버의 피해량은 # AP * 0.65 + 400이며 \n",
    "# # AP(Ability Power, 주문력)는 마법 능력치를 뜻합니다.\n",
    "\n",
    "class Annie:\n",
    "    def __init__(self, health, mana, ability_power):\n",
    "        self.health = health\n",
    "        self.mana = mana\n",
    "        self.ability_power = ability_power\n",
    "    \n",
    "    def tibbers(self):\n",
    "        AP = self.ability_power * 0.65 + 400\n",
    "        print(f'티버: 피해량 {AP}')\n",
    "\n",
    "health, mana, ability_power = map(float, input().split())\n",
    " \n",
    "x = Annie(health=health, mana=mana, ability_power=ability_power)\n",
    "x.tibbers()"
   ]
  },
  {
   "cell_type": "markdown",
   "metadata": {},
   "source": [
    "### 연습문제"
   ]
  },
  {
   "cell_type": "code",
   "execution_count": 2,
   "metadata": {},
   "outputs": [],
   "source": [
    "# Calculator 클래스 구현\n",
    "# add, sub, mul, div 메소드 구현\n",
    "# 단, 0으로 나누지 못하게 할 것\n",
    "\n",
    "class Calc1:\n",
    "    def __init__(self, num1, num2):\n",
    "        self.num1 = num1\n",
    "        self.num2 = num2\n",
    "    \n",
    "    def add(self):\n",
    "        return self.num1 + self.num2\n",
    "\n",
    "    def sub(self):\n",
    "        return self.num1 - self.num2\n",
    "\n",
    "    def mul(self):\n",
    "        return self.num1 * self.num2\n",
    "\n",
    "    def div(self):\n",
    "        if self.num2 != 0:          ## if abs(num2) < 1e-15: return None\n",
    "            return self.num1 / self.num2\n",
    "        print('NA')"
   ]
  },
  {
   "cell_type": "code",
   "execution_count": 6,
   "metadata": {},
   "outputs": [],
   "source": [
    "class Calc2:\n",
    "    \n",
    "    def add(self, a, b):\n",
    "        return a + b\n",
    "\n",
    "    def sub(self, a, b):\n",
    "        return a - b\n",
    "\n",
    "    def mul(self, a, b):\n",
    "        return a * b\n",
    "        \n",
    "    def div(self, a, b):\n",
    "        if abs(b) < 1e-15:          ## if abs(num2) < 1e-15: return None\n",
    "            return None    \n",
    "        return a / b"
   ]
  },
  {
   "cell_type": "code",
   "execution_count": 7,
   "metadata": {},
   "outputs": [
    {
     "data": {
      "text/plain": [
       "0.5"
      ]
     },
     "execution_count": 7,
     "metadata": {},
     "output_type": "execute_result"
    }
   ],
   "source": [
    "calc2 = Calc2()\n",
    "calc2.div(2,4)"
   ]
  },
  {
   "cell_type": "code",
   "execution_count": 12,
   "metadata": {},
   "outputs": [],
   "source": [
    "# 2. Account 클래스 구현\n",
    "### 속성\n",
    "# ano: 문자열 6글자, '123456'\n",
    "# owner: 문자열\n",
    "# balance: 잔액, 비공개 속성\n",
    "\n",
    "### Method\n",
    "# 생성자\n",
    "# deposit(amt) 잔액이 1000만원 이상이면 입금할 수 없음\n",
    "# withdraw(amt) 잔액이 0원 미만이면 출금할 수 없음\n",
    "# 출력 가능하게 (__str__)\n",
    "\n",
    "class Account:\n",
    "    def __init__(self, ano, owner, balance):\n",
    "        self.ano = ano\n",
    "        self.owner = owner\n",
    "        self.__balance = balance\n",
    "\n",
    "    def deposit(self, amt):\n",
    "        if self.__balance < 10000000 - amt:       # 잔액 + amt >= 1,000만원일 경우??\n",
    "            self.__balance += amt\n",
    "            print(f'계좌번호: {self.ano}, 계좌주: {self.owner}님의 계좌입니다. \\n{amt:,d}원 입금 완료되었습니다: 현재 잔액: {self.__balance:,d}원입니다.')\n",
    "            return\n",
    "        print(f'계좌번호: {self.ano}, 계좌주: {self.owner}님의 계좌입니다. 잔액: {self.__balance:,d}원입니다. \\n잔액은 10,000,000원을 넘길 수 없습니다. 입금이 불가합니다.')\n",
    "\n",
    "    def withdraw(self, amt):\n",
    "        if self.__balance >= amt: \n",
    "            self.__balance -= amt      \n",
    "            print(f'계좌번호: {self.ano}, 계좌주: {self.owner}님의 계좌입니다. \\n{amt:,d}원 출금 완료되었습니다: 현재 잔액: {self.__balance:,d}원입니다.')\n",
    "            return\n",
    "        print(f'계좌번호: {self.ano}, 계좌주: {self.owner}님의 계좌입니다. \\n잔액이 부족하여 {amt:,d}원 출금이 불가합니다: 현재 잔액: {self.__balance:,d}원입니다.')\n",
    "\n",
    "    def __str__(self):\n",
    "        return f'계좌번호:{self.ano}, 계좌주:{self.owner}, 잔액:{self.__balance}'\n"
   ]
  },
  {
   "cell_type": "code",
   "execution_count": 71,
   "metadata": {},
   "outputs": [
    {
     "name": "stdout",
     "output_type": "stream",
     "text": [
      "계좌번호: 123456, 계좌주: James님의 계좌입니다. \n",
      "잔액이 부족하여 8,000,000원 출금이 불가합니다: 현재 잔액: 6,000,000원입니다.\n"
     ]
    }
   ],
   "source": [
    "james = Account(123456, 'James', 6000000)\n",
    "# james.deposit(2000000)\n",
    "james.withdraw(8000000)"
   ]
  },
  {
   "cell_type": "code",
   "execution_count": 13,
   "metadata": {},
   "outputs": [
    {
     "name": "stdout",
     "output_type": "stream",
     "text": [
      "계좌번호:123456, 계좌주:Maria, 잔액:6000000\n"
     ]
    }
   ],
   "source": [
    "maria = Account(123456, 'Maria', 6000000)\n",
    "print(maria)"
   ]
  },
  {
   "cell_type": "code",
   "execution_count": 20,
   "metadata": {},
   "outputs": [
    {
     "name": "stdout",
     "output_type": "stream",
     "text": [
      "계좌번호:123456, 계좌주:제임스, 잔액:100000\n"
     ]
    }
   ],
   "source": [
    "acc = Account('123456', '제임스', 100000)\n",
    "print(acc)"
   ]
  },
  {
   "cell_type": "code",
   "execution_count": 21,
   "metadata": {},
   "outputs": [
    {
     "name": "stdout",
     "output_type": "stream",
     "text": [
      "계좌번호: 123456, 계좌주: 제임스님의 계좌입니다. \n",
      "3,000,000원 입금 완료되었습니다: 현재 잔액: 3,100,000원입니다.\n",
      "계좌번호:123456, 계좌주:제임스, 잔액:3100000\n"
     ]
    }
   ],
   "source": [
    "acc.deposit(3000000)\n",
    "print(acc)"
   ]
  },
  {
   "cell_type": "code",
   "execution_count": 22,
   "metadata": {},
   "outputs": [
    {
     "name": "stdout",
     "output_type": "stream",
     "text": [
      "계좌번호: 123456, 계좌주: 제임스님의 계좌입니다. 잔액: 3,100,000원입니다. \n",
      "잔액은 10,000,000원을 넘길 수 없습니다. 입금이 불가합니다.\n",
      "계좌번호:123456, 계좌주:제임스, 잔액:3100000\n"
     ]
    }
   ],
   "source": [
    "acc.deposit(7000000)\n",
    "print(acc)"
   ]
  },
  {
   "cell_type": "code",
   "execution_count": 23,
   "metadata": {},
   "outputs": [
    {
     "name": "stdout",
     "output_type": "stream",
     "text": [
      "계좌번호: 123456, 계좌주: 제임스님의 계좌입니다. \n",
      "2,000,000원 출금 완료되었습니다: 현재 잔액: 1,100,000원입니다.\n",
      "계좌번호:123456, 계좌주:제임스, 잔액:1100000\n"
     ]
    }
   ],
   "source": [
    "acc.withdraw(2000000)\n",
    "print(acc)"
   ]
  },
  {
   "cell_type": "code",
   "execution_count": 24,
   "metadata": {},
   "outputs": [
    {
     "name": "stdout",
     "output_type": "stream",
     "text": [
      "계좌번호: 123456, 계좌주: 제임스님의 계좌입니다. \n",
      "잔액이 부족하여 2,000,000원 출금이 불가합니다: 현재 잔액: 1,100,000원입니다.\n",
      "계좌번호:123456, 계좌주:제임스, 잔액:1100000\n"
     ]
    }
   ],
   "source": [
    "acc.withdraw(2000000)\n",
    "print(acc)"
   ]
  },
  {
   "cell_type": "code",
   "execution_count": 25,
   "metadata": {},
   "outputs": [
    {
     "name": "stdout",
     "output_type": "stream",
     "text": [
      "계좌번호:987432, 계좌주:마리아, 잔액:3000000\n"
     ]
    }
   ],
   "source": [
    "acc2 = Account('987432', '마리아', 3000000)\n",
    "print(acc2)"
   ]
  },
  {
   "cell_type": "code",
   "execution_count": 26,
   "metadata": {},
   "outputs": [],
   "source": [
    "acc_list = [acc, acc2]"
   ]
  },
  {
   "cell_type": "markdown",
   "metadata": {},
   "source": [
    "- 사용자 I/F\n",
    "<pre>\n",
    "1: 계좌생성, 2: 계좌목록, 3: 입금, 4: 출금, 5: 종료\n",
    "</pre>"
   ]
  },
  {
   "cell_type": "code",
   "execution_count": 28,
   "metadata": {},
   "outputs": [],
   "source": [
    "def check_duplicate(ano):           #CLI: Command Line Interface\n",
    "    for acc in acc_list:\n",
    "        if ano == acc.ano:\n",
    "            return True\n",
    "    return False\n"
   ]
  },
  {
   "cell_type": "code",
   "execution_count": 29,
   "metadata": {},
   "outputs": [],
   "source": [
    "# 사용자로부터 필요한 정보를 입력 받아서 계좌를 생성함\n",
    "def create_account(ano):\n",
    "    while True:\n",
    "        s = input('계좌번호 성명 금액>').split()\n",
    "        ano, owner = s[0], s[1]\n",
    "        amount = int(s[2])\n",
    "        if not check_duplicate(ano):\n",
    "            break\n",
    "    acc = Account(ano, owner, amount)\n",
    "    acc_list.append(acc)\n"
   ]
  },
  {
   "cell_type": "code",
   "execution_count": 30,
   "metadata": {},
   "outputs": [],
   "source": [
    "# 사용자로부터 필요한 정보를 입력 받아서 계좌에 돈을 입금함\n",
    "def deposit_account(ano):\n",
    "    s = input('계좌번호 금액>').split()\n",
    "    ano, amount = s[0], s[1]\n",
    "    for acc in acc_list:\n",
    "        if acc.ano == ano:\n",
    "            acc.deposit(amount)\n",
    "            return"
   ]
  },
  {
   "cell_type": "code",
   "execution_count": 31,
   "metadata": {},
   "outputs": [],
   "source": [
    "# 사용자로부터 필요한 정보를 입력 받아서 계좌에 돈을 출금함\n",
    "def withdraw_account(ano):\n",
    "    s = input('계좌번호 금액>').split()\n",
    "    ano, amount = s[0], s[1]\n",
    "    for acc in acc_list:\n",
    "        if acc.ano == ano:\n",
    "            acc.withdraw(amount)\n",
    "            return"
   ]
  },
  {
   "cell_type": "code",
   "execution_count": 33,
   "metadata": {},
   "outputs": [
    {
     "name": "stdout",
     "output_type": "stream",
     "text": [
      "계좌번호:123456, 계좌주:제임스, 잔액:1100000\n",
      "계좌번호:987432, 계좌주:마리아, 잔액:3000000\n",
      "\n"
     ]
    }
   ],
   "source": [
    "while True:\n",
    "    menu = int(input('1:계좌생성, 2:계좌목록, 3:입금, 4:출금, 5:종료> '))\n",
    "    if menu == 5:\n",
    "        break\n",
    "    if menu == 1:\n",
    "        create_account()\n",
    "    elif menu ==2:\n",
    "        for account in acc_list:\n",
    "            print(account)\n",
    "    elif menu == 3:\n",
    "        deposit_account()\n",
    "    elif menu ==4:\n",
    "        withdraw_account()\n",
    "    else:\n",
    "        print('잘못된 명령어입니다.')\n",
    "    \n",
    "    print()"
   ]
  },
  {
   "cell_type": "markdown",
   "metadata": {},
   "source": [
    "- 비공개 속성"
   ]
  },
  {
   "cell_type": "code",
   "execution_count": 34,
   "metadata": {},
   "outputs": [
    {
     "data": {
      "text/plain": [
       "__main__.Account"
      ]
     },
     "execution_count": 34,
     "metadata": {},
     "output_type": "execute_result"
    }
   ],
   "source": [
    "type(acc)          # LUCA: Last Universal Common Ancestor"
   ]
  },
  {
   "cell_type": "code",
   "execution_count": 35,
   "metadata": {},
   "outputs": [
    {
     "data": {
      "text/plain": [
       "['_Account__balance',\n",
       " '__class__',\n",
       " '__delattr__',\n",
       " '__dict__',\n",
       " '__dir__',\n",
       " '__doc__',\n",
       " '__eq__',\n",
       " '__format__',\n",
       " '__ge__',\n",
       " '__getattribute__',\n",
       " '__gt__',\n",
       " '__hash__',\n",
       " '__init__',\n",
       " '__init_subclass__',\n",
       " '__le__',\n",
       " '__lt__',\n",
       " '__module__',\n",
       " '__ne__',\n",
       " '__new__',\n",
       " '__reduce__',\n",
       " '__reduce_ex__',\n",
       " '__repr__',\n",
       " '__setattr__',\n",
       " '__sizeof__',\n",
       " '__str__',\n",
       " '__subclasshook__',\n",
       " '__weakref__',\n",
       " 'ano',\n",
       " 'deposit',\n",
       " 'owner',\n",
       " 'withdraw']"
      ]
     },
     "execution_count": 35,
     "metadata": {},
     "output_type": "execute_result"
    }
   ],
   "source": [
    "dir(acc)"
   ]
  },
  {
   "cell_type": "code",
   "execution_count": 36,
   "metadata": {},
   "outputs": [
    {
     "data": {
      "text/plain": [
       "False"
      ]
     },
     "execution_count": 36,
     "metadata": {},
     "output_type": "execute_result"
    }
   ],
   "source": [
    "acc == acc2            #__hash__: 비교 구문, equalizing"
   ]
  },
  {
   "cell_type": "code",
   "execution_count": 37,
   "metadata": {},
   "outputs": [
    {
     "data": {
      "text/plain": [
       "['__add__',\n",
       " '__class__',\n",
       " '__class_getitem__',\n",
       " '__contains__',\n",
       " '__delattr__',\n",
       " '__delitem__',\n",
       " '__dir__',\n",
       " '__doc__',\n",
       " '__eq__',\n",
       " '__format__',\n",
       " '__ge__',\n",
       " '__getattribute__',\n",
       " '__getitem__',\n",
       " '__gt__',\n",
       " '__hash__',\n",
       " '__iadd__',\n",
       " '__imul__',\n",
       " '__init__',\n",
       " '__init_subclass__',\n",
       " '__iter__',\n",
       " '__le__',\n",
       " '__len__',\n",
       " '__lt__',\n",
       " '__mul__',\n",
       " '__ne__',\n",
       " '__new__',\n",
       " '__reduce__',\n",
       " '__reduce_ex__',\n",
       " '__repr__',\n",
       " '__reversed__',\n",
       " '__rmul__',\n",
       " '__setattr__',\n",
       " '__setitem__',\n",
       " '__sizeof__',\n",
       " '__str__',\n",
       " '__subclasshook__',\n",
       " 'append',\n",
       " 'clear',\n",
       " 'copy',\n",
       " 'count',\n",
       " 'extend',\n",
       " 'index',\n",
       " 'insert',\n",
       " 'pop',\n",
       " 'remove',\n",
       " 'reverse',\n",
       " 'sort']"
      ]
     },
     "execution_count": 37,
     "metadata": {},
     "output_type": "execute_result"
    }
   ],
   "source": [
    "dir(acc_list)          # __iter__: 반복 구문, iterable"
   ]
  },
  {
   "cell_type": "code",
   "execution_count": 38,
   "metadata": {},
   "outputs": [
    {
     "data": {
      "text/plain": [
       "1100000"
      ]
     },
     "execution_count": 38,
     "metadata": {},
     "output_type": "execute_result"
    }
   ],
   "source": [
    "acc._Account__balance           ## 파이썬에서는 encapsulation 제대로 지원 못함"
   ]
  },
  {
   "cell_type": "code",
   "execution_count": null,
   "metadata": {},
   "outputs": [],
   "source": []
  }
 ],
 "metadata": {
  "interpreter": {
   "hash": "0e57b3e1c71b752f2155407481283ac520614bed1fdf3f32bca2723a92a6c7b4"
  },
  "kernelspec": {
   "display_name": "Python 3.9.7 ('base')",
   "language": "python",
   "name": "python3"
  },
  "language_info": {
   "codemirror_mode": {
    "name": "ipython",
    "version": 3
   },
   "file_extension": ".py",
   "mimetype": "text/x-python",
   "name": "python",
   "nbconvert_exporter": "python",
   "pygments_lexer": "ipython3",
   "version": "3.9.7"
  },
  "orig_nbformat": 4
 },
 "nbformat": 4,
 "nbformat_minor": 2
}
