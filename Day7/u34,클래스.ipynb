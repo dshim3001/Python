{
 "cells": [
  {
   "cell_type": "markdown",
   "metadata": {},
   "source": [
    "# Unit 34. 클래스(Class)"
   ]
  },
  {
   "cell_type": "markdown",
   "metadata": {},
   "source": [
    "<pre>\n",
    "객체(Object) - 10만자 이상 대규모 코딩(소프트웨어 개발)에 유용\n",
    "    - 속성(attribute)\n",
    "        . 제조사, 모델, 배기량, 색깔...\n",
    "    - 행위(method)\n",
    "        . 전진, 후진, 가속, 감속, 좌회전, 우회전, 경적\n",
    "\n",
    "자동차 (기본 정의)\n",
    "    - 속성(attribute)\n",
    "        . 제조사, 모델, 배기량, 색깔...\n",
    "    - 행위(method)\n",
    "        . 전진, 후진, 가속, 감속, 좌회전, 우회전, 경적\n",
    "\n",
    "승용차: 50 ~ 70%\n",
    "    - 자동차를 상속\n",
    "    - 승용차의 특징(속성뿐 아니라 행위까지)만 변경\n",
    "\n",
    "승합차: 50 ~ 70%\n",
    "    - 자동차를 상속\n",
    "    - 승합차의 특징만 변경\n",
    "\n",
    "픽업트럭: 50 ~ 70%\n",
    "    - 자동차를 상속\n",
    "    - 픽업트럭의 특징만 변경\n",
    "\n",
    "버스, 트럭, ...\n",
    "\n",
    "전자정부 개발 프레임워크 (Java)\n",
    "인공지능, AI 파이썬\n",
    "\n",
    "특징\n",
    "\n",
    "1. 상속(Inheritance)\n",
    "    - 프로그램 세계에서는 자식이 부모를 선택해서 상속을 받는다\n",
    "    - 부모의 속성값, 행위(method)를 상속 받음\n",
    "\n",
    "2. 캡슐화(Encapsulation)\n",
    "    - 데이터를 보호\n",
    "    - Account, 잔액 : Teller, ATM, 송금(지로), 이자\n",
    "\n",
    "3. 다형성(Polymorphism)\n",
    "    - 부모가 만들어 놓은 메소드 - 자식이 내 기능에 맞게 변경하는 것\n",
    "    - method overriding (overloading)\n",
    "</pre>"
   ]
  },
  {
   "cell_type": "markdown",
   "metadata": {},
   "source": [
    "### 34.1 클래스와 메소드 만들기"
   ]
  },
  {
   "cell_type": "code",
   "execution_count": 2,
   "metadata": {},
   "outputs": [],
   "source": [
    "class Person:               # 클래스 이름은 대문자로 시작해야 함\n",
    "    def greeting(self):         # method는 함수로 적용 - 메소드의 첫번쨰 인자는 무조건 (self)를 넣는 것이 규칙임 (안 쓰더라도 적어야 함)\n",
    "        print('Hello')"
   ]
  },
  {
   "cell_type": "code",
   "execution_count": 3,
   "metadata": {},
   "outputs": [],
   "source": [
    "# 클래스의 인스턴스(객체사용사례)를 만들어야 클래스를 사용할 수 있음\n",
    "james = Person()            # method가 아니라 생성자(Constructor) 함수라 부름\n",
    "maria = Person()"
   ]
  },
  {
   "cell_type": "code",
   "execution_count": 4,
   "metadata": {},
   "outputs": [
    {
     "name": "stdout",
     "output_type": "stream",
     "text": [
      "Hello\n"
     ]
    }
   ],
   "source": [
    "james.greeting()"
   ]
  },
  {
   "cell_type": "code",
   "execution_count": 5,
   "metadata": {},
   "outputs": [
    {
     "name": "stdout",
     "output_type": "stream",
     "text": [
      "Hello\n"
     ]
    }
   ],
   "source": [
    "maria.greeting()"
   ]
  },
  {
   "cell_type": "code",
   "execution_count": 6,
   "metadata": {},
   "outputs": [
    {
     "name": "stdout",
     "output_type": "stream",
     "text": [
      "Hello\n"
     ]
    }
   ],
   "source": [
    "Person().greeting()"
   ]
  },
  {
   "cell_type": "markdown",
   "metadata": {},
   "source": [
    "- 특정 클래스의 인스턴스인지 확인하기"
   ]
  },
  {
   "cell_type": "code",
   "execution_count": 7,
   "metadata": {},
   "outputs": [
    {
     "data": {
      "text/plain": [
       "True"
      ]
     },
     "execution_count": 7,
     "metadata": {},
     "output_type": "execute_result"
    }
   ],
   "source": [
    "isinstance(james, Person)"
   ]
  },
  {
   "cell_type": "markdown",
   "metadata": {},
   "source": [
    "- 클래스 내에서 메소드 호출하기"
   ]
  },
  {
   "cell_type": "code",
   "execution_count": 9,
   "metadata": {},
   "outputs": [],
   "source": [
    "class Person:\n",
    "    def greeting(self):\n",
    "        print('Hello')\n",
    "\n",
    "    def hello(self):\n",
    "        self.greeting()         # 클래스 내에서 속성이나 메소드를 참조할 때는 self.xxx 한다."
   ]
  },
  {
   "cell_type": "code",
   "execution_count": 10,
   "metadata": {},
   "outputs": [
    {
     "name": "stdout",
     "output_type": "stream",
     "text": [
      "Hello\n"
     ]
    }
   ],
   "source": [
    "james = Person()\n",
    "james.hello()"
   ]
  },
  {
   "cell_type": "code",
   "execution_count": null,
   "metadata": {},
   "outputs": [],
   "source": [
    "# 음수와 실수에 대한 대비가 없는 팩토리얼 함수\n",
    "def fact(n):\n",
    "    if n ==0:\n",
    "        return 1\n",
    "    return n * fact(n-1)"
   ]
  },
  {
   "cell_type": "code",
   "execution_count": 2,
   "metadata": {},
   "outputs": [],
   "source": [
    "def factorial(n):\n",
    "    if not isinstance(n, int) or n < 0 :\n",
    "        return None\n",
    "    if n ==0:\n",
    "        return 1\n",
    "    return n * factorial(n-1)"
   ]
  },
  {
   "cell_type": "code",
   "execution_count": 4,
   "metadata": {},
   "outputs": [
    {
     "data": {
      "text/plain": [
       "(None, None)"
      ]
     },
     "execution_count": 4,
     "metadata": {},
     "output_type": "execute_result"
    }
   ],
   "source": [
    "factorial(1.3), factorial(-4)"
   ]
  },
  {
   "cell_type": "code",
   "execution_count": 5,
   "metadata": {},
   "outputs": [
    {
     "data": {
      "text/plain": [
       "120"
      ]
     },
     "execution_count": 5,
     "metadata": {},
     "output_type": "execute_result"
    }
   ],
   "source": [
    "factorial(5)"
   ]
  },
  {
   "cell_type": "markdown",
   "metadata": {},
   "source": [
    "### 34.2 속성(Attribute)"
   ]
  },
  {
   "cell_type": "code",
   "execution_count": 6,
   "metadata": {},
   "outputs": [],
   "source": [
    "class Person:\n",
    "    def __init__(self):\n",
    "        self.hello = 'Hello!'       ### .hello가 속성이 됨 (instance화 시킬 수 있음)\n",
    "    \n",
    "    def greeting(self):\n",
    "        print(self.hello)"
   ]
  },
  {
   "cell_type": "code",
   "execution_count": 7,
   "metadata": {},
   "outputs": [
    {
     "name": "stdout",
     "output_type": "stream",
     "text": [
      "Hello!\n"
     ]
    }
   ],
   "source": [
    "maria = Person()\n",
    "maria.greeting()"
   ]
  },
  {
   "cell_type": "code",
   "execution_count": 8,
   "metadata": {},
   "outputs": [
    {
     "name": "stdout",
     "output_type": "stream",
     "text": [
      "How are you?\n"
     ]
    }
   ],
   "source": [
    "maria.hello = 'How are you?'\n",
    "maria.greeting()"
   ]
  },
  {
   "cell_type": "code",
   "execution_count": 9,
   "metadata": {},
   "outputs": [
    {
     "name": "stdout",
     "output_type": "stream",
     "text": [
      "Good afternoon\n"
     ]
    }
   ],
   "source": [
    "james = Person()\n",
    "james.hello = 'Good afternoon'\n",
    "james.greeting()"
   ]
  },
  {
   "cell_type": "code",
   "execution_count": 22,
   "metadata": {},
   "outputs": [],
   "source": [
    "class Person:\n",
    "    def __init__(self, name, age, address):         # 파이썬에서 속성 부여 시 함수명은 반드시 __init__으로 시작함\n",
    "        self.hello = 'Hello!'\n",
    "        self.name = name\n",
    "        self.age = age\n",
    "        self.address = address\n",
    "\n",
    "    def greeting(self):\n",
    "        print(f'{self.hello} I am {self.name}.')\n",
    "\n",
    "    # Java의 toString() method 역할\n",
    "    def __str__(self):\n",
    "        return f'hello: {self.hello}, name: {self.name}, age: {self.age}, address: {self.address}'\n"
   ]
  },
  {
   "cell_type": "code",
   "execution_count": 23,
   "metadata": {},
   "outputs": [
    {
     "name": "stdout",
     "output_type": "stream",
     "text": [
      "Hello! I am Maria.\n"
     ]
    }
   ],
   "source": [
    "maria = Person('Maria', 23, 'Seoul')\n",
    "maria.greeting()"
   ]
  },
  {
   "cell_type": "code",
   "execution_count": 24,
   "metadata": {},
   "outputs": [
    {
     "name": "stdout",
     "output_type": "stream",
     "text": [
      "Nice to meet you! I am Maria.\n"
     ]
    }
   ],
   "source": [
    "maria.hello = 'Nice to meet you!'\n",
    "maria.greeting()"
   ]
  },
  {
   "cell_type": "code",
   "execution_count": 25,
   "metadata": {},
   "outputs": [
    {
     "name": "stdout",
     "output_type": "stream",
     "text": [
      "hello: Nice to meet you!, name: Maria, age: 23, address: Seoul\n"
     ]
    }
   ],
   "source": [
    "# __str__ method 만들기 전/후 다름\n",
    "print(maria)"
   ]
  },
  {
   "cell_type": "code",
   "execution_count": 26,
   "metadata": {},
   "outputs": [
    {
     "name": "stdout",
     "output_type": "stream",
     "text": [
      "hello: Good to see you!, name: Maria, age: 23, address: Seoul\n"
     ]
    }
   ],
   "source": [
    "maria.hello = 'Good to see you!'\n",
    "print(maria)"
   ]
  },
  {
   "cell_type": "markdown",
   "metadata": {},
   "source": [
    "### 34.3 비공개 속성"
   ]
  },
  {
   "cell_type": "code",
   "execution_count": 28,
   "metadata": {},
   "outputs": [
    {
     "name": "stdout",
     "output_type": "stream",
     "text": [
      "hello: Good to see you!, name: Maria, age: 23, address: Seoul\n"
     ]
    }
   ],
   "source": [
    "print(maria)"
   ]
  },
  {
   "cell_type": "code",
   "execution_count": 43,
   "metadata": {},
   "outputs": [],
   "source": [
    "class Person:\n",
    "    def __init__(self, name, age, addr, wallet):\n",
    "        self.name = name\n",
    "        self.age = age\n",
    "        self.addr = addr\n",
    "        self.__wallet = wallet          # __가 붙으면 비공개 속성이 됨"
   ]
  },
  {
   "cell_type": "code",
   "execution_count": 39,
   "metadata": {},
   "outputs": [],
   "source": [
    "james = Person('James', 35, 'Seoul', 10000)"
   ]
  },
  {
   "cell_type": "code",
   "execution_count": 42,
   "metadata": {},
   "outputs": [],
   "source": [
    "#james.__wallet"
   ]
  },
  {
   "cell_type": "code",
   "execution_count": 41,
   "metadata": {},
   "outputs": [],
   "source": [
    "james.__wallet = 30000          ## 왜 되는지는 오후에 확인 예정"
   ]
  },
  {
   "cell_type": "code",
   "execution_count": 50,
   "metadata": {},
   "outputs": [],
   "source": [
    "class Person:\n",
    "    def __init__(self, name, age, addr, wallet):\n",
    "        self.name = name\n",
    "        self.age = age\n",
    "        self.addr = addr\n",
    "        self.__wallet = wallet          # __가 붙으면 비공개 속성이 됨\n",
    "                                        # 비공개 속성의 경우 추가 메소드를 만들어 공유해서 들어갈 수 있도록 조치함\n",
    "\n",
    "    def pay(self, amt):\n",
    "        if self.__wallet < amt:\n",
    "            print('not enough money')\n",
    "            return\n",
    "        self.__wallet -= amt\n",
    "        print(f'now you have {self.__wallet:,d}won.')\n",
    "\n",
    "    def __greeting(self):\n",
    "        print('Hello')\n",
    "\n",
    "    def hello(self):\n",
    "        self.__greeting()"
   ]
  },
  {
   "cell_type": "code",
   "execution_count": 51,
   "metadata": {},
   "outputs": [
    {
     "name": "stdout",
     "output_type": "stream",
     "text": [
      "now you have 7,500won.\n"
     ]
    }
   ],
   "source": [
    "james = Person('James', 24, 'Seoul', 10000)\n",
    "james.pay(2500)"
   ]
  },
  {
   "cell_type": "code",
   "execution_count": 52,
   "metadata": {},
   "outputs": [
    {
     "name": "stdout",
     "output_type": "stream",
     "text": [
      "not enough money\n"
     ]
    }
   ],
   "source": [
    "james.pay(8000)"
   ]
  },
  {
   "cell_type": "code",
   "execution_count": 54,
   "metadata": {},
   "outputs": [
    {
     "name": "stdout",
     "output_type": "stream",
     "text": [
      "Hello\n"
     ]
    }
   ],
   "source": [
    "# 비공개 메소드\n",
    "james.hello()"
   ]
  },
  {
   "cell_type": "markdown",
   "metadata": {},
   "source": [
    "### 연습문제\n",
    "- class Tmoney"
   ]
  },
  {
   "cell_type": "code",
   "execution_count": 60,
   "metadata": {},
   "outputs": [],
   "source": [
    "class Tmoney:\n",
    "    \n",
    "    def __init__(self, age, balance):\n",
    "        self.age = age\n",
    "        self.__balance = balance\n",
    "    \n",
    "    def pay(self):\n",
    "        if self.age >= 7 and self.age <= 12:\n",
    "            fare = 650\n",
    "        elif self.age >= 13 and self.age <= 18:\n",
    "            fare = 1050\n",
    "        elif self.age >= 19:\n",
    "            fare = 1250\n",
    "        else:\n",
    "            fare = 0\n",
    "\n",
    "        if self.__balance < fare:\n",
    "            print('not enough money')\n",
    "            return\n",
    "        self.__balance -= fare\n",
    "        print(f'for {self.age}-year-old the fare is {fare:,d}, and the balance is {self.__balance:,d}.')"
   ]
  },
  {
   "cell_type": "code",
   "execution_count": 61,
   "metadata": {},
   "outputs": [
    {
     "name": "stdout",
     "output_type": "stream",
     "text": [
      "for 30-year-old the fare is 1,250, and the balance is 8,750.\n"
     ]
    }
   ],
   "source": [
    "card = Tmoney(30, 10000)\n",
    "card.pay()"
   ]
  },
  {
   "cell_type": "code",
   "execution_count": 62,
   "metadata": {},
   "outputs": [
    {
     "name": "stdout",
     "output_type": "stream",
     "text": [
      "for 30-year-old the fare is 1,250, and the balance is 8,750.\n",
      "for 30-year-old the fare is 1,250, and the balance is 7,500.\n",
      "for 30-year-old the fare is 1,250, and the balance is 6,250.\n",
      "for 30-year-old the fare is 1,250, and the balance is 5,000.\n",
      "for 30-year-old the fare is 1,250, and the balance is 3,750.\n",
      "for 30-year-old the fare is 1,250, and the balance is 2,500.\n",
      "for 30-year-old the fare is 1,250, and the balance is 1,250.\n",
      "for 30-year-old the fare is 1,250, and the balance is 0.\n",
      "not enough money\n",
      "not enough money\n"
     ]
    }
   ],
   "source": [
    "card = Tmoney(30, 10000)\n",
    "for i in range(10):\n",
    "    card.pay()"
   ]
  },
  {
   "cell_type": "markdown",
   "metadata": {},
   "source": [
    "- 교통카드"
   ]
  },
  {
   "cell_type": "code",
   "execution_count": 66,
   "metadata": {},
   "outputs": [],
   "source": [
    "class Tcard:\n",
    "    def __init__(self, balance):\n",
    "        self.__balance = balance\n",
    "\n",
    "    def get_balance(self):          # getter\n",
    "        return self.__balance\n",
    "\n",
    "    def pay(self, fare=1350):\n",
    "        if self.__balance < fare:\n",
    "            print('not enough money')\n",
    "        self.__balance -= fare\n",
    "        print(f'balance:{self.__balance:,d}')"
   ]
  },
  {
   "cell_type": "code",
   "execution_count": 67,
   "metadata": {},
   "outputs": [
    {
     "name": "stdout",
     "output_type": "stream",
     "text": [
      "balance:8,650\n",
      "balance:7,300\n",
      "balance:5,950\n",
      "balance:4,600\n",
      "balance:3,250\n",
      "balance:1,900\n",
      "balance:550\n"
     ]
    }
   ],
   "source": [
    "card = Tcard(10000)\n",
    "fare = 1350\n",
    "while card.get_balance() >= fare:\n",
    "    card.pay()"
   ]
  },
  {
   "cell_type": "code",
   "execution_count": null,
   "metadata": {},
   "outputs": [],
   "source": []
  }
 ],
 "metadata": {
  "interpreter": {
   "hash": "0e57b3e1c71b752f2155407481283ac520614bed1fdf3f32bca2723a92a6c7b4"
  },
  "kernelspec": {
   "display_name": "Python 3.9.7 ('base')",
   "language": "python",
   "name": "python3"
  },
  "language_info": {
   "codemirror_mode": {
    "name": "ipython",
    "version": 3
   },
   "file_extension": ".py",
   "mimetype": "text/x-python",
   "name": "python",
   "nbconvert_exporter": "python",
   "pygments_lexer": "ipython3",
   "version": "3.9.7"
  },
  "orig_nbformat": 4
 },
 "nbformat": 4,
 "nbformat_minor": 2
}
