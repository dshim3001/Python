{
  "nbformat": 4,
  "nbformat_minor": 0,
  "metadata": {
    "colab": {
      "name": "u11_Sequence.ipynb",
      "provenance": [],
      "collapsed_sections": []
    },
    "kernelspec": {
      "name": "python3",
      "display_name": "Python 3"
    },
    "language_info": {
      "name": "python"
    }
  },
  "cells": [
    {
      "cell_type": "markdown",
      "source": [
        "# Unit 11. Sequence 자료형\n",
        "\n",
        "- list, tuple, range, str\n",
        "- bytes, bytearrary"
      ],
      "metadata": {
        "id": "emDJjBYuxg-r"
      }
    },
    {
      "cell_type": "markdown",
      "source": [
        "### 11.1 공통 기능"
      ],
      "metadata": {
        "id": "gz3tk_EByYFa"
      }
    },
    {
      "cell_type": "markdown",
      "source": [
        "- 특정값 존재 여부: in - 전치사가 아니라 연산자(operator)"
      ],
      "metadata": {
        "id": "ylnzx-tDybof"
      }
    },
    {
      "cell_type": "code",
      "execution_count": 1,
      "metadata": {
        "colab": {
          "base_uri": "https://localhost:8080/"
        },
        "id": "smYWPYwQxZ2C",
        "outputId": "139b24bb-bb55-4334-a733-1189b0ab3eac"
      },
      "outputs": [
        {
          "output_type": "execute_result",
          "data": {
            "text/plain": [
              "True"
            ]
          },
          "metadata": {},
          "execution_count": 1
        }
      ],
      "source": [
        "a = [10, 20, 30, 40, 50]\n",
        "30 in a"
      ]
    },
    {
      "cell_type": "code",
      "source": [
        "29 in a, 60 not in a"
      ],
      "metadata": {
        "colab": {
          "base_uri": "https://localhost:8080/"
        },
        "id": "pIYhdkYhypjk",
        "outputId": "367ed86d-4097-4893-9f1f-4c3a51c36c8b"
      },
      "execution_count": 2,
      "outputs": [
        {
          "output_type": "execute_result",
          "data": {
            "text/plain": [
              "(False, True)"
            ]
          },
          "metadata": {},
          "execution_count": 2
        }
      ]
    },
    {
      "cell_type": "code",
      "source": [
        "'P' in 'python'         ##객체(list) 뿐만 아니라 스트링도 쓸 수 있다"
      ],
      "metadata": {
        "colab": {
          "base_uri": "https://localhost:8080/"
        },
        "id": "hkf6-q_3yzV0",
        "outputId": "9e53f934-90d7-49f8-c96b-8e151fd1b62f"
      },
      "execution_count": 3,
      "outputs": [
        {
          "output_type": "execute_result",
          "data": {
            "text/plain": [
              "False"
            ]
          },
          "metadata": {},
          "execution_count": 3
        }
      ]
    },
    {
      "cell_type": "markdown",
      "source": [
        "- 시퀀스 객체 연결(concatenation): +"
      ],
      "metadata": {
        "id": "SmHs8CJQzHJI"
      }
    },
    {
      "cell_type": "code",
      "source": [
        "a = [0, 10, 20, 30]\n",
        "b = [9, 8, 7, 6]\n",
        "a + b"
      ],
      "metadata": {
        "colab": {
          "base_uri": "https://localhost:8080/"
        },
        "id": "JeVUvXCCy9SO",
        "outputId": "ce9a567a-fca3-4806-fc87-90f5b84ce330"
      },
      "execution_count": 4,
      "outputs": [
        {
          "output_type": "execute_result",
          "data": {
            "text/plain": [
              "[0, 10, 20, 30, 9, 8, 7, 6]"
            ]
          },
          "metadata": {},
          "execution_count": 4
        }
      ]
    },
    {
      "cell_type": "code",
      "source": [
        "(1,2,3) + (10,20,30)"
      ],
      "metadata": {
        "colab": {
          "base_uri": "https://localhost:8080/"
        },
        "id": "nbNA0smqzT19",
        "outputId": "4e693050-53a3-4f25-8235-79edb0b2b351"
      },
      "execution_count": 5,
      "outputs": [
        {
          "output_type": "execute_result",
          "data": {
            "text/plain": [
              "(1, 2, 3, 10, 20, 30)"
            ]
          },
          "metadata": {},
          "execution_count": 5
        }
      ]
    },
    {
      "cell_type": "code",
      "source": [
        "'Hello' + 'World'"
      ],
      "metadata": {
        "colab": {
          "base_uri": "https://localhost:8080/",
          "height": 35
        },
        "id": "3pQmyzXWzl9s",
        "outputId": "ac5fad72-88a0-45a4-f20c-949f1dce1715"
      },
      "execution_count": 6,
      "outputs": [
        {
          "output_type": "execute_result",
          "data": {
            "text/plain": [
              "'HelloWorld'"
            ],
            "application/vnd.google.colaboratory.intrinsic+json": {
              "type": "string"
            }
          },
          "metadata": {},
          "execution_count": 6
        }
      ]
    },
    {
      "cell_type": "code",
      "source": [
        "# range 자체로는 안됨\n",
        "# range(5) + range(10)"
      ],
      "metadata": {
        "id": "PiTocaKszpLF"
      },
      "execution_count": 10,
      "outputs": []
    },
    {
      "cell_type": "code",
      "source": [
        "list(range(5)) + list(range(10,15))"
      ],
      "metadata": {
        "colab": {
          "base_uri": "https://localhost:8080/"
        },
        "id": "kEuNn8oRzrVO",
        "outputId": "f72552c0-22d5-4851-9124-cfb1b14680cb"
      },
      "execution_count": 9,
      "outputs": [
        {
          "output_type": "execute_result",
          "data": {
            "text/plain": [
              "[0, 1, 2, 3, 4, 10, 11, 12, 13, 14]"
            ]
          },
          "metadata": {},
          "execution_count": 9
        }
      ]
    },
    {
      "cell_type": "code",
      "source": [
        "# 문자열과 숫자 연결, Java에서는 가능\n",
        "# 'Python' + 3.9"
      ],
      "metadata": {
        "id": "QTp1C-BOz0QR"
      },
      "execution_count": 13,
      "outputs": []
    },
    {
      "cell_type": "code",
      "source": [
        "'Python' + str(3.9)"
      ],
      "metadata": {
        "colab": {
          "base_uri": "https://localhost:8080/",
          "height": 35
        },
        "id": "9OlKocb_0GVc",
        "outputId": "3ee55a59-2c4e-49b4-a46c-5dddccf6bdca"
      },
      "execution_count": 12,
      "outputs": [
        {
          "output_type": "execute_result",
          "data": {
            "text/plain": [
              "'Python3.9'"
            ],
            "application/vnd.google.colaboratory.intrinsic+json": {
              "type": "string"
            }
          },
          "metadata": {},
          "execution_count": 12
        }
      ]
    },
    {
      "cell_type": "code",
      "source": [
        "pi = 3.14159\n",
        "f'파이: {pi: .2f}'"
      ],
      "metadata": {
        "colab": {
          "base_uri": "https://localhost:8080/",
          "height": 35
        },
        "id": "r4BoOskm0TXG",
        "outputId": "3bfd6446-fb35-43dc-ec1c-a27af8c9a0ee"
      },
      "execution_count": 15,
      "outputs": [
        {
          "output_type": "execute_result",
          "data": {
            "text/plain": [
              "'파이:  3.14'"
            ],
            "application/vnd.google.colaboratory.intrinsic+json": {
              "type": "string"
            }
          },
          "metadata": {},
          "execution_count": 15
        }
      ]
    },
    {
      "cell_type": "markdown",
      "source": [
        "- 반복 (시퀀스 객체의 반복)"
      ],
      "metadata": {
        "id": "wq_pPPLz04sU"
      }
    },
    {
      "cell_type": "code",
      "source": [
        "[1,2,3] * 3, 3 * [0,1,2]"
      ],
      "metadata": {
        "colab": {
          "base_uri": "https://localhost:8080/"
        },
        "id": "QlviH4_k0i5U",
        "outputId": "070e91d6-ca64-435a-f0b7-0e489690c4aa"
      },
      "execution_count": 17,
      "outputs": [
        {
          "output_type": "execute_result",
          "data": {
            "text/plain": [
              "([1, 2, 3, 1, 2, 3, 1, 2, 3], [0, 1, 2, 0, 1, 2, 0, 1, 2])"
            ]
          },
          "metadata": {},
          "execution_count": 17
        }
      ]
    },
    {
      "cell_type": "code",
      "source": [
        "(1,2,3) * 3"
      ],
      "metadata": {
        "colab": {
          "base_uri": "https://localhost:8080/"
        },
        "id": "JMyY-MyS0-dV",
        "outputId": "f49d7d87-aef1-4dad-ea71-2b79dcfb51e4"
      },
      "execution_count": 18,
      "outputs": [
        {
          "output_type": "execute_result",
          "data": {
            "text/plain": [
              "(1, 2, 3, 1, 2, 3, 1, 2, 3)"
            ]
          },
          "metadata": {},
          "execution_count": 18
        }
      ]
    },
    {
      "cell_type": "code",
      "source": [
        "'열정!' * 3"
      ],
      "metadata": {
        "colab": {
          "base_uri": "https://localhost:8080/",
          "height": 35
        },
        "id": "Yvj_kkKQ1K8l",
        "outputId": "3a6691c0-d503-4ae5-86d0-08974ae5e265"
      },
      "execution_count": 20,
      "outputs": [
        {
          "output_type": "execute_result",
          "data": {
            "text/plain": [
              "'열정!열정!열정!'"
            ],
            "application/vnd.google.colaboratory.intrinsic+json": {
              "type": "string"
            }
          },
          "metadata": {},
          "execution_count": 20
        }
      ]
    },
    {
      "cell_type": "markdown",
      "source": [
        "### 11.2 요소 갯수"
      ],
      "metadata": {
        "id": "p9FWNrKZ1ip3"
      }
    },
    {
      "cell_type": "code",
      "source": [
        "a"
      ],
      "metadata": {
        "colab": {
          "base_uri": "https://localhost:8080/"
        },
        "id": "UVOuYj5-1Nwt",
        "outputId": "9a867b51-51fb-49b6-aca8-0910fd44b17c"
      },
      "execution_count": 21,
      "outputs": [
        {
          "output_type": "execute_result",
          "data": {
            "text/plain": [
              "[0, 10, 20, 30]"
            ]
          },
          "metadata": {},
          "execution_count": 21
        }
      ]
    },
    {
      "cell_type": "code",
      "source": [
        "len(a)"
      ],
      "metadata": {
        "colab": {
          "base_uri": "https://localhost:8080/"
        },
        "id": "SU--q5Ak1nTV",
        "outputId": "dfb9529c-c6e7-423e-ec2e-3c47e7604b84"
      },
      "execution_count": 22,
      "outputs": [
        {
          "output_type": "execute_result",
          "data": {
            "text/plain": [
              "4"
            ]
          },
          "metadata": {},
          "execution_count": 22
        }
      ]
    },
    {
      "cell_type": "code",
      "source": [
        "len((0,1,2,3)), len(range(5)), len('hello')"
      ],
      "metadata": {
        "colab": {
          "base_uri": "https://localhost:8080/"
        },
        "id": "yF4g13Os1oit",
        "outputId": "dd33f752-229e-489b-a47e-e410b37b0b14"
      },
      "execution_count": 24,
      "outputs": [
        {
          "output_type": "execute_result",
          "data": {
            "text/plain": [
              "(4, 5, 5)"
            ]
          },
          "metadata": {},
          "execution_count": 24
        }
      ]
    },
    {
      "cell_type": "code",
      "source": [
        "len('안녕하세요?')"
      ],
      "metadata": {
        "colab": {
          "base_uri": "https://localhost:8080/"
        },
        "id": "DUVILa0J13AN",
        "outputId": "37e3b37e-ec02-4c39-cb3f-cd73d76285b9"
      },
      "execution_count": 25,
      "outputs": [
        {
          "output_type": "execute_result",
          "data": {
            "text/plain": [
              "6"
            ]
          },
          "metadata": {},
          "execution_count": 25
        }
      ]
    },
    {
      "cell_type": "code",
      "source": [
        "len('안녕하세요?'.encode('utf-8'))"
      ],
      "metadata": {
        "colab": {
          "base_uri": "https://localhost:8080/"
        },
        "id": "enyZFk7919te",
        "outputId": "12bbcd96-c1be-4944-cd7f-07e899b8c6b2"
      },
      "execution_count": 26,
      "outputs": [
        {
          "output_type": "execute_result",
          "data": {
            "text/plain": [
              "16"
            ]
          },
          "metadata": {},
          "execution_count": 26
        }
      ]
    },
    {
      "cell_type": "code",
      "source": [
        "'안녕하세요?'.encode('utf-8')"
      ],
      "metadata": {
        "colab": {
          "base_uri": "https://localhost:8080/"
        },
        "id": "mjMdqz0i2bJW",
        "outputId": "fb5c37f8-2dae-4674-8fda-6ef4aa5d4ecd"
      },
      "execution_count": 27,
      "outputs": [
        {
          "output_type": "execute_result",
          "data": {
            "text/plain": [
              "b'\\xec\\x95\\x88\\xeb\\x85\\x95\\xed\\x95\\x98\\xec\\x84\\xb8\\xec\\x9a\\x94?'"
            ]
          },
          "metadata": {},
          "execution_count": 27
        }
      ]
    },
    {
      "cell_type": "markdown",
      "source": [
        "### 11.3 인덱스 사용"
      ],
      "metadata": {
        "id": "DICUx3XJ3O5g"
      }
    },
    {
      "cell_type": "code",
      "source": [
        "a = [38, 21, 53, 62, 19]\n",
        "a[0], a[2], a[4]"
      ],
      "metadata": {
        "colab": {
          "base_uri": "https://localhost:8080/"
        },
        "id": "VD70pcqu2ga2",
        "outputId": "da918e77-5aab-4c05-8943-eabf9e7cae61"
      },
      "execution_count": 28,
      "outputs": [
        {
          "output_type": "execute_result",
          "data": {
            "text/plain": [
              "(38, 53, 19)"
            ]
          },
          "metadata": {},
          "execution_count": 28
        }
      ]
    },
    {
      "cell_type": "code",
      "source": [
        "# 맨 마지막 원소\n",
        "a[len(a)-1]"
      ],
      "metadata": {
        "colab": {
          "base_uri": "https://localhost:8080/"
        },
        "id": "0NQShnoB3r3G",
        "outputId": "658a97d1-570e-4a77-fe4b-18cf42005113"
      },
      "execution_count": 29,
      "outputs": [
        {
          "output_type": "execute_result",
          "data": {
            "text/plain": [
              "19"
            ]
          },
          "metadata": {},
          "execution_count": 29
        }
      ]
    },
    {
      "cell_type": "code",
      "source": [
        "# 파이썬\n",
        "a[-1], a[-2], a[-5]"
      ],
      "metadata": {
        "colab": {
          "base_uri": "https://localhost:8080/"
        },
        "id": "IBHfJuin4Hp-",
        "outputId": "f6aa0ea2-c5e1-4612-d998-6b0b5f5dd2b2"
      },
      "execution_count": 30,
      "outputs": [
        {
          "output_type": "execute_result",
          "data": {
            "text/plain": [
              "(19, 62, 38)"
            ]
          },
          "metadata": {},
          "execution_count": 30
        }
      ]
    },
    {
      "cell_type": "code",
      "source": [
        "b = (10,20,30)\n",
        "b[1]"
      ],
      "metadata": {
        "colab": {
          "base_uri": "https://localhost:8080/"
        },
        "id": "9NE7dsL84N-O",
        "outputId": "ec95bf83-6ec5-4307-9146-7e5f163cff82"
      },
      "execution_count": 33,
      "outputs": [
        {
          "output_type": "execute_result",
          "data": {
            "text/plain": [
              "20"
            ]
          },
          "metadata": {},
          "execution_count": 33
        }
      ]
    },
    {
      "cell_type": "code",
      "source": [
        "(10,20,30,40)[2]"
      ],
      "metadata": {
        "colab": {
          "base_uri": "https://localhost:8080/"
        },
        "id": "PXSLx4gu4aNu",
        "outputId": "fb28322b-0141-44f5-de7a-17cd5ebac890"
      },
      "execution_count": 34,
      "outputs": [
        {
          "output_type": "execute_result",
          "data": {
            "text/plain": [
              "30"
            ]
          },
          "metadata": {},
          "execution_count": 34
        }
      ]
    },
    {
      "cell_type": "code",
      "source": [
        "s = 'Hello'\n",
        "s[2], s[-1]"
      ],
      "metadata": {
        "colab": {
          "base_uri": "https://localhost:8080/"
        },
        "id": "iVk7YtFG4hdH",
        "outputId": "80fee293-1a61-43d9-e7e5-95560c2227f8"
      },
      "execution_count": 35,
      "outputs": [
        {
          "output_type": "execute_result",
          "data": {
            "text/plain": [
              "('l', 'o')"
            ]
          },
          "metadata": {},
          "execution_count": 35
        }
      ]
    },
    {
      "cell_type": "code",
      "source": [
        "range(5)[0], range(5)[-1]"
      ],
      "metadata": {
        "colab": {
          "base_uri": "https://localhost:8080/"
        },
        "id": "rAZYa1MN4k7O",
        "outputId": "67d5b635-4562-473d-f56a-0efa3d07bded"
      },
      "execution_count": 37,
      "outputs": [
        {
          "output_type": "execute_result",
          "data": {
            "text/plain": [
              "(0, 4)"
            ]
          },
          "metadata": {},
          "execution_count": 37
        }
      ]
    },
    {
      "cell_type": "code",
      "source": [
        "b[2]"
      ],
      "metadata": {
        "colab": {
          "base_uri": "https://localhost:8080/"
        },
        "id": "zlYMFxZv4nEe",
        "outputId": "d30225a5-f9be-41ae-d2d9-65dc1f24c298"
      },
      "execution_count": 39,
      "outputs": [
        {
          "output_type": "execute_result",
          "data": {
            "text/plain": [
              "30"
            ]
          },
          "metadata": {},
          "execution_count": 39
        }
      ]
    },
    {
      "cell_type": "markdown",
      "source": [
        "- 요소에 값 할당"
      ],
      "metadata": {
        "id": "r3tEQH9r8VIN"
      }
    },
    {
      "cell_type": "code",
      "source": [
        "a = [0] * 5\n",
        "a[0] = 38\n",
        "a[-1] = 19\n",
        "a"
      ],
      "metadata": {
        "colab": {
          "base_uri": "https://localhost:8080/"
        },
        "id": "1vmWcQoB56oy",
        "outputId": "e9c2bd8b-0f5d-42be-9338-fe4362ba1be9"
      },
      "execution_count": 40,
      "outputs": [
        {
          "output_type": "execute_result",
          "data": {
            "text/plain": [
              "[38, 0, 0, 0, 19]"
            ]
          },
          "metadata": {},
          "execution_count": 40
        }
      ]
    },
    {
      "cell_type": "code",
      "source": [
        "# 튜플은 값을 변경할 수 없음\n",
        "b = (0, 0, 0)\n",
        "# b[1] = 3"
      ],
      "metadata": {
        "id": "i1KpujYQ8jbo"
      },
      "execution_count": 42,
      "outputs": []
    },
    {
      "cell_type": "code",
      "source": [
        "# 스트링도 index를 이용한 item assignment가 안됨\n",
        "s = 'Hello'\n",
        "# s[-1] = 'O'\n",
        "s"
      ],
      "metadata": {
        "colab": {
          "base_uri": "https://localhost:8080/",
          "height": 35
        },
        "id": "ASjsRuKv8vWA",
        "outputId": "5f209ccb-913f-45a4-e6a6-59d8f7976ef3"
      },
      "execution_count": 45,
      "outputs": [
        {
          "output_type": "execute_result",
          "data": {
            "text/plain": [
              "'Hello'"
            ],
            "application/vnd.google.colaboratory.intrinsic+json": {
              "type": "string"
            }
          },
          "metadata": {},
          "execution_count": 45
        }
      ]
    },
    {
      "cell_type": "code",
      "source": [
        "s = s.replace('o', 'O')\n",
        "s"
      ],
      "metadata": {
        "colab": {
          "base_uri": "https://localhost:8080/",
          "height": 35
        },
        "id": "sLRra5Pi9AAY",
        "outputId": "12b4334c-e2be-4838-d1b7-18c54aa56884"
      },
      "execution_count": 48,
      "outputs": [
        {
          "output_type": "execute_result",
          "data": {
            "text/plain": [
              "'HellO'"
            ],
            "application/vnd.google.colaboratory.intrinsic+json": {
              "type": "string"
            }
          },
          "metadata": {},
          "execution_count": 48
        }
      ]
    },
    {
      "cell_type": "markdown",
      "source": [
        "- 요소 삭제"
      ],
      "metadata": {
        "id": "ky6g4jrY9mEb"
      }
    },
    {
      "cell_type": "code",
      "source": [
        "del a[-1]           # 잘 안씀 (pop 씀)\n",
        "a"
      ],
      "metadata": {
        "colab": {
          "base_uri": "https://localhost:8080/"
        },
        "id": "KEhNt_129aAB",
        "outputId": "00ae7870-5cb2-47fd-e564-43144e919c78"
      },
      "execution_count": 49,
      "outputs": [
        {
          "output_type": "execute_result",
          "data": {
            "text/plain": [
              "[38, 0, 0, 0]"
            ]
          },
          "metadata": {},
          "execution_count": 49
        }
      ]
    },
    {
      "cell_type": "code",
      "source": [
        "# tuple, string 다 수정 안됨\n",
        "# del b[1]\n",
        "# del s[1]"
      ],
      "metadata": {
        "id": "_tc2WqwN92ni"
      },
      "execution_count": 53,
      "outputs": []
    },
    {
      "cell_type": "markdown",
      "source": [
        "### 11.4 Slicing\n",
        "- 시작:끝:증가분"
      ],
      "metadata": {
        "id": "QbRWSuaG-Sen"
      }
    },
    {
      "cell_type": "code",
      "source": [
        "a = [0, 10, 20, 30, 40, 50, 60, 70, 80, 90]\n",
        "a[2:5]          # 20, 30, 40"
      ],
      "metadata": {
        "colab": {
          "base_uri": "https://localhost:8080/"
        },
        "id": "6w8Yw0V4-F2i",
        "outputId": "d9d8a331-1301-40a7-b972-f216957076c0"
      },
      "execution_count": 88,
      "outputs": [
        {
          "output_type": "execute_result",
          "data": {
            "text/plain": [
              "[20, 30, 40]"
            ]
          },
          "metadata": {},
          "execution_count": 88
        }
      ]
    },
    {
      "cell_type": "code",
      "source": [
        "# 40, 50, 60, 70\n",
        "a[4:8]"
      ],
      "metadata": {
        "colab": {
          "base_uri": "https://localhost:8080/"
        },
        "id": "RCAzG-m1-oOh",
        "outputId": "3e2e1502-9bb8-46f0-8305-5488685f9d25"
      },
      "execution_count": 89,
      "outputs": [
        {
          "output_type": "execute_result",
          "data": {
            "text/plain": [
              "[40, 50, 60, 70]"
            ]
          },
          "metadata": {},
          "execution_count": 89
        }
      ]
    },
    {
      "cell_type": "code",
      "source": [
        "a[0:-1:2]"
      ],
      "metadata": {
        "colab": {
          "base_uri": "https://localhost:8080/"
        },
        "id": "7vg2esZF--mC",
        "outputId": "759b8362-f44b-4383-b175-c30e013283a0"
      },
      "execution_count": 90,
      "outputs": [
        {
          "output_type": "execute_result",
          "data": {
            "text/plain": [
              "[0, 20, 40, 60, 80]"
            ]
          },
          "metadata": {},
          "execution_count": 90
        }
      ]
    },
    {
      "cell_type": "code",
      "source": [
        "a[-1:0:-3]"
      ],
      "metadata": {
        "colab": {
          "base_uri": "https://localhost:8080/"
        },
        "id": "R3Hx6YI8_R0r",
        "outputId": "791beb80-c107-491c-eb68-c3c49d3c625e"
      },
      "execution_count": 91,
      "outputs": [
        {
          "output_type": "execute_result",
          "data": {
            "text/plain": [
              "[90, 60, 30]"
            ]
          },
          "metadata": {},
          "execution_count": 91
        }
      ]
    },
    {
      "cell_type": "markdown",
      "source": [
        "- 인덱스 생략: 시작과 끝"
      ],
      "metadata": {
        "id": "rRrYmgjf_oDA"
      }
    },
    {
      "cell_type": "code",
      "source": [
        "a[:3], a[0:3]"
      ],
      "metadata": {
        "colab": {
          "base_uri": "https://localhost:8080/"
        },
        "id": "R5bXMn0d_mh5",
        "outputId": "e678d89a-caf6-40de-f81e-2c652738a2c8"
      },
      "execution_count": 92,
      "outputs": [
        {
          "output_type": "execute_result",
          "data": {
            "text/plain": [
              "([0, 10, 20], [0, 10, 20])"
            ]
          },
          "metadata": {},
          "execution_count": 92
        }
      ]
    },
    {
      "cell_type": "code",
      "source": [
        "a[7:], a[7:-1], a[7:10]          #slicing 때는 인덱스+1 숫자 허용됨 (단, 첫번째 주로 씀)"
      ],
      "metadata": {
        "colab": {
          "base_uri": "https://localhost:8080/"
        },
        "id": "3quJTLIL_uXq",
        "outputId": "fac22787-148a-4a7d-8f19-079dd2f61a17"
      },
      "execution_count": 93,
      "outputs": [
        {
          "output_type": "execute_result",
          "data": {
            "text/plain": [
              "([70, 80, 90], [70, 80], [70, 80, 90])"
            ]
          },
          "metadata": {},
          "execution_count": 93
        }
      ]
    },
    {
      "cell_type": "markdown",
      "source": [
        "- 모든 요소 (모든 element 지칭)"
      ],
      "metadata": {
        "id": "_RYapR_SAOCq"
      }
    },
    {
      "cell_type": "code",
      "source": [
        "a[:]"
      ],
      "metadata": {
        "colab": {
          "base_uri": "https://localhost:8080/"
        },
        "id": "8Vg91BO7_vkJ",
        "outputId": "77f3f9f0-68fe-47de-9a22-afcc5f2c03fa"
      },
      "execution_count": 94,
      "outputs": [
        {
          "output_type": "execute_result",
          "data": {
            "text/plain": [
              "[0, 10, 20, 30, 40, 50, 60, 70, 80, 90]"
            ]
          },
          "metadata": {},
          "execution_count": 94
        }
      ]
    },
    {
      "cell_type": "markdown",
      "source": [
        "- 모든 요소를 뒤집어서 출력"
      ],
      "metadata": {
        "id": "zoQJJGN1BJ-h"
      }
    },
    {
      "cell_type": "code",
      "source": [
        "a[::-1]"
      ],
      "metadata": {
        "colab": {
          "base_uri": "https://localhost:8080/"
        },
        "id": "Jbcn7CBeATJS",
        "outputId": "dcfcbfb7-7b43-4677-be9a-2f4ba5baee6c"
      },
      "execution_count": 95,
      "outputs": [
        {
          "output_type": "execute_result",
          "data": {
            "text/plain": [
              "[90, 80, 70, 60, 50, 40, 30, 20, 10, 0]"
            ]
          },
          "metadata": {},
          "execution_count": 95
        }
      ]
    },
    {
      "cell_type": "code",
      "source": [
        "#대칭단어(Palindrome)\n",
        "s = 'madam'\n",
        "s[::-1] == s"
      ],
      "metadata": {
        "colab": {
          "base_uri": "https://localhost:8080/"
        },
        "id": "bIB7cN45BORy",
        "outputId": "83b09d47-2de7-414c-f94b-6317c45fc244"
      },
      "execution_count": 96,
      "outputs": [
        {
          "output_type": "execute_result",
          "data": {
            "text/plain": [
              "True"
            ]
          },
          "metadata": {},
          "execution_count": 96
        }
      ]
    },
    {
      "cell_type": "code",
      "source": [
        "s[:3], s[2:]"
      ],
      "metadata": {
        "colab": {
          "base_uri": "https://localhost:8080/"
        },
        "id": "R6KpwT6qBVIb",
        "outputId": "324037bc-b0ab-4eef-a3e3-b532f5595d95"
      },
      "execution_count": 97,
      "outputs": [
        {
          "output_type": "execute_result",
          "data": {
            "text/plain": [
              "('mad', 'dam')"
            ]
          },
          "metadata": {},
          "execution_count": 97
        }
      ]
    },
    {
      "cell_type": "markdown",
      "source": [
        "- 슬라이스에 요소 할당"
      ],
      "metadata": {
        "id": "onUsPFYPCZSL"
      }
    },
    {
      "cell_type": "code",
      "source": [
        "a"
      ],
      "metadata": {
        "colab": {
          "base_uri": "https://localhost:8080/"
        },
        "id": "UOGmVT1nBodq",
        "outputId": "2ab659ed-26a0-4cfb-f91f-6bcfcc9f96ea"
      },
      "execution_count": 98,
      "outputs": [
        {
          "output_type": "execute_result",
          "data": {
            "text/plain": [
              "[0, 10, 20, 30, 40, 50, 60, 70, 80, 90]"
            ]
          },
          "metadata": {},
          "execution_count": 98
        }
      ]
    },
    {
      "cell_type": "code",
      "source": [
        "a[2:5] = ['a', 'b', 'c']\n",
        "a"
      ],
      "metadata": {
        "colab": {
          "base_uri": "https://localhost:8080/"
        },
        "id": "jtV8WklHCdDT",
        "outputId": "7235e4f8-4472-4c29-b295-915a81a8f2fb"
      },
      "execution_count": 99,
      "outputs": [
        {
          "output_type": "execute_result",
          "data": {
            "text/plain": [
              "[0, 10, 'a', 'b', 'c', 50, 60, 70, 80, 90]"
            ]
          },
          "metadata": {},
          "execution_count": 99
        }
      ]
    },
    {
      "cell_type": "code",
      "source": [
        "a[-2:] = ['z']\n",
        "a"
      ],
      "metadata": {
        "colab": {
          "base_uri": "https://localhost:8080/"
        },
        "id": "d3JavhiqChS0",
        "outputId": "d86f6c87-602b-4b71-8299-79ff70ca14fe"
      },
      "execution_count": 100,
      "outputs": [
        {
          "output_type": "execute_result",
          "data": {
            "text/plain": [
              "[0, 10, 'a', 'b', 'c', 50, 60, 70, 'z']"
            ]
          },
          "metadata": {},
          "execution_count": 100
        }
      ]
    },
    {
      "cell_type": "code",
      "source": [
        "a[0] = list('ABC')\n",
        "a"
      ],
      "metadata": {
        "colab": {
          "base_uri": "https://localhost:8080/"
        },
        "id": "T6jdyMkVDAj9",
        "outputId": "6293224d-54b6-4f72-9ffd-0f683ecd7c57"
      },
      "execution_count": 101,
      "outputs": [
        {
          "output_type": "execute_result",
          "data": {
            "text/plain": [
              "[['A', 'B', 'C'], 10, 'a', 'b', 'c', 50, 60, 70, 'z']"
            ]
          },
          "metadata": {},
          "execution_count": 101
        }
      ]
    },
    {
      "cell_type": "code",
      "source": [
        "a[7:8] = list('XYZ')\n",
        "a"
      ],
      "metadata": {
        "colab": {
          "base_uri": "https://localhost:8080/"
        },
        "id": "Wv7rezUpDDrM",
        "outputId": "97874518-7e2e-43ac-c7af-3e304293aa3a"
      },
      "execution_count": 102,
      "outputs": [
        {
          "output_type": "execute_result",
          "data": {
            "text/plain": [
              "[['A', 'B', 'C'], 10, 'a', 'b', 'c', 50, 60, 'X', 'Y', 'Z', 'z']"
            ]
          },
          "metadata": {},
          "execution_count": 102
        }
      ]
    },
    {
      "cell_type": "code",
      "source": [
        "s = 'hello'\n",
        "#s[1:2] = 'EEE'"
      ],
      "metadata": {
        "id": "koIjbbWWDQhr"
      },
      "execution_count": 103,
      "outputs": []
    },
    {
      "cell_type": "code",
      "source": [
        "s = s.replace('e', 'EEE')\n",
        "s"
      ],
      "metadata": {
        "colab": {
          "base_uri": "https://localhost:8080/",
          "height": 35
        },
        "id": "mlE0c4GNDx-N",
        "outputId": "b71cf95c-1045-4497-a923-6a1ace6b1b74"
      },
      "execution_count": 104,
      "outputs": [
        {
          "output_type": "execute_result",
          "data": {
            "text/plain": [
              "'hEEEllo'"
            ],
            "application/vnd.google.colaboratory.intrinsic+json": {
              "type": "string"
            }
          },
          "metadata": {},
          "execution_count": 104
        }
      ]
    },
    {
      "cell_type": "markdown",
      "source": [
        "- 슬라이스 삭제"
      ],
      "metadata": {
        "id": "V1651QL4FL3w"
      }
    },
    {
      "cell_type": "code",
      "source": [
        "a = list(range(10))\n",
        "del a[3:7]\n",
        "a"
      ],
      "metadata": {
        "colab": {
          "base_uri": "https://localhost:8080/"
        },
        "id": "3F8iyK1BECTM",
        "outputId": "93ba945f-cb6a-4d4e-b7f9-f95a1e8d369c"
      },
      "execution_count": 106,
      "outputs": [
        {
          "output_type": "execute_result",
          "data": {
            "text/plain": [
              "[0, 1, 2, 7, 8, 9]"
            ]
          },
          "metadata": {},
          "execution_count": 106
        }
      ]
    },
    {
      "cell_type": "code",
      "source": [
        "a = list(range(10))         #numpyarray 2차원 3차원 주로 사용할 예정 (crawling 등)\n",
        "del a[::2]\n",
        "a"
      ],
      "metadata": {
        "colab": {
          "base_uri": "https://localhost:8080/"
        },
        "id": "IkYjK8L4FUwl",
        "outputId": "1e89314b-7210-49e3-dd03-5150f4ff86ed"
      },
      "execution_count": 107,
      "outputs": [
        {
          "output_type": "execute_result",
          "data": {
            "text/plain": [
              "[1, 3, 5, 7, 9]"
            ]
          },
          "metadata": {},
          "execution_count": 107
        }
      ]
    },
    {
      "cell_type": "code",
      "source": [
        ""
      ],
      "metadata": {
        "id": "rm3y7IYEFsLN"
      },
      "execution_count": null,
      "outputs": []
    }
  ]
}