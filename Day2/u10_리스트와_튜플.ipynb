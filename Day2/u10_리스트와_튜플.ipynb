{
  "nbformat": 4,
  "nbformat_minor": 0,
  "metadata": {
    "colab": {
      "name": "u10_리스트와 튜플.ipynb",
      "provenance": []
    },
    "kernelspec": {
      "name": "python3",
      "display_name": "Python 3"
    },
    "language_info": {
      "name": "python"
    }
  },
  "cells": [
    {
      "cell_type": "markdown",
      "source": [
        "# Unit 10. 리스트와 튜플"
      ],
      "metadata": {
        "id": "1NdfqrPNhZ3U"
      }
    },
    {
      "cell_type": "markdown",
      "source": [
        "### 10.1 리스트(List)"
      ],
      "metadata": {
        "id": "6gxIvXZ2iv2S"
      }
    },
    {
      "cell_type": "code",
      "execution_count": 1,
      "metadata": {
        "colab": {
          "base_uri": "https://localhost:8080/"
        },
        "id": "0Xy3jf49hVj-",
        "outputId": "b91e8b31-4f1f-46f8-9f95-7b6ee0316252"
      },
      "outputs": [
        {
          "output_type": "execute_result",
          "data": {
            "text/plain": [
              "[38, 21, 53, 62, 19]"
            ]
          },
          "metadata": {},
          "execution_count": 1
        }
      ],
      "source": [
        "a = [38, 21, 53, 62, 19]\n",
        "a"
      ]
    },
    {
      "cell_type": "code",
      "source": [
        "import numpy as np\n",
        "b = list(np.random.randint(10,70,10))\n",
        "b"
      ],
      "metadata": {
        "colab": {
          "base_uri": "https://localhost:8080/"
        },
        "id": "Pw__JVqxi4cd",
        "outputId": "f61fcfdb-88ef-41eb-fb71-47983e669abf"
      },
      "execution_count": 5,
      "outputs": [
        {
          "output_type": "execute_result",
          "data": {
            "text/plain": [
              "[59, 65, 22, 37, 25, 30, 51, 60, 44, 19]"
            ]
          },
          "metadata": {},
          "execution_count": 5
        }
      ]
    },
    {
      "cell_type": "code",
      "source": [
        "# 리스트에는 여러 자료형을 사용할 수 있음\n",
        "person = ['james', 27, 175.3, 'Male']\n",
        "person"
      ],
      "metadata": {
        "colab": {
          "base_uri": "https://localhost:8080/"
        },
        "id": "yuLY-QNgi9eD",
        "outputId": "28abebe4-54a0-4d52-c58d-ae01e75ad4f4"
      },
      "execution_count": 7,
      "outputs": [
        {
          "output_type": "execute_result",
          "data": {
            "text/plain": [
              "['james', 27, 175.3, 'Male']"
            ]
          },
          "metadata": {},
          "execution_count": 7
        }
      ]
    },
    {
      "cell_type": "code",
      "source": [
        "# 위의 리스트는 아래와 같은 딕셔너리로 표현하는 것이 더 좋다\n",
        "{'name':'james', 'age':27, 'height': 175.3, 'gender':'Male'}"
      ],
      "metadata": {
        "colab": {
          "base_uri": "https://localhost:8080/"
        },
        "id": "ruET3GKEjkRk",
        "outputId": "8e3cbf47-d742-4d4b-bbf3-133e06780dff"
      },
      "execution_count": 8,
      "outputs": [
        {
          "output_type": "execute_result",
          "data": {
            "text/plain": [
              "{'age': 27, 'gender': 'Male', 'height': 175.3, 'name': 'james'}"
            ]
          },
          "metadata": {},
          "execution_count": 8
        }
      ]
    },
    {
      "cell_type": "markdown",
      "source": [
        "- 빈 리스트 만들기"
      ],
      "metadata": {
        "id": "Xa1wx8M1kGUS"
      }
    },
    {
      "cell_type": "code",
      "source": [
        "a = []\n",
        "b = list()\n",
        "a, b = [], []"
      ],
      "metadata": {
        "id": "7o2w7IBkj_-G"
      },
      "execution_count": 9,
      "outputs": []
    },
    {
      "cell_type": "code",
      "source": [
        "import random\n",
        "a = []\n",
        "for i in range(5):\n",
        "    a.append(random.randint(60,100))\n",
        "a"
      ],
      "metadata": {
        "colab": {
          "base_uri": "https://localhost:8080/"
        },
        "id": "kWxfu-bVkkZk",
        "outputId": "1d32ce15-b07e-4676-cd20-9761ddf6296a"
      },
      "execution_count": 11,
      "outputs": [
        {
          "output_type": "execute_result",
          "data": {
            "text/plain": [
              "[88, 67, 90, 77, 68]"
            ]
          },
          "metadata": {},
          "execution_count": 11
        }
      ]
    },
    {
      "cell_type": "markdown",
      "source": [
        "- range 객체"
      ],
      "metadata": {
        "id": "ieP3dVCvl7Jz"
      }
    },
    {
      "cell_type": "code",
      "source": [
        "# range parameter 1개ㅣ 횟수 의미(0~n-1)\n",
        "list(range(5))"
      ],
      "metadata": {
        "colab": {
          "base_uri": "https://localhost:8080/"
        },
        "id": "u5q6NZ3pks2I",
        "outputId": "bd2db5b6-5289-4372-a85b-b38b04225ed2"
      },
      "execution_count": 12,
      "outputs": [
        {
          "output_type": "execute_result",
          "data": {
            "text/plain": [
              "[0, 1, 2, 3, 4]"
            ]
          },
          "metadata": {},
          "execution_count": 12
        }
      ]
    },
    {
      "cell_type": "code",
      "source": [
        "# range parameter 2개: 시작, 끝 의미(시작~끝-1)\n",
        "list(range(1,10))"
      ],
      "metadata": {
        "colab": {
          "base_uri": "https://localhost:8080/"
        },
        "id": "dR6ArN-YmDMI",
        "outputId": "765aa47f-e71c-4495-b247-e973805cb87c"
      },
      "execution_count": 13,
      "outputs": [
        {
          "output_type": "execute_result",
          "data": {
            "text/plain": [
              "[1, 2, 3, 4, 5, 6, 7, 8, 9]"
            ]
          },
          "metadata": {},
          "execution_count": 13
        }
      ]
    },
    {
      "cell_type": "code",
      "source": [
        "# range parameter 3개: 시작, 끝, 증가폭 의미\n",
        "list(range(1,10,2))"
      ],
      "metadata": {
        "colab": {
          "base_uri": "https://localhost:8080/"
        },
        "id": "M6_wEooMmLNF",
        "outputId": "94819d76-b1c1-4dcd-e1c7-d5563d606ef7"
      },
      "execution_count": 14,
      "outputs": [
        {
          "output_type": "execute_result",
          "data": {
            "text/plain": [
              "[1, 3, 5, 7, 9]"
            ]
          },
          "metadata": {},
          "execution_count": 14
        }
      ]
    },
    {
      "cell_type": "code",
      "source": [
        "list(range(10,0,-2))"
      ],
      "metadata": {
        "colab": {
          "base_uri": "https://localhost:8080/"
        },
        "id": "zmROCy-WmUk_",
        "outputId": "2dbb07ab-6e9d-4c88-de79-3db02677f96f"
      },
      "execution_count": 16,
      "outputs": [
        {
          "output_type": "execute_result",
          "data": {
            "text/plain": [
              "[10, 8, 6, 4, 2]"
            ]
          },
          "metadata": {},
          "execution_count": 16
        }
      ]
    },
    {
      "cell_type": "markdown",
      "source": [
        "### 10.2 튜플(tuple)"
      ],
      "metadata": {
        "id": "xj0FXZSOm7nR"
      }
    },
    {
      "cell_type": "code",
      "source": [
        "person"
      ],
      "metadata": {
        "colab": {
          "base_uri": "https://localhost:8080/"
        },
        "id": "9x18OBa3mWsa",
        "outputId": "f48ddab5-0025-48a2-8014-1551402984bf"
      },
      "execution_count": 17,
      "outputs": [
        {
          "output_type": "execute_result",
          "data": {
            "text/plain": [
              "['james', 27, 175.3, 'Male']"
            ]
          },
          "metadata": {},
          "execution_count": 17
        }
      ]
    },
    {
      "cell_type": "code",
      "source": [
        "person = ('james', 27, 175.3, 'Male')\n",
        "person"
      ],
      "metadata": {
        "colab": {
          "base_uri": "https://localhost:8080/"
        },
        "id": "2Bk8KEDUnAfL",
        "outputId": "b61aebbf-872d-42f9-90e7-6167bef42173"
      },
      "execution_count": 18,
      "outputs": [
        {
          "output_type": "execute_result",
          "data": {
            "text/plain": [
              "('james', 27, 175.3, 'Male')"
            ]
          },
          "metadata": {},
          "execution_count": 18
        }
      ]
    },
    {
      "cell_type": "code",
      "source": [
        "size = (3)\n",
        "type(size)"
      ],
      "metadata": {
        "colab": {
          "base_uri": "https://localhost:8080/"
        },
        "id": "2zKqsiosnF2M",
        "outputId": "e5b5a2cf-903b-4330-c20d-22aa6608fb2b"
      },
      "execution_count": 19,
      "outputs": [
        {
          "output_type": "execute_result",
          "data": {
            "text/plain": [
              "int"
            ]
          },
          "metadata": {},
          "execution_count": 19
        }
      ]
    },
    {
      "cell_type": "code",
      "source": [
        "size = (3,)\n",
        "type(size)"
      ],
      "metadata": {
        "colab": {
          "base_uri": "https://localhost:8080/"
        },
        "id": "g736RNnkoN9g",
        "outputId": "21f5bc25-5342-4624-9f60-1422f2a79954"
      },
      "execution_count": 20,
      "outputs": [
        {
          "output_type": "execute_result",
          "data": {
            "text/plain": [
              "tuple"
            ]
          },
          "metadata": {},
          "execution_count": 20
        }
      ]
    },
    {
      "cell_type": "code",
      "source": [
        "size = 3,\n",
        "type(size)"
      ],
      "metadata": {
        "colab": {
          "base_uri": "https://localhost:8080/"
        },
        "id": "J0wRFHLEoUQA",
        "outputId": "d45ccc32-e6e2-4fd6-bb32-8f012f705073"
      },
      "execution_count": 21,
      "outputs": [
        {
          "output_type": "execute_result",
          "data": {
            "text/plain": [
              "tuple"
            ]
          },
          "metadata": {},
          "execution_count": 21
        }
      ]
    },
    {
      "cell_type": "markdown",
      "source": [
        "- 튜플은 요소를 변경, 추가, 삭제할 수도 없다."
      ],
      "metadata": {
        "id": "6OrMv3rmoXKD"
      }
    },
    {
      "cell_type": "code",
      "source": [
        "t = ()          ## 튜플과 반복만 같이 사용 X\n",
        "type(t)"
      ],
      "metadata": {
        "colab": {
          "base_uri": "https://localhost:8080/"
        },
        "id": "r2WbVvRroVzQ",
        "outputId": "1f3af6a1-9e9d-4bbc-ff87-1d49d85c11cc"
      },
      "execution_count": 22,
      "outputs": [
        {
          "output_type": "execute_result",
          "data": {
            "text/plain": [
              "tuple"
            ]
          },
          "metadata": {},
          "execution_count": 22
        }
      ]
    },
    {
      "cell_type": "code",
      "source": [
        "t = tuple(range(5))\n",
        "t"
      ],
      "metadata": {
        "colab": {
          "base_uri": "https://localhost:8080/"
        },
        "id": "lLbhguxeoqUX",
        "outputId": "5925d033-155c-4740-8f77-8149cc991c18"
      },
      "execution_count": 23,
      "outputs": [
        {
          "output_type": "execute_result",
          "data": {
            "text/plain": [
              "(0, 1, 2, 3, 4)"
            ]
          },
          "metadata": {},
          "execution_count": 23
        }
      ]
    },
    {
      "cell_type": "markdown",
      "source": [
        "- 리스트 <--> 튜플"
      ],
      "metadata": {
        "id": "XkJj2_4Bo1-V"
      }
    },
    {
      "cell_type": "code",
      "source": [
        "l = list(t)\n",
        "type(l)"
      ],
      "metadata": {
        "colab": {
          "base_uri": "https://localhost:8080/"
        },
        "id": "VrHZkYeLo0IP",
        "outputId": "9a4a57fc-c941-44cd-842f-bbc6c3ac99cd"
      },
      "execution_count": 24,
      "outputs": [
        {
          "output_type": "execute_result",
          "data": {
            "text/plain": [
              "list"
            ]
          },
          "metadata": {},
          "execution_count": 24
        }
      ]
    },
    {
      "cell_type": "code",
      "source": [
        "type(tuple(l))          #리스트/튜플 객체를 만들어 주는 생성자 함수"
      ],
      "metadata": {
        "colab": {
          "base_uri": "https://localhost:8080/"
        },
        "id": "Y_YuT4hgpIkg",
        "outputId": "d1c9caae-e620-4519-f55c-5fd78cacf53f"
      },
      "execution_count": 25,
      "outputs": [
        {
          "output_type": "execute_result",
          "data": {
            "text/plain": [
              "tuple"
            ]
          },
          "metadata": {},
          "execution_count": 25
        }
      ]
    },
    {
      "cell_type": "markdown",
      "source": [
        "- 리스트에 문자열 넣기"
      ],
      "metadata": {
        "id": "A4cTh1uBpYlS"
      }
    },
    {
      "cell_type": "code",
      "source": [
        "list('안녕하세요')"
      ],
      "metadata": {
        "colab": {
          "base_uri": "https://localhost:8080/"
        },
        "id": "m6M_vdTxpLyg",
        "outputId": "fe026e1e-e641-4c2e-ae13-cfe79756214b"
      },
      "execution_count": 26,
      "outputs": [
        {
          "output_type": "execute_result",
          "data": {
            "text/plain": [
              "['안', '녕', '하', '세', '요']"
            ]
          },
          "metadata": {},
          "execution_count": 26
        }
      ]
    },
    {
      "cell_type": "code",
      "source": [
        "list('ABCD')"
      ],
      "metadata": {
        "colab": {
          "base_uri": "https://localhost:8080/"
        },
        "id": "2YCUQ4Frpggs",
        "outputId": "6b1a0624-7d40-4c9d-9f09-86157e1f1d23"
      },
      "execution_count": 27,
      "outputs": [
        {
          "output_type": "execute_result",
          "data": {
            "text/plain": [
              "['A', 'B', 'C', 'D']"
            ]
          },
          "metadata": {},
          "execution_count": 27
        }
      ]
    },
    {
      "cell_type": "markdown",
      "source": [
        "- list/tuple unpacking"
      ],
      "metadata": {
        "id": "5FfydHJ9puiw"
      }
    },
    {
      "cell_type": "code",
      "source": [
        "a, b, c, d = 'a', 'b', 'c', 'd'         # 오/왼 모두 튜플\n",
        "a, b, c, d"
      ],
      "metadata": {
        "colab": {
          "base_uri": "https://localhost:8080/"
        },
        "id": "pF2pw3eRpsSo",
        "outputId": "4f95a87b-ef87-49d3-911a-e72eae184a43"
      },
      "execution_count": 29,
      "outputs": [
        {
          "output_type": "execute_result",
          "data": {
            "text/plain": [
              "('a', 'b', 'c', 'd')"
            ]
          },
          "metadata": {},
          "execution_count": 29
        }
      ]
    },
    {
      "cell_type": "code",
      "source": [
        "a, b, c, d = list('abcd')\n",
        "a, b, c, d"
      ],
      "metadata": {
        "colab": {
          "base_uri": "https://localhost:8080/"
        },
        "id": "sNUWdMYMp6ia",
        "outputId": "e6e5cf26-69fd-46d1-e7ac-7a00d2990f2f"
      },
      "execution_count": 30,
      "outputs": [
        {
          "output_type": "execute_result",
          "data": {
            "text/plain": [
              "('a', 'b', 'c', 'd')"
            ]
          },
          "metadata": {},
          "execution_count": 30
        }
      ]
    },
    {
      "cell_type": "code",
      "source": [
        "x, y, z = range(3)\n",
        "x, y, z"
      ],
      "metadata": {
        "colab": {
          "base_uri": "https://localhost:8080/"
        },
        "id": "xAFLmyqwqFMA",
        "outputId": "956253ab-bde2-40d0-ef23-d79d6d3d1a93"
      },
      "execution_count": 31,
      "outputs": [
        {
          "output_type": "execute_result",
          "data": {
            "text/plain": [
              "(0, 1, 2)"
            ]
          },
          "metadata": {},
          "execution_count": 31
        }
      ]
    },
    {
      "cell_type": "code",
      "source": [
        "x, y, z = map(int, input().split())\n",
        "x, y, z"
      ],
      "metadata": {
        "colab": {
          "base_uri": "https://localhost:8080/"
        },
        "id": "HsCHMVszqPjR",
        "outputId": "43af01ed-fd0c-4b9f-8760-619231fc87f8"
      },
      "execution_count": 33,
      "outputs": [
        {
          "name": "stdout",
          "output_type": "stream",
          "text": [
            "10 20 30\n"
          ]
        },
        {
          "output_type": "execute_result",
          "data": {
            "text/plain": [
              "(10, 20, 30)"
            ]
          },
          "metadata": {},
          "execution_count": 33
        }
      ]
    },
    {
      "cell_type": "code",
      "source": [
        "x, y, z = map(lambda x: int(x)*2 + 5, input().split())          #lambda(익명)함수: 나중에 응용\n",
        "x, y, z"
      ],
      "metadata": {
        "colab": {
          "base_uri": "https://localhost:8080/"
        },
        "id": "alRLC7wvqd5R",
        "outputId": "dc06d7b8-6654-4b1f-9091-85f64accd5c0"
      },
      "execution_count": 34,
      "outputs": [
        {
          "name": "stdout",
          "output_type": "stream",
          "text": [
            "10 20 30\n"
          ]
        },
        {
          "output_type": "execute_result",
          "data": {
            "text/plain": [
              "(25, 45, 65)"
            ]
          },
          "metadata": {},
          "execution_count": 34
        }
      ]
    },
    {
      "cell_type": "code",
      "source": [
        ""
      ],
      "metadata": {
        "id": "q9jyIjScq4kA"
      },
      "execution_count": null,
      "outputs": []
    }
  ]
}