{
  "nbformat": 4,
  "nbformat_minor": 0,
  "metadata": {
    "colab": {
      "name": "u12_딕셔너리.ipynb",
      "provenance": [],
      "collapsed_sections": []
    },
    "kernelspec": {
      "name": "python3",
      "display_name": "Python 3"
    },
    "language_info": {
      "name": "python"
    }
  },
  "cells": [
    {
      "cell_type": "markdown",
      "source": [
        "# Unit 12. 딕셔너리(Ditionary)"
      ],
      "metadata": {
        "id": "8bcIvyK6VB0K"
      }
    },
    {
      "cell_type": "code",
      "execution_count": 9,
      "metadata": {
        "colab": {
          "base_uri": "https://localhost:8080/"
        },
        "id": "RyN1_zfIU4LH",
        "outputId": "498826d1-39b9-4f74-cbf3-d8d24e31e1a7"
      },
      "outputs": [
        {
          "output_type": "execute_result",
          "data": {
            "text/plain": [
              "{'armor': 18.72, 'health': 490, 'mana': 334, 'melee': 550}"
            ]
          },
          "metadata": {},
          "execution_count": 9
        }
      ],
      "source": [
        "lux1 = [490, 334, 550, 18.72]\n",
        "lux2 = {'health': 490, 'mana':334, 'melee':550, 'armor':18.72}\n",
        "lux2"
      ]
    },
    {
      "cell_type": "code",
      "source": [
        "armor = lux1[-1]\n",
        "armor"
      ],
      "metadata": {
        "colab": {
          "base_uri": "https://localhost:8080/"
        },
        "id": "gfZVv0A6XLwX",
        "outputId": "3703cfac-075a-40ee-e14f-1e77497b3945"
      },
      "execution_count": 3,
      "outputs": [
        {
          "output_type": "execute_result",
          "data": {
            "text/plain": [
              "18.72"
            ]
          },
          "metadata": {},
          "execution_count": 3
        }
      ]
    },
    {
      "cell_type": "code",
      "source": [
        "armor = lux2['armor']\n",
        "armor"
      ],
      "metadata": {
        "colab": {
          "base_uri": "https://localhost:8080/"
        },
        "id": "C_lWEGZ1XPu9",
        "outputId": "64ce4bc3-c4c6-46b9-ec1c-0adea74ee82f"
      },
      "execution_count": 4,
      "outputs": [
        {
          "output_type": "execute_result",
          "data": {
            "text/plain": [
              "18.72"
            ]
          },
          "metadata": {},
          "execution_count": 4
        }
      ]
    },
    {
      "cell_type": "markdown",
      "source": [
        "### 12.1 딕셔너리 만들기"
      ],
      "metadata": {
        "id": "9YyNZE14X0wj"
      }
    },
    {
      "cell_type": "code",
      "source": [
        "#key값의 순서(입력한 순서)가 보장되지 않음\n",
        "lux = {'health': 490, 'mana':334, 'melee':550, 'armor':18.72}\n",
        "lux"
      ],
      "metadata": {
        "colab": {
          "base_uri": "https://localhost:8080/"
        },
        "id": "OupspXBQXWe9",
        "outputId": "c657f0aa-b30b-4d88-b325-01b285a4abee"
      },
      "execution_count": 10,
      "outputs": [
        {
          "output_type": "execute_result",
          "data": {
            "text/plain": [
              "{'armor': 18.72, 'health': 490, 'mana': 334, 'melee': 550}"
            ]
          },
          "metadata": {},
          "execution_count": 10
        }
      ]
    },
    {
      "cell_type": "code",
      "source": [
        "lux = {'health': 490, 'mana':334, 'melee':550, 'armor':18.72, 'mana':430}\n",
        "lux"
      ],
      "metadata": {
        "colab": {
          "base_uri": "https://localhost:8080/"
        },
        "id": "UpJWqBFyXwPt",
        "outputId": "fd1ec7f4-14bb-4ddf-89c7-d1d13d8b323b"
      },
      "execution_count": 11,
      "outputs": [
        {
          "output_type": "execute_result",
          "data": {
            "text/plain": [
              "{'armor': 18.72, 'health': 490, 'mana': 430, 'melee': 550}"
            ]
          },
          "metadata": {},
          "execution_count": 11
        }
      ]
    },
    {
      "cell_type": "code",
      "source": [
        "#key값의 순서(입력한 순서)가 보장됨\n",
        "from collections import OrderedDict\n",
        "d = OrderedDict()\n",
        "d['health'] = 490\n",
        "d['mana'] = 334\n",
        "d['armor'] = 18.72\n",
        "d"
      ],
      "metadata": {
        "colab": {
          "base_uri": "https://localhost:8080/"
        },
        "id": "9Zu-Apn_YKXl",
        "outputId": "160b9ccb-1927-4c0d-e408-0164a0af798b"
      },
      "execution_count": 15,
      "outputs": [
        {
          "output_type": "execute_result",
          "data": {
            "text/plain": [
              "OrderedDict([('health', 490), ('mana', 334), ('armor', 18.72)])"
            ]
          },
          "metadata": {},
          "execution_count": 15
        }
      ]
    },
    {
      "cell_type": "markdown",
      "source": [
        "- 빈 딕셔너리 생성"
      ],
      "metadata": {
        "id": "Obr2yLgIZQ7l"
      }
    },
    {
      "cell_type": "code",
      "source": [
        "a = {}\n",
        "b = dict()\n",
        "type(a), type(b)"
      ],
      "metadata": {
        "colab": {
          "base_uri": "https://localhost:8080/"
        },
        "id": "KojvIrwwYew2",
        "outputId": "9d8ab900-afff-4c06-8da8-b347f9aaa53b"
      },
      "execution_count": 17,
      "outputs": [
        {
          "output_type": "execute_result",
          "data": {
            "text/plain": [
              "(dict, dict)"
            ]
          },
          "metadata": {},
          "execution_count": 17
        }
      ]
    },
    {
      "cell_type": "code",
      "source": [
        "c = set([1,2,3])\n",
        "type(c)"
      ],
      "metadata": {
        "colab": {
          "base_uri": "https://localhost:8080/"
        },
        "id": "0Riqke4TZY-_",
        "outputId": "6b0b8762-a60b-40fd-c604-970119e1109e"
      },
      "execution_count": 20,
      "outputs": [
        {
          "output_type": "execute_result",
          "data": {
            "text/plain": [
              "set"
            ]
          },
          "metadata": {},
          "execution_count": 20
        }
      ]
    },
    {
      "cell_type": "code",
      "source": [
        "c"
      ],
      "metadata": {
        "colab": {
          "base_uri": "https://localhost:8080/"
        },
        "id": "UR-6ugS0Zehm",
        "outputId": "39cfa362-0ac6-472c-abd4-62b796a82071"
      },
      "execution_count": 21,
      "outputs": [
        {
          "output_type": "execute_result",
          "data": {
            "text/plain": [
              "{1, 2, 3}"
            ]
          },
          "metadata": {},
          "execution_count": 21
        }
      ]
    },
    {
      "cell_type": "markdown",
      "source": [
        "- dict() 로 딕셔너리 생성"
      ],
      "metadata": {
        "id": "Fm22X6DDZ1q9"
      }
    },
    {
      "cell_type": "code",
      "source": [
        "lux1 = dict(health=490, mana=334, melee=550, armor=18.72)    # 키=값 형식으로 딕셔너리를 만듦\n",
        "lux1"
      ],
      "metadata": {
        "colab": {
          "base_uri": "https://localhost:8080/"
        },
        "id": "lLdTSQDfZhUN",
        "outputId": "ec1d234d-a180-43f4-c63c-38ed91449929"
      },
      "execution_count": 23,
      "outputs": [
        {
          "output_type": "execute_result",
          "data": {
            "text/plain": [
              "{'armor': 18.72, 'health': 490, 'mana': 334, 'melee': 550}"
            ]
          },
          "metadata": {},
          "execution_count": 23
        }
      ]
    },
    {
      "cell_type": "code",
      "source": [
        "keys = ['health', 'mana', 'melee', 'armor']\n",
        "values = [490, 334, 550, 18.72]\n",
        "list(zip(keys, values))"
      ],
      "metadata": {
        "colab": {
          "base_uri": "https://localhost:8080/"
        },
        "id": "gXD6HMWIaMKm",
        "outputId": "98658c59-eada-47f7-9cfa-9de252333fb1"
      },
      "execution_count": 24,
      "outputs": [
        {
          "output_type": "execute_result",
          "data": {
            "text/plain": [
              "[('health', 490), ('mana', 334), ('melee', 550), ('armor', 18.72)]"
            ]
          },
          "metadata": {},
          "execution_count": 24
        }
      ]
    },
    {
      "cell_type": "code",
      "source": [
        "lux2 = dict(zip(keys, values))\n",
        "lux2"
      ],
      "metadata": {
        "colab": {
          "base_uri": "https://localhost:8080/"
        },
        "id": "8iwVl5aMaioQ",
        "outputId": "161f9c06-259a-4b30-9585-2c2cbf055b28"
      },
      "execution_count": 26,
      "outputs": [
        {
          "output_type": "execute_result",
          "data": {
            "text/plain": [
              "{'armor': 18.72, 'health': 490, 'mana': 334, 'melee': 550}"
            ]
          },
          "metadata": {},
          "execution_count": 26
        }
      ]
    },
    {
      "cell_type": "code",
      "source": [
        "lux3 = dict([('health', 490), ('mana', 334), ('melee', 550), ('armor', 18.72)])\n",
        "lux3"
      ],
      "metadata": {
        "colab": {
          "base_uri": "https://localhost:8080/"
        },
        "id": "3QSSOB3uatSI",
        "outputId": "89592dab-f040-4505-c64a-2f38c4491e06"
      },
      "execution_count": 27,
      "outputs": [
        {
          "output_type": "execute_result",
          "data": {
            "text/plain": [
              "{'armor': 18.72, 'health': 490, 'mana': 334, 'melee': 550}"
            ]
          },
          "metadata": {},
          "execution_count": 27
        }
      ]
    },
    {
      "cell_type": "code",
      "source": [
        "lux4 = dict({'health': 490, 'mana':334, 'melee':550, 'armor':18.72, 'mana':430})\n",
        "lux4"
      ],
      "metadata": {
        "colab": {
          "base_uri": "https://localhost:8080/"
        },
        "id": "0bYapBTebH4e",
        "outputId": "6ade2fc0-431a-4769-cbbf-c396075f0b30"
      },
      "execution_count": 28,
      "outputs": [
        {
          "output_type": "execute_result",
          "data": {
            "text/plain": [
              "{'armor': 18.72, 'health': 490, 'mana': 430, 'melee': 550}"
            ]
          },
          "metadata": {},
          "execution_count": 28
        }
      ]
    },
    {
      "cell_type": "markdown",
      "source": [
        "- 추천 방법"
      ],
      "metadata": {
        "id": "IreOOCm_bpXu"
      }
    },
    {
      "cell_type": "code",
      "source": [
        "lux = {'health': 490, 'mana':334, 'melee':550, 'armor':18.72}\n",
        "lux2 = dict(zip(keys, values))"
      ],
      "metadata": {
        "id": "xLVYL3htbQen"
      },
      "execution_count": 33,
      "outputs": []
    },
    {
      "cell_type": "markdown",
      "source": [
        "### 12.2 딕셔너리 키에 접근하고 값 할당하기"
      ],
      "metadata": {
        "id": "4q6mgSWZc7Ch"
      }
    },
    {
      "cell_type": "code",
      "source": [
        "lux['mana']"
      ],
      "metadata": {
        "colab": {
          "base_uri": "https://localhost:8080/"
        },
        "id": "_Oiiwn-XbzA3",
        "outputId": "4ace9991-817e-4c7c-9b69-56e6bb63176d"
      },
      "execution_count": 34,
      "outputs": [
        {
          "output_type": "execute_result",
          "data": {
            "text/plain": [
              "334"
            ]
          },
          "metadata": {},
          "execution_count": 34
        }
      ]
    },
    {
      "cell_type": "code",
      "source": [
        "lux['armor'] = 21.34\n",
        "lux"
      ],
      "metadata": {
        "colab": {
          "base_uri": "https://localhost:8080/"
        },
        "id": "syF3DNHTdDJX",
        "outputId": "cba68cd0-4ddb-462a-8d97-561abb983aae"
      },
      "execution_count": 35,
      "outputs": [
        {
          "output_type": "execute_result",
          "data": {
            "text/plain": [
              "{'armor': 21.34, 'health': 490, 'mana': 334, 'melee': 550}"
            ]
          },
          "metadata": {},
          "execution_count": 35
        }
      ]
    },
    {
      "cell_type": "code",
      "source": [
        "lux['new'] = 'Kim'\n",
        "lux"
      ],
      "metadata": {
        "colab": {
          "base_uri": "https://localhost:8080/"
        },
        "id": "Dcunff95dMa_",
        "outputId": "048e7c14-1c7d-464d-f0ce-ac08af8a561e"
      },
      "execution_count": 36,
      "outputs": [
        {
          "output_type": "execute_result",
          "data": {
            "text/plain": [
              "{'armor': 21.34, 'health': 490, 'mana': 334, 'melee': 550, 'new': 'Kim'}"
            ]
          },
          "metadata": {},
          "execution_count": 36
        }
      ]
    },
    {
      "cell_type": "code",
      "source": [
        "#lux['origin']"
      ],
      "metadata": {
        "id": "T2qEoA9fdQln"
      },
      "execution_count": 38,
      "outputs": []
    },
    {
      "cell_type": "markdown",
      "source": [
        "- in 연산자: key 가 있는지 확인"
      ],
      "metadata": {
        "id": "L9-AHj4LgzUL"
      }
    },
    {
      "cell_type": "code",
      "source": [
        "'health' in lux"
      ],
      "metadata": {
        "colab": {
          "base_uri": "https://localhost:8080/"
        },
        "id": "7FaDV3-oeD_H",
        "outputId": "6e5af92a-34ec-4ba7-88f5-c3e4ad006bae"
      },
      "execution_count": 39,
      "outputs": [
        {
          "output_type": "execute_result",
          "data": {
            "text/plain": [
              "True"
            ]
          },
          "metadata": {},
          "execution_count": 39
        }
      ]
    },
    {
      "cell_type": "markdown",
      "source": [
        "- key 갯수"
      ],
      "metadata": {
        "id": "jQinRWA7haCz"
      }
    },
    {
      "cell_type": "code",
      "source": [
        "len(lux)"
      ],
      "metadata": {
        "colab": {
          "base_uri": "https://localhost:8080/"
        },
        "id": "-kGz6ZUVg7wi",
        "outputId": "8d1a77f5-fc2f-4ec7-d846-115f62374802"
      },
      "execution_count": 40,
      "outputs": [
        {
          "output_type": "execute_result",
          "data": {
            "text/plain": [
              "5"
            ]
          },
          "metadata": {},
          "execution_count": 40
        }
      ]
    },
    {
      "cell_type": "code",
      "source": [
        "lux"
      ],
      "metadata": {
        "colab": {
          "base_uri": "https://localhost:8080/"
        },
        "id": "L_FE1PsuiBSI",
        "outputId": "65c588e3-5040-4503-8c29-6177f4d7b13c"
      },
      "execution_count": 41,
      "outputs": [
        {
          "output_type": "execute_result",
          "data": {
            "text/plain": [
              "{'armor': 21.34, 'health': 490, 'mana': 334, 'melee': 550, 'new': 'Kim'}"
            ]
          },
          "metadata": {},
          "execution_count": 41
        }
      ]
    },
    {
      "cell_type": "code",
      "source": [
        ""
      ],
      "metadata": {
        "id": "_ofgnOQpiCKq"
      },
      "execution_count": null,
      "outputs": []
    }
  ]
}