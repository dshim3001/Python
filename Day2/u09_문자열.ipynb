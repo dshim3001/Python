{
  "nbformat": 4,
  "nbformat_minor": 0,
  "metadata": {
    "colab": {
      "name": "u09_문자열.ipynb",
      "provenance": [],
      "collapsed_sections": []
    },
    "kernelspec": {
      "name": "python3",
      "display_name": "Python 3"
    },
    "language_info": {
      "name": "python"
    }
  },
  "cells": [
    {
      "cell_type": "markdown",
      "source": [
        "# Unit 9. 문자열(String)"
      ],
      "metadata": {
        "id": "3sUp1dGhcSwl"
      }
    },
    {
      "cell_type": "markdown",
      "source": [
        "### 9.1 문자열 사용"
      ],
      "metadata": {
        "id": "6xLBYSwCecij"
      }
    },
    {
      "cell_type": "code",
      "execution_count": null,
      "metadata": {
        "colab": {
          "base_uri": "https://localhost:8080/",
          "height": 35
        },
        "id": "e1ZXl5LXcOhz",
        "outputId": "f9e9803e-f595-4ad5-d2de-f92f3b9580a8"
      },
      "outputs": [
        {
          "output_type": "execute_result",
          "data": {
            "text/plain": [
              "'Hello, world!\\n안녕하세요.\\nPython입니다.'"
            ],
            "application/vnd.google.colaboratory.intrinsic+json": {
              "type": "string"
            }
          },
          "metadata": {},
          "execution_count": 6
        }
      ],
      "source": [
        "multi_line = '''Hello, world!\n",
        "안녕하세요.\n",
        "Python입니다.'''\n",
        "multi_line"
      ]
    },
    {
      "cell_type": "code",
      "source": [
        "print(multi_line)"
      ],
      "metadata": {
        "colab": {
          "base_uri": "https://localhost:8080/"
        },
        "id": "iooCZmtKdd_3",
        "outputId": "7e528179-239a-46f5-e8dc-a46342a30c0f"
      },
      "execution_count": null,
      "outputs": [
        {
          "output_type": "stream",
          "name": "stdout",
          "text": [
            "Hello, world!\n",
            "안녕하세요.\n",
            "Python입니다.\n"
          ]
        }
      ]
    },
    {
      "cell_type": "code",
      "source": [
        "s1 = \"Python isn't difficult.\"\n",
        "s2 = 'He said \"They are all well.\"'\n",
        "print(s1, s2)"
      ],
      "metadata": {
        "colab": {
          "base_uri": "https://localhost:8080/"
        },
        "id": "1WepS0KgdhHo",
        "outputId": "ff3def79-44b3-4c22-b023-efd2a05d44f8"
      },
      "execution_count": null,
      "outputs": [
        {
          "output_type": "stream",
          "name": "stdout",
          "text": [
            "Python isn't difficult. He said \"They are all well.\"\n"
          ]
        }
      ]
    },
    {
      "cell_type": "code",
      "source": [
        "s = 'Python isn\\'t difficult'\n",
        "s"
      ],
      "metadata": {
        "colab": {
          "base_uri": "https://localhost:8080/",
          "height": 35
        },
        "id": "sgUKkAXRdsvw",
        "outputId": "c669cd57-032f-423d-b802-a3dec09884e5"
      },
      "execution_count": null,
      "outputs": [
        {
          "output_type": "execute_result",
          "data": {
            "text/plain": [
              "\"Python isn't difficult\""
            ],
            "application/vnd.google.colaboratory.intrinsic+json": {
              "type": "string"
            }
          },
          "metadata": {},
          "execution_count": 8
        }
      ]
    },
    {
      "cell_type": "code",
      "source": [
        "s = '안녕하세요?'\n",
        "s"
      ],
      "metadata": {
        "colab": {
          "base_uri": "https://localhost:8080/",
          "height": 35
        },
        "id": "o7vlwbaieVkr",
        "outputId": "4a9656b5-7b51-4018-f299-dfe21b4c9d27"
      },
      "execution_count": null,
      "outputs": [
        {
          "output_type": "execute_result",
          "data": {
            "text/plain": [
              "'안녕하세요?'"
            ],
            "application/vnd.google.colaboratory.intrinsic+json": {
              "type": "string"
            }
          },
          "metadata": {},
          "execution_count": 9
        }
      ]
    },
    {
      "cell_type": "code",
      "source": [
        ""
      ],
      "metadata": {
        "id": "8UFcOsf-eYQq"
      },
      "execution_count": null,
      "outputs": []
    }
  ]
}