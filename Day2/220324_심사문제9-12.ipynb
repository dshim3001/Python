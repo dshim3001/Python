{
 "cells": [
  {
   "cell_type": "markdown",
   "metadata": {},
   "source": [
    "### 심사문제 9.4: 여러 줄로 된 문자열 사용하기"
   ]
  },
  {
   "cell_type": "code",
   "execution_count": 4,
   "metadata": {},
   "outputs": [
    {
     "name": "stdout",
     "output_type": "stream",
     "text": [
      "'Python' is a \"programming language\"\n",
      " that lets you work quickly\n",
      " and\n",
      " integrate systems more effectively.\n"
     ]
    }
   ],
   "source": [
    "# 다음 소스 코드를 완성하여 실행 결과대로 문자열이 출력되게 만드세요.\n",
    "# 결과\n",
    "# 'Python' is a \"programming language\"\n",
    "# that lets you work quickly\n",
    "# and\n",
    "# integrate systems more effectively.\n",
    "\n",
    "s = \"\"\"'Python' is a \"programming language\"\n",
    " that lets you work quickly\n",
    " and\n",
    " integrate systems more effectively.\"\"\"\n",
    "print(s)"
   ]
  },
  {
   "cell_type": "markdown",
   "metadata": {},
   "source": [
    "### 심사문제 10.5: range로 튜플 만들기"
   ]
  },
  {
   "cell_type": "code",
   "execution_count": 16,
   "metadata": {},
   "outputs": [
    {
     "name": "stdout",
     "output_type": "stream",
     "text": [
      "(-10, -7, -4, -1, 2, 5, 8)\n"
     ]
    }
   ],
   "source": [
    "# 표준 입력으로 정수가 입력됩니다. \n",
    "# range의 시작하는 숫자는 -10, 끝나는 숫자는 10이며 \n",
    "# 입력된 정수만큼 증가하는 숫자가 들어가도록 튜플을 만들고, \n",
    "# 해당 튜플을 출력하는 프로그램을 만드세요\n",
    "# (input에서 안내 문자열은 출력하지 않아야 합니다).\n",
    "\n",
    "x = int(input())\n",
    "a = tuple(range(-10, 10, x))\n",
    "print(a)"
   ]
  },
  {
   "cell_type": "markdown",
   "metadata": {},
   "source": [
    "### 심사문제 11.8: 리스트의 마지막 부분 삭제하기"
   ]
  },
  {
   "cell_type": "code",
   "execution_count": 28,
   "metadata": {},
   "outputs": [
    {
     "name": "stdout",
     "output_type": "stream",
     "text": [
      "['oven', 'bat', 'pony', 'total', 'leak', 'wreck', 'curl']\n"
     ]
    }
   ],
   "source": [
    "# 표준 입력으로 숫자 또는 문자열 여러 개가 입력되어 리스트 x에 저장됩니다\n",
    "# (입력되는 숫자 또는 문자열의 개수는 정해져 있지 않음). \n",
    "# 다음 소스 코드를 완성하여 리스트 x의 마지막 요소 5개를 삭제한 뒤 \n",
    "# 튜플로 출력되게 만드세요.\n",
    "\n",
    "x = input().split()\n",
    "l = len(x)-5\n",
    "del x[l:]\n",
    "tuple(x)\n",
    "print(x)"
   ]
  },
  {
   "cell_type": "markdown",
   "metadata": {},
   "source": [
    "### 심사문제 11.9: 문자열에서 인덱스가 홀수인 문자와 짝수인 문자 연결하기"
   ]
  },
  {
   "cell_type": "code",
   "execution_count": 31,
   "metadata": {},
   "outputs": [
    {
     "name": "stdout",
     "output_type": "stream",
     "text": [
      "plsrwer\n"
     ]
    }
   ],
   "source": [
    "# 표준 입력으로 문자열 두 개가 각 줄에 입력됩니다\n",
    "# (문자열의 길이는 정해져 있지 않음). \n",
    "# 첫 번째 문자열에서 인덱스가 홀수인 문자와 두 번째 문자열에서 \n",
    "# 인덱스가 짝수인 문자를 연결하여 출력하는 프로그램을 만드세요\n",
    "# (input에서 안내 문자열은 출력하지 않아야 합니다). \n",
    "# 연결 순서는 첫 번째 문자열, 두 번째 문자열 순입니다. \n",
    "# 그리고 0은 짝수로 처리합니다.\n",
    "\n",
    "x = input()\n",
    "y = input()\n",
    "x1 = x[1::2]\n",
    "y1 = y[0::2]\n",
    "print(x1+y1)\n"
   ]
  },
  {
   "cell_type": "markdown",
   "metadata": {},
   "source": [
    "### 심사문제 12.5: 딕셔너리에 게임 캐릭터 능력치 저장하기"
   ]
  },
  {
   "cell_type": "code",
   "execution_count": 33,
   "metadata": {},
   "outputs": [
    {
     "name": "stdout",
     "output_type": "stream",
     "text": [
      "{'health': 573.6, 'mana': 308.8, 'melee': 600.0, 'attack_speed': 0.625, 'magic_resistance': 35.7}\n"
     ]
    }
   ],
   "source": [
    "# 표준 입력으로 문자열 여러 개와 숫자(실수) 여러 개가 두 줄로 입력됩니다. \n",
    "# 입력된 첫 번째 줄은 키, 두 번째 줄은 값으로 하여 딕셔너리를 생성한 뒤 \n",
    "# 딕셔너리를 출력하는 프로그램을 만드세요. \n",
    "# input().split()의 결과를 변수 한 개에 저장하면 리스트로 저장됩니다.\n",
    "\n",
    "keys = input().split()\n",
    "values = map(float, input().split())\n",
    "lux = dict(zip(keys, values))\n",
    "print(lux)"
   ]
  },
  {
   "cell_type": "code",
   "execution_count": null,
   "metadata": {},
   "outputs": [],
   "source": []
  }
 ],
 "metadata": {
  "interpreter": {
   "hash": "0e57b3e1c71b752f2155407481283ac520614bed1fdf3f32bca2723a92a6c7b4"
  },
  "kernelspec": {
   "display_name": "Python 3.9.7 ('base')",
   "language": "python",
   "name": "python3"
  },
  "language_info": {
   "codemirror_mode": {
    "name": "ipython",
    "version": 3
   },
   "file_extension": ".py",
   "mimetype": "text/x-python",
   "name": "python",
   "nbconvert_exporter": "python",
   "pygments_lexer": "ipython3",
   "version": "3.9.7"
  },
  "orig_nbformat": 4
 },
 "nbformat": 4,
 "nbformat_minor": 2
}
